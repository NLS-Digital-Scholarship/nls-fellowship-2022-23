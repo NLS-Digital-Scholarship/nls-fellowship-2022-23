{
 "cells": [
  {
   "cell_type": "code",
   "execution_count": 1,
   "id": "62b0a9b5",
   "metadata": {},
   "outputs": [],
   "source": [
    "from rdflib import Graph\n",
    "\n",
    "# Create a Graph\n",
    "g = Graph().parse(\"../rdf/movingImageArchiveEnriched.rdf\")"
   ]
  },
  {
   "cell_type": "markdown",
   "id": "8c8756a3",
   "metadata": {},
   "source": [
    "### Number of classes"
   ]
  },
  {
   "cell_type": "code",
   "execution_count": 2,
   "id": "19f0fd80",
   "metadata": {},
   "outputs": [
    {
     "name": "stdout",
     "output_type": "stream",
     "text": [
      "##### Number of classes:\n",
      "8\n"
     ]
    }
   ],
   "source": [
    "print('##### Number of classes:')\n",
    "\n",
    "# Query the data in g using SPARQL\n",
    "q = \"\"\"\n",
    "    SELECT (count(distinct ?class) as ?classes)\n",
    "    WHERE {\n",
    "        ?s a ?class .\n",
    "    }\n",
    "\"\"\"\n",
    "\n",
    "# Apply the query to the graph and iterate through results\n",
    "for r in g.query(q):\n",
    "    print(r[\"classes\"])"
   ]
  },
  {
   "cell_type": "markdown",
   "id": "55571ad2",
   "metadata": {},
   "source": [
    "### Classes"
   ]
  },
  {
   "cell_type": "code",
   "execution_count": 3,
   "id": "fb07a7f7",
   "metadata": {},
   "outputs": [
    {
     "name": "stdout",
     "output_type": "stream",
     "text": [
      "##### Classes:\n",
      "http://schema.org/VideoObject\n",
      "http://schema.org/Organization\n",
      "http://xmlns.com/foaf/0.1/Organization\n",
      "http://www.europeana.eu/schemas/edm/Place\n",
      "http://schema.org/Place\n",
      "http://www.w3.org/2004/02/skos/core#Concept\n",
      "http://schema.org/Person\n",
      "http://xmlns.com/foaf/0.1/Person\n"
     ]
    }
   ],
   "source": [
    "print('##### Classes:')\n",
    "\n",
    "# Query the data in g using SPARQL\n",
    "q = \"\"\"\n",
    "    SELECT distinct ?class\n",
    "    WHERE {\n",
    "        ?s a ?class .\n",
    "    }\n",
    "\"\"\"\n",
    "\n",
    "# Apply the query to the graph and iterate through results\n",
    "for r in g.query(q):\n",
    "    print(r[\"class\"])"
   ]
  },
  {
   "cell_type": "markdown",
   "id": "2b5db07c",
   "metadata": {},
   "source": [
    "### Number of properties"
   ]
  },
  {
   "cell_type": "code",
   "execution_count": 4,
   "id": "79e6ec69",
   "metadata": {},
   "outputs": [
    {
     "name": "stdout",
     "output_type": "stream",
     "text": [
      "##### Number of properties:\n",
      "21\n"
     ]
    }
   ],
   "source": [
    "print('##### Number of properties:')\n",
    "\n",
    "# Query the data in g using SPARQL\n",
    "q = \"\"\"\n",
    "    SELECT (count(distinct ?prop) as ?properties)\n",
    "    WHERE {\n",
    "        ?s ?prop ?o .\n",
    "    }\n",
    "\"\"\"\n",
    "\n",
    "# Apply the query to the graph and iterate through results\n",
    "for r in g.query(q):\n",
    "    print(r[\"properties\"])"
   ]
  },
  {
   "cell_type": "markdown",
   "id": "bd167a71",
   "metadata": {},
   "source": [
    "### Properties"
   ]
  },
  {
   "cell_type": "code",
   "execution_count": 5,
   "id": "b76d270b",
   "metadata": {},
   "outputs": [
    {
     "name": "stdout",
     "output_type": "stream",
     "text": [
      "##### Properties:\n",
      "http://schema.org/videoQuality\n",
      "http://schema.org/abstract\n",
      "http://www.w3.org/1999/02/22-rdf-syntax-ns#type\n",
      "http://purl.org/dc/terms/spatial\n",
      "http://schema.org/duration\n",
      "http://schema.org/creditText\n",
      "http://schema.org/sourceOrganization\n",
      "http://schema.org/name\n",
      "http://schema.org/identifier\n",
      "http://purl.org/dc/elements/1.1/subject\n",
      "http://www.w3.org/2003/01/geo/wgs84_pos#lat\n",
      "http://schema.org/datePublished\n",
      "http://www.w3.org/2002/07/owl#sameAs\n",
      "http://schema.org/author\n",
      "http://schema.org/creator\n",
      "http://www.w3.org/2003/01/geo/wgs84_pos#long\n",
      "http://www.w3.org/2004/02/skos/core#prefLabel\n",
      "http://schema.org/givenName\n",
      "http://xmlns.com/foaf/0.1/name\n",
      "http://schema.org/url\n",
      "http://schema.org/logo\n"
     ]
    }
   ],
   "source": [
    "print('##### Properties:')\n",
    "\n",
    "# Query the data in g using SPARQL\n",
    "q = \"\"\"\n",
    "    SELECT distinct ?prop\n",
    "    WHERE {\n",
    "        ?s ?prop ?o .\n",
    "    }\n",
    "\"\"\"\n",
    "\n",
    "# Apply the query to the graph and iterate through results\n",
    "for r in g.query(q):\n",
    "    print(r[\"prop\"])"
   ]
  },
  {
   "cell_type": "markdown",
   "id": "2781494e",
   "metadata": {},
   "source": [
    "### Number of external links"
   ]
  },
  {
   "cell_type": "code",
   "execution_count": 6,
   "id": "6f8e1ca9",
   "metadata": {},
   "outputs": [
    {
     "name": "stdout",
     "output_type": "stream",
     "text": [
      "##### Number of owl:sameAs properties:\n",
      "75\n"
     ]
    }
   ],
   "source": [
    "print('##### Number of owl:sameAs properties:')\n",
    "    \n",
    "# Query the data in g using SPARQL\n",
    "q = \"\"\"\n",
    "    SELECT (count(distinct ?sameAs) as ?total)\n",
    "    WHERE {\n",
    "        ?p owl:sameAs ?sameAs .\n",
    "    }\n",
    "\"\"\"\n",
    "\n",
    "# Apply the query to the graph and iterate through results\n",
    "for r in g.query(q):\n",
    "    print(r[\"total\"])"
   ]
  },
  {
   "cell_type": "markdown",
   "id": "49e828cd",
   "metadata": {},
   "source": [
    "### Number of triples"
   ]
  },
  {
   "cell_type": "code",
   "execution_count": 8,
   "id": "bae40ae0",
   "metadata": {},
   "outputs": [
    {
     "name": "stdout",
     "output_type": "stream",
     "text": [
      "##### Number of triples:\n",
      "191427\n"
     ]
    }
   ],
   "source": [
    "print('##### Number of triples:')\n",
    "    \n",
    "# Query the data in g using SPARQL\n",
    "q = \"\"\"\n",
    "    SELECT (COUNT(*) as ?triples) \n",
    "    WHERE { ?s ?p ?o } \n",
    "\"\"\"\n",
    "\n",
    "# Apply the query to the graph and iterate through results\n",
    "for r in g.query(q):\n",
    "    print(r[\"triples\"])"
   ]
  },
  {
   "cell_type": "markdown",
   "id": "aa8b599f",
   "metadata": {},
   "source": [
    "### Number of authors"
   ]
  },
  {
   "cell_type": "code",
   "execution_count": 9,
   "id": "b6f707ee",
   "metadata": {},
   "outputs": [
    {
     "name": "stdout",
     "output_type": "stream",
     "text": [
      "##### Number of authors:\n",
      "112\n"
     ]
    }
   ],
   "source": [
    "print('##### Number of authors:')\n",
    "    \n",
    "# Query the data in g using SPARQL\n",
    "q = \"\"\"\n",
    "    PREFIX foaf: <http://xmlns.com/foaf/0.1/>\n",
    "    SELECT (COUNT(*) as ?authors) \n",
    "    WHERE { ?s ?p ?o . ?s a foaf:Person} \n",
    "\"\"\"\n",
    "\n",
    "# Apply the query to the graph and iterate through results\n",
    "for r in g.query(q):\n",
    "    print(r[\"authors\"])"
   ]
  },
  {
   "cell_type": "markdown",
   "id": "3322a1fc",
   "metadata": {},
   "source": [
    "### Authors"
   ]
  },
  {
   "cell_type": "code",
   "execution_count": 10,
   "id": "6e346b31",
   "metadata": {},
   "outputs": [
    {
     "name": "stderr",
     "output_type": "stream",
     "text": [
      "http://example.org/author/walkerwilliam  does not look like a valid URI, trying to serialize this will break.\n",
      "http://example.org/author/walkerwilliam WALKER, William does not look like a valid URI, trying to serialize this will break.\n",
      "http://example.org/author/cooperhenry  does not look like a valid URI, trying to serialize this will break.\n",
      "http://example.org/author/cooperhenry COOPER, Henry does not look like a valid URI, trying to serialize this will break.\n",
      "http://example.org/author/irvinemalcolm  does not look like a valid URI, trying to serialize this will break.\n",
      "http://example.org/author/irvinemalcolm IRVINE, Malcolm does not look like a valid URI, trying to serialize this will break.\n",
      "http://example.org/author/elderjohnc  does not look like a valid URI, trying to serialize this will break.\n",
      "http://example.org/author/elderjohnc ELDER, John C does not look like a valid URI, trying to serialize this will break.\n",
      "http://example.org/author/taggartnan  does not look like a valid URI, trying to serialize this will break.\n",
      "http://example.org/author/taggartnan Taggart, Nan does not look like a valid URI, trying to serialize this will break.\n",
      "http://example.org/author/loorijjanpaulusjack  does not look like a valid URI, trying to serialize this will break.\n",
      "http://example.org/author/loorijjanpaulusjack LOORIJ, Jan Paulus (Jack) does not look like a valid URI, trying to serialize this will break.\n",
      "http://example.org/author/birrellharry  does not look like a valid URI, trying to serialize this will break.\n",
      "http://example.org/author/birrellharry Birrell, Harry does not look like a valid URI, trying to serialize this will break.\n",
      "http://example.org/author/grayalexanderjoe  does not look like a valid URI, trying to serialize this will break.\n",
      "http://example.org/author/grayalexanderjoe GRAY, Alexander ‘Joe’ does not look like a valid URI, trying to serialize this will break.\n",
      "http://example.org/author/cocozzaenrico  does not look like a valid URI, trying to serialize this will break.\n",
      "http://example.org/author/cocozzaenrico COCOZZA, Enrico does not look like a valid URI, trying to serialize this will break.\n",
      "http://example.org/author/harperalanjames  does not look like a valid URI, trying to serialize this will break.\n",
      "http://example.org/author/harperalanjames HARPER, Alan James does not look like a valid URI, trying to serialize this will break.\n",
      "http://example.org/author/dicksonlouis  does not look like a valid URI, trying to serialize this will break.\n",
      "http://example.org/author/dicksonlouis DICKSON, Louis does not look like a valid URI, trying to serialize this will break.\n",
      "http://example.org/author/grigormurray  does not look like a valid URI, trying to serialize this will break.\n",
      "http://example.org/author/grigormurray Grigor, Murray does not look like a valid URI, trying to serialize this will break.\n",
      "http://example.org/author/jayronaldl  does not look like a valid URI, trying to serialize this will break.\n",
      "http://example.org/author/jayronaldl JAY, Ronald L. does not look like a valid URI, trying to serialize this will break.\n",
      "http://example.org/author/hutchisonisobelwylie  does not look like a valid URI, trying to serialize this will break.\n",
      "http://example.org/author/hutchisonisobelwylie HUTCHISON, Isobel Wylie does not look like a valid URI, trying to serialize this will break.\n",
      "http://example.org/author/gilbertsonjennyisabelneebrown  does not look like a valid URI, trying to serialize this will break.\n",
      "http://example.org/author/gilbertsonjennyisabelneebrown GILBERTSON, Jenny Isabel (nee Brown) does not look like a valid URI, trying to serialize this will break.\n",
      "http://example.org/author/nairnjamess  does not look like a valid URI, trying to serialize this will break.\n",
      "http://example.org/author/nairnjamess NAIRN, James S. does not look like a valid URI, trying to serialize this will break.\n",
      "http://example.org/author/gillespiejamesstirling  does not look like a valid URI, trying to serialize this will break.\n",
      "http://example.org/author/gillespiejamesstirling GILLESPIE, James Stirling does not look like a valid URI, trying to serialize this will break.\n",
      "http://example.org/author/riddell-blackrobert  does not look like a valid URI, trying to serialize this will break.\n",
      "http://example.org/author/riddell-blackrobert RIDDELL-BLACK, Robert does not look like a valid URI, trying to serialize this will break.\n",
      "http://example.org/author/ogamfilms/oscarmarzaroli  does not look like a valid URI, trying to serialize this will break.\n",
      "http://example.org/author/ogamfilms/oscarmarzaroli Ogam Films / Oscar Marzaroli does not look like a valid URI, trying to serialize this will break.\n",
      "http://example.org/author/mickeldouglas  does not look like a valid URI, trying to serialize this will break.\n",
      "http://example.org/author/mickeldouglas MICKEL, Douglas does not look like a valid URI, trying to serialize this will break.\n",
      "http://example.org/author/neelyanne  does not look like a valid URI, trying to serialize this will break.\n",
      "http://example.org/author/neelyanne NEELY, Anne does not look like a valid URI, trying to serialize this will break.\n",
      "http://example.org/author/russellstanleylivingstone  does not look like a valid URI, trying to serialize this will break.\n",
      "http://example.org/author/russellstanleylivingstone RUSSELL, Stanley Livingstone does not look like a valid URI, trying to serialize this will break.\n",
      "http://example.org/author/macleanwilliamjmac  does not look like a valid URI, trying to serialize this will break.\n",
      "http://example.org/author/macleanwilliamjmac MacLEAN, William J. ‘Mac’ does not look like a valid URI, trying to serialize this will break.\n",
      "http://example.org/author/glasgowcorporation  does not look like a valid URI, trying to serialize this will break.\n",
      "http://example.org/author/glasgowcorporation Glasgow Corporation does not look like a valid URI, trying to serialize this will break.\n",
      "http://example.org/author/taitmargaret  does not look like a valid URI, trying to serialize this will break.\n",
      "http://example.org/author/taitmargaret TAIT, Margaret does not look like a valid URI, trying to serialize this will break.\n",
      "http://example.org/author/colonelarthureirvineandrichardirvinecollection  does not look like a valid URI, trying to serialize this will break.\n",
      "http://example.org/author/colonelarthureirvineandrichardirvinecollection Colonel Arthur E Irvine and Richard Irvine Collection does not look like a valid URI, trying to serialize this will break.\n",
      "http://example.org/author/hartjames  does not look like a valid URI, trying to serialize this will break.\n",
      "http://example.org/author/hartjames HART, James does not look like a valid URI, trying to serialize this will break.\n",
      "http://example.org/author/annandlouise  does not look like a valid URI, trying to serialize this will break.\n",
      "http://example.org/author/annandlouise Annand, Louise does not look like a valid URI, trying to serialize this will break.\n"
     ]
    },
    {
     "name": "stdout",
     "output_type": "stream",
     "text": [
      "##### List of authors:\n",
      "http://example.org/author/walkerwilliam WALKER, William\n",
      "http://example.org/author/cooperhenry COOPER, Henry\n",
      "http://example.org/author/irvinemalcolm IRVINE, Malcolm\n",
      "http://example.org/author/elderjohnc ELDER, John C\n",
      "http://example.org/author/taggartnan Taggart, Nan\n",
      "http://example.org/author/loorijjanpaulusjack LOORIJ, Jan Paulus (Jack)\n",
      "http://example.org/author/birrellharry Birrell, Harry\n",
      "http://example.org/author/grayalexanderjoe GRAY, Alexander ‘Joe’\n",
      "http://example.org/author/cocozzaenrico COCOZZA, Enrico\n",
      "http://example.org/author/harperalanjames HARPER, Alan James\n",
      "http://example.org/author/dicksonlouis DICKSON, Louis\n",
      "http://example.org/author/grigormurray Grigor, Murray\n",
      "http://example.org/author/jayronaldl JAY, Ronald L.\n",
      "http://example.org/author/hutchisonisobelwylie HUTCHISON, Isobel Wylie\n",
      "http://example.org/author/gilbertsonjennyisabelneebrown GILBERTSON, Jenny Isabel (nee Brown)\n",
      "http://example.org/author/nairnjamess NAIRN, James S.\n",
      "http://example.org/author/gillespiejamesstirling GILLESPIE, James Stirling\n",
      "http://example.org/author/riddell-blackrobert RIDDELL-BLACK, Robert\n",
      "http://example.org/author/ogamfilms/oscarmarzaroli Ogam Films / Oscar Marzaroli\n",
      "http://example.org/author/mickeldouglas MICKEL, Douglas\n",
      "http://example.org/author/neelyanne NEELY, Anne\n",
      "http://example.org/author/russellstanleylivingstone RUSSELL, Stanley Livingstone\n",
      "http://example.org/author/macleanwilliamjmac MacLEAN, William J. ‘Mac’\n",
      "http://example.org/author/glasgowcorporation Glasgow Corporation\n",
      "http://example.org/author/taitmargaret TAIT, Margaret\n",
      "http://example.org/author/colonelarthureirvineandrichardirvinecollection Colonel Arthur E Irvine and Richard Irvine Collection\n",
      "http://example.org/author/hartjames HART, James\n",
      "http://example.org/author/annandlouise Annand, Louise\n"
     ]
    }
   ],
   "source": [
    "print('##### List of authors:')\n",
    "    \n",
    "# Query the data in g using SPARQL\n",
    "q = \"\"\"\n",
    "    PREFIX foaf: <http://xmlns.com/foaf/0.1/>\n",
    "    SELECT ?s ?name \n",
    "    WHERE {?s a foaf:Person . ?s foaf:name ?name} \n",
    "\"\"\"\n",
    "\n",
    "# Apply the query to the graph and iterate through results\n",
    "for r in g.query(q):\n",
    "    print(r[\"s\"] + \" \" + r[\"name\"])"
   ]
  },
  {
   "cell_type": "markdown",
   "id": "5bbe3c00",
   "metadata": {},
   "source": [
    "### Organizations"
   ]
  },
  {
   "cell_type": "code",
   "execution_count": 11,
   "id": "a9254113",
   "metadata": {},
   "outputs": [
    {
     "name": "stdout",
     "output_type": "stream",
     "text": [
      "##### Number of organizations:\n",
      "40\n"
     ]
    }
   ],
   "source": [
    "print('##### Number of organizations:')\n",
    "    \n",
    "# Query the data in g using SPARQL\n",
    "q = \"\"\"\n",
    "    PREFIX foaf: <http://xmlns.com/foaf/0.1/>\n",
    "    SELECT (COUNT(*) as ?orgs) \n",
    "    WHERE { ?s ?p ?o . ?s a foaf:Organization} \n",
    "\"\"\"\n",
    "\n",
    "# Apply the query to the graph and iterate through results\n",
    "for r in g.query(q):\n",
    "    print(r[\"orgs\"])"
   ]
  },
  {
   "cell_type": "markdown",
   "id": "4594e18f",
   "metadata": {},
   "source": [
    "### Concepts"
   ]
  },
  {
   "cell_type": "code",
   "execution_count": 13,
   "id": "8ed1cc57",
   "metadata": {},
   "outputs": [
    {
     "name": "stdout",
     "output_type": "stream",
     "text": [
      "##### Number of organizations:\n",
      "188\n"
     ]
    }
   ],
   "source": [
    "print('##### Number of organizations:')\n",
    "    \n",
    "# Query the data in g using SPARQL\n",
    "q = \"\"\"\n",
    "    PREFIX skos: <http://www.w3.org/2004/02/skos/core#>\n",
    "    SELECT (COUNT(*) as ?terms) \n",
    "    WHERE { ?s ?p ?o . ?s a skos:Concept} \n",
    "\"\"\"\n",
    "\n",
    "# Apply the query to the graph and iterate through results\n",
    "for r in g.query(q):\n",
    "    print(r[\"terms\"])"
   ]
  },
  {
   "cell_type": "markdown",
   "id": "4cf48b50",
   "metadata": {},
   "source": [
    "### List of terms"
   ]
  },
  {
   "cell_type": "code",
   "execution_count": 15,
   "id": "4821fe9d",
   "metadata": {},
   "outputs": [
    {
     "name": "stderr",
     "output_type": "stream",
     "text": [
      "http://example.org/term/education  does not look like a valid URI, trying to serialize this will break.\n",
      "http://example.org/term/education Education does not look like a valid URI, trying to serialize this will break.\n",
      "http://example.org/term/camping  does not look like a valid URI, trying to serialize this will break.\n",
      "http://example.org/term/camping Camping does not look like a valid URI, trying to serialize this will break.\n",
      "http://example.org/term/warcrimes  does not look like a valid URI, trying to serialize this will break.\n",
      "http://example.org/term/warcrimes War Crimes does not look like a valid URI, trying to serialize this will break.\n",
      "http://example.org/term/fireservice  does not look like a valid URI, trying to serialize this will break.\n",
      "http://example.org/term/fireservice Fire Service does not look like a valid URI, trying to serialize this will break.\n",
      "http://example.org/term/spring  does not look like a valid URI, trying to serialize this will break.\n",
      "http://example.org/term/spring Spring does not look like a valid URI, trying to serialize this will break.\n",
      "http://example.org/term/royalty  does not look like a valid URI, trying to serialize this will break.\n",
      "http://example.org/term/royalty Royalty does not look like a valid URI, trying to serialize this will break.\n",
      "http://example.org/term/celebrations-traditionsandcustoms  does not look like a valid URI, trying to serialize this will break.\n",
      "http://example.org/term/celebrations-traditionsandcustoms Celebrations, Traditions and Customs does not look like a valid URI, trying to serialize this will break.\n",
      "http://example.org/term/reptiles  does not look like a valid URI, trying to serialize this will break.\n",
      "http://example.org/term/reptiles Reptiles does not look like a valid URI, trying to serialize this will break.\n",
      "http://example.org/term/highlandgames  does not look like a valid URI, trying to serialize this will break.\n",
      "http://example.org/term/highlandgames Highland Games does not look like a valid URI, trying to serialize this will break.\n",
      "http://example.org/term/environment  does not look like a valid URI, trying to serialize this will break.\n",
      "http://example.org/term/environment Environment does not look like a valid URI, trying to serialize this will break.\n",
      "http://example.org/term/hogmanay  does not look like a valid URI, trying to serialize this will break.\n",
      "http://example.org/term/hogmanay Hogmanay does not look like a valid URI, trying to serialize this will break.\n",
      "http://example.org/term/crime-punishmentandlawenforcement  does not look like a valid URI, trying to serialize this will break.\n",
      "http://example.org/term/crime-punishmentandlawenforcement Crime, Punishment and Law Enforcement does not look like a valid URI, trying to serialize this will break.\n",
      "http://example.org/term/musichall  does not look like a valid URI, trying to serialize this will break.\n",
      "http://example.org/term/musichall Music Hall does not look like a valid URI, trying to serialize this will break.\n",
      "http://example.org/term/fishgutting  does not look like a valid URI, trying to serialize this will break.\n",
      "http://example.org/term/fishgutting Fish Gutting does not look like a valid URI, trying to serialize this will break.\n",
      "http://example.org/term/bulldozers  does not look like a valid URI, trying to serialize this will break.\n",
      "http://example.org/term/bulldozers Bulldozers does not look like a valid URI, trying to serialize this will break.\n",
      "http://example.org/term/military-the  does not look like a valid URI, trying to serialize this will break.\n",
      "http://example.org/term/military-the Military, the does not look like a valid URI, trying to serialize this will break.\n",
      "http://example.org/term/ceremonies  does not look like a valid URI, trying to serialize this will break.\n",
      "http://example.org/term/ceremonies Ceremonies does not look like a valid URI, trying to serialize this will break.\n",
      "http://example.org/term/paddlesteamers  does not look like a valid URI, trying to serialize this will break.\n",
      "http://example.org/term/paddlesteamers Paddle Steamers does not look like a valid URI, trying to serialize this will break.\n",
      "http://example.org/term/scienceandtechnology  does not look like a valid URI, trying to serialize this will break.\n",
      "http://example.org/term/scienceandtechnology Politics does not look like a valid URI, trying to serialize this will break.\n",
      "http://example.org/term/scienceandtechnology  does not look like a valid URI, trying to serialize this will break.\n",
      "http://example.org/term/scienceandtechnology Science and Technology does not look like a valid URI, trying to serialize this will break.\n",
      "http://example.org/term/lifeboats  does not look like a valid URI, trying to serialize this will break.\n",
      "http://example.org/term/lifeboats Lifeboats does not look like a valid URI, trying to serialize this will break.\n",
      "http://example.org/term/peatandpeatcutting  does not look like a valid URI, trying to serialize this will break.\n",
      "http://example.org/term/peatandpeatcutting Peat and Peat Cutting does not look like a valid URI, trying to serialize this will break.\n",
      "http://example.org/term/agriculture  does not look like a valid URI, trying to serialize this will break.\n",
      "http://example.org/term/agriculture Agriculture does not look like a valid URI, trying to serialize this will break.\n",
      "http://example.org/term/disillusionment  does not look like a valid URI, trying to serialize this will break.\n",
      "http://example.org/term/disillusionment Disillusionment does not look like a valid URI, trying to serialize this will break.\n",
      "http://example.org/term/fishmarkets  does not look like a valid URI, trying to serialize this will break.\n",
      "http://example.org/term/fishmarkets Fish Markets does not look like a valid URI, trying to serialize this will break.\n",
      "http://example.org/term/emotions-attitudesandbehaviour  does not look like a valid URI, trying to serialize this will break.\n",
      "http://example.org/term/emotions-attitudesandbehaviour Emotions, Attitudes and Behaviour does not look like a valid URI, trying to serialize this will break.\n",
      "http://example.org/term/fishandfishing  does not look like a valid URI, trying to serialize this will break.\n",
      "http://example.org/term/fishandfishing Fish and Fishing does not look like a valid URI, trying to serialize this will break.\n",
      "http://example.org/term/broadcasting-general  does not look like a valid URI, trying to serialize this will break.\n",
      "http://example.org/term/broadcasting-general Broadcasting, general does not look like a valid URI, trying to serialize this will break.\n",
      "http://example.org/term/forthriver  does not look like a valid URI, trying to serialize this will break.\n",
      "http://example.org/term/forthriver Forth River does not look like a valid URI, trying to serialize this will break.\n",
      "http://example.org/term/artandartists-general  does not look like a valid URI, trying to serialize this will break.\n",
      "http://example.org/term/artandartists-general Architecture and Buildings does not look like a valid URI, trying to serialize this will break.\n",
      "http://example.org/term/artandartists-general  does not look like a valid URI, trying to serialize this will break.\n",
      "http://example.org/term/artandartists-general Home Life does not look like a valid URI, trying to serialize this will break.\n",
      "http://example.org/term/artandartists-general  does not look like a valid URI, trying to serialize this will break.\n",
      "http://example.org/term/artandartists-general Art and Artists, general   does not look like a valid URI, trying to serialize this will break.\n",
      "http://example.org/term/britishempire-the  does not look like a valid URI, trying to serialize this will break.\n",
      "http://example.org/term/britishempire-the British Empire, the does not look like a valid URI, trying to serialize this will break.\n",
      "http://example.org/term/homelife  does not look like a valid URI, trying to serialize this will break.\n",
      "http://example.org/term/homelife Art and Artists, general   does not look like a valid URI, trying to serialize this will break.\n",
      "http://example.org/term/homelife  does not look like a valid URI, trying to serialize this will break.\n",
      "http://example.org/term/homelife Home Life does not look like a valid URI, trying to serialize this will break.\n",
      "http://example.org/term/war  does not look like a valid URI, trying to serialize this will break.\n"
     ]
    },
    {
     "name": "stderr",
     "output_type": "stream",
     "text": [
      "http://example.org/term/war War does not look like a valid URI, trying to serialize this will break.\n",
      "http://example.org/term/restaurants  does not look like a valid URI, trying to serialize this will break.\n",
      "http://example.org/term/restaurants Restaurants does not look like a valid URI, trying to serialize this will break.\n",
      "http://example.org/term/revenge  does not look like a valid URI, trying to serialize this will break.\n",
      "http://example.org/term/revenge Revenge does not look like a valid URI, trying to serialize this will break.\n",
      "http://example.org/term/airraids  does not look like a valid URI, trying to serialize this will break.\n",
      "http://example.org/term/airraids Air Raids does not look like a valid URI, trying to serialize this will break.\n",
      "http://example.org/term/religion  does not look like a valid URI, trying to serialize this will break.\n",
      "http://example.org/term/religion Religion does not look like a valid URI, trying to serialize this will break.\n",
      "http://example.org/term/music  does not look like a valid URI, trying to serialize this will break.\n",
      "http://example.org/term/music Music does not look like a valid URI, trying to serialize this will break.\n",
      "http://example.org/term/buddhism  does not look like a valid URI, trying to serialize this will break.\n",
      "http://example.org/term/buddhism Buddhism does not look like a valid URI, trying to serialize this will break.\n",
      "http://example.org/term/leisureandrecreation  does not look like a valid URI, trying to serialize this will break.\n",
      "http://example.org/term/leisureandrecreation Leisure and Recreation does not look like a valid URI, trying to serialize this will break.\n",
      "http://example.org/term/transport  does not look like a valid URI, trying to serialize this will break.\n",
      "http://example.org/term/transport Transport does not look like a valid URI, trying to serialize this will break.\n",
      "http://example.org/term/architectureandbuildings  does not look like a valid URI, trying to serialize this will break.\n",
      "http://example.org/term/architectureandbuildings Art and Artists, general   does not look like a valid URI, trying to serialize this will break.\n",
      "http://example.org/term/architectureandbuildings  does not look like a valid URI, trying to serialize this will break.\n",
      "http://example.org/term/architectureandbuildings Architecture and Buildings does not look like a valid URI, trying to serialize this will break.\n",
      "http://example.org/term/reservoirs  does not look like a valid URI, trying to serialize this will break.\n",
      "http://example.org/term/reservoirs Reservoirs does not look like a valid URI, trying to serialize this will break.\n",
      "http://example.org/term/tourismandtravel  does not look like a valid URI, trying to serialize this will break.\n",
      "http://example.org/term/tourismandtravel Tourism and Travel does not look like a valid URI, trying to serialize this will break.\n",
      "http://example.org/term/artsandcrafts  does not look like a valid URI, trying to serialize this will break.\n",
      "http://example.org/term/artsandcrafts Arts and Crafts does not look like a valid URI, trying to serialize this will break.\n",
      "http://example.org/term/powerresources  does not look like a valid URI, trying to serialize this will break.\n",
      "http://example.org/term/powerresources Power Resources does not look like a valid URI, trying to serialize this will break.\n",
      "http://example.org/term/dentistry  does not look like a valid URI, trying to serialize this will break.\n",
      "http://example.org/term/dentistry Dentistry does not look like a valid URI, trying to serialize this will break.\n",
      "http://example.org/term/busesandcoaches-general  does not look like a valid URI, trying to serialize this will break.\n",
      "http://example.org/term/busesandcoaches-general Buses and Coaches, general does not look like a valid URI, trying to serialize this will break.\n",
      "http://example.org/term/institutionalcare  does not look like a valid URI, trying to serialize this will break.\n",
      "http://example.org/term/institutionalcare Institutional Care does not look like a valid URI, trying to serialize this will break.\n",
      "http://example.org/term/aircraftseealsohelicopters  does not look like a valid URI, trying to serialize this will break.\n",
      "http://example.org/term/aircraftseealsohelicopters Aircraft see also Helicopters does not look like a valid URI, trying to serialize this will break.\n",
      "http://example.org/term/rodents  does not look like a valid URI, trying to serialize this will break.\n",
      "http://example.org/term/rodents Rodents does not look like a valid URI, trying to serialize this will break.\n",
      "http://example.org/term/housingandlivingconditions  does not look like a valid URI, trying to serialize this will break.\n",
      "http://example.org/term/housingandlivingconditions Housing and Living Conditions does not look like a valid URI, trying to serialize this will break.\n",
      "http://example.org/term/butchersandbutchershops  does not look like a valid URI, trying to serialize this will break.\n",
      "http://example.org/term/butchersandbutchershops Butchers and Butcher Shops does not look like a valid URI, trying to serialize this will break.\n",
      "http://example.org/term/stainedglass  does not look like a valid URI, trying to serialize this will break.\n",
      "http://example.org/term/stainedglass Stained Glass does not look like a valid URI, trying to serialize this will break.\n",
      "http://example.org/term/localgovernment  does not look like a valid URI, trying to serialize this will break.\n",
      "http://example.org/term/localgovernment Local Government does not look like a valid URI, trying to serialize this will break.\n",
      "http://example.org/term/waterandwaterways  does not look like a valid URI, trying to serialize this will break.\n",
      "http://example.org/term/waterandwaterways Water and Waterways does not look like a valid URI, trying to serialize this will break.\n",
      "http://example.org/term/carriages  does not look like a valid URI, trying to serialize this will break.\n",
      "http://example.org/term/carriages Carriages does not look like a valid URI, trying to serialize this will break.\n",
      "http://example.org/term/specialneedseducation  does not look like a valid URI, trying to serialize this will break.\n",
      "http://example.org/term/specialneedseducation Special Needs Education does not look like a valid URI, trying to serialize this will break.\n",
      "http://example.org/term/landscapesandseascapes  does not look like a valid URI, trying to serialize this will break.\n",
      "http://example.org/term/landscapesandseascapes Landscapes and Seascapes does not look like a valid URI, trying to serialize this will break.\n",
      "http://example.org/term/lobsterfishing  does not look like a valid URI, trying to serialize this will break.\n",
      "http://example.org/term/lobsterfishing Lobster Fishing does not look like a valid URI, trying to serialize this will break.\n",
      "http://example.org/term/animals  does not look like a valid URI, trying to serialize this will break.\n",
      "http://example.org/term/animals Animals does not look like a valid URI, trying to serialize this will break.\n",
      "http://example.org/term/homeguard  does not look like a valid URI, trying to serialize this will break.\n",
      "http://example.org/term/homeguard Home Guard does not look like a valid URI, trying to serialize this will break.\n",
      "http://example.org/term/ridingofthemarches  does not look like a valid URI, trying to serialize this will break.\n",
      "http://example.org/term/ridingofthemarches Riding of the Marches does not look like a valid URI, trying to serialize this will break.\n",
      "http://example.org/term/employment-industryandindustrialrelations  does not look like a valid URI, trying to serialize this will break.\n",
      "http://example.org/term/employment-industryandindustrialrelations Employment, Industry and Industrial Relations does not look like a valid URI, trying to serialize this will break.\n",
      "http://example.org/term/residentialhomesfortheelderly  does not look like a valid URI, trying to serialize this will break.\n",
      "http://example.org/term/residentialhomesfortheelderly Residential Homes for the Elderly does not look like a valid URI, trying to serialize this will break.\n",
      "http://example.org/term/cafeteriasandcanteens  does not look like a valid URI, trying to serialize this will break.\n",
      "http://example.org/term/cafeteriasandcanteens Cafeterias and Canteens does not look like a valid URI, trying to serialize this will break.\n"
     ]
    },
    {
     "name": "stderr",
     "output_type": "stream",
     "text": [
      "http://example.org/term/busstationsanddepots  does not look like a valid URI, trying to serialize this will break.\n",
      "http://example.org/term/busstationsanddepots Bus Stations and Depots does not look like a valid URI, trying to serialize this will break.\n",
      "http://example.org/term/shipsandshipping  does not look like a valid URI, trying to serialize this will break.\n",
      "http://example.org/term/shipsandshipping Ships and Shipping does not look like a valid URI, trying to serialize this will break.\n",
      "http://example.org/term/fishingboats  does not look like a valid URI, trying to serialize this will break.\n",
      "http://example.org/term/fishingboats Fishing Boats does not look like a valid URI, trying to serialize this will break.\n",
      "http://example.org/term/media-communicationandthecreativeindustries  does not look like a valid URI, trying to serialize this will break.\n",
      "http://example.org/term/media-communicationandthecreativeindustries Media, Communication and the Creative Industries does not look like a valid URI, trying to serialize this will break.\n",
      "http://example.org/term/canoeing  does not look like a valid URI, trying to serialize this will break.\n",
      "http://example.org/term/canoeing Canoeing does not look like a valid URI, trying to serialize this will break.\n",
      "http://example.org/term/ferries  does not look like a valid URI, trying to serialize this will break.\n",
      "http://example.org/term/ferries Ferries does not look like a valid URI, trying to serialize this will break.\n",
      "http://example.org/term/airports  does not look like a valid URI, trying to serialize this will break.\n",
      "http://example.org/term/airports Airports does not look like a valid URI, trying to serialize this will break.\n",
      "http://example.org/term/politics  does not look like a valid URI, trying to serialize this will break.\n",
      "http://example.org/term/politics Science and Technology does not look like a valid URI, trying to serialize this will break.\n",
      "http://example.org/term/politics  does not look like a valid URI, trying to serialize this will break.\n",
      "http://example.org/term/politics Politics does not look like a valid URI, trying to serialize this will break.\n",
      "http://example.org/term/lochnessmonster-the  does not look like a valid URI, trying to serialize this will break.\n",
      "http://example.org/term/lochnessmonster-the Loch Ness Monster, the does not look like a valid URI, trying to serialize this will break.\n",
      "http://example.org/term/childrenandinfants  does not look like a valid URI, trying to serialize this will break.\n",
      "http://example.org/term/childrenandinfants Children and Infants does not look like a valid URI, trying to serialize this will break.\n",
      "http://example.org/term/sportingactivities  does not look like a valid URI, trying to serialize this will break.\n",
      "http://example.org/term/sportingactivities Sporting Activities does not look like a valid URI, trying to serialize this will break.\n",
      "http://example.org/term/celtsandcelticculture  does not look like a valid URI, trying to serialize this will break.\n",
      "http://example.org/term/celtsandcelticculture Celts and Celtic Culture does not look like a valid URI, trying to serialize this will break.\n",
      "http://example.org/term/constructionandengineering  does not look like a valid URI, trying to serialize this will break.\n",
      "http://example.org/term/constructionandengineering Construction and Engineering does not look like a valid URI, trying to serialize this will break.\n",
      "http://example.org/term/spinning  does not look like a valid URI, trying to serialize this will break.\n",
      "http://example.org/term/spinning Spinning does not look like a valid URI, trying to serialize this will break.\n",
      "http://example.org/term/easter  does not look like a valid URI, trying to serialize this will break.\n",
      "http://example.org/term/easter Easter does not look like a valid URI, trying to serialize this will break.\n",
      "http://example.org/term/depression-the  does not look like a valid URI, trying to serialize this will break.\n",
      "http://example.org/term/depression-the Depression, the does not look like a valid URI, trying to serialize this will break.\n",
      "http://example.org/term/fishwives  does not look like a valid URI, trying to serialize this will break.\n",
      "http://example.org/term/fishwives Fishwives does not look like a valid URI, trying to serialize this will break.\n",
      "http://example.org/term/airdisplaysandshows  does not look like a valid URI, trying to serialize this will break.\n",
      "http://example.org/term/airdisplaysandshows Air displays and shows does not look like a valid URI, trying to serialize this will break.\n",
      "http://example.org/term/foodanddrink  does not look like a valid URI, trying to serialize this will break.\n",
      "http://example.org/term/foodanddrink Food and Drink does not look like a valid URI, trying to serialize this will break.\n",
      "http://example.org/term/cheeseandcheesemaking  does not look like a valid URI, trying to serialize this will break.\n",
      "http://example.org/term/cheeseandcheesemaking Cheese and Cheese Making does not look like a valid URI, trying to serialize this will break.\n",
      "http://example.org/term/christmasseealsonewyear  does not look like a valid URI, trying to serialize this will break.\n",
      "http://example.org/term/christmasseealsonewyear Christmas  see also New Year does not look like a valid URI, trying to serialize this will break.\n",
      "http://example.org/term/healthcare  does not look like a valid URI, trying to serialize this will break.\n",
      "http://example.org/term/healthcare Healthcare does not look like a valid URI, trying to serialize this will break.\n",
      "http://example.org/term/birds  does not look like a valid URI, trying to serialize this will break.\n",
      "http://example.org/term/birds Birds does not look like a valid URI, trying to serialize this will break.\n",
      "http://example.org/term/holidaycamps  does not look like a valid URI, trying to serialize this will break.\n",
      "http://example.org/term/holidaycamps Holiday Camps does not look like a valid URI, trying to serialize this will break.\n",
      "http://example.org/term/canals  does not look like a valid URI, trying to serialize this will break.\n",
      "http://example.org/term/canals Canals does not look like a valid URI, trying to serialize this will break.\n",
      "http://example.org/term/gaelic  does not look like a valid URI, trying to serialize this will break.\n",
      "http://example.org/term/gaelic Gaelic does not look like a valid URI, trying to serialize this will break.\n"
     ]
    },
    {
     "name": "stdout",
     "output_type": "stream",
     "text": [
      "##### Number of organizations:\n",
      "http://example.org/term/education Education\n",
      "http://example.org/term/camping Camping\n",
      "http://example.org/term/warcrimes War Crimes\n",
      "http://example.org/term/fireservice Fire Service\n",
      "http://example.org/term/spring Spring\n",
      "http://example.org/term/royalty Royalty\n",
      "http://example.org/term/celebrations-traditionsandcustoms Celebrations, Traditions and Customs\n",
      "http://example.org/term/reptiles Reptiles\n",
      "http://example.org/term/highlandgames Highland Games\n",
      "http://example.org/term/environment Environment\n",
      "http://example.org/term/hogmanay Hogmanay\n",
      "http://example.org/term/crime-punishmentandlawenforcement Crime, Punishment and Law Enforcement\n",
      "http://example.org/term/musichall Music Hall\n",
      "http://example.org/term/fishgutting Fish Gutting\n",
      "http://example.org/term/bulldozers Bulldozers\n",
      "http://example.org/term/military-the Military, the\n",
      "http://example.org/term/ceremonies Ceremonies\n",
      "http://example.org/term/paddlesteamers Paddle Steamers\n",
      "http://example.org/term/scienceandtechnology Politics\n",
      "http://example.org/term/scienceandtechnology Science and Technology\n",
      "http://example.org/term/lifeboats Lifeboats\n",
      "http://example.org/term/peatandpeatcutting Peat and Peat Cutting\n",
      "http://example.org/term/agriculture Agriculture\n",
      "http://example.org/term/disillusionment Disillusionment\n",
      "http://example.org/term/fishmarkets Fish Markets\n",
      "http://example.org/term/emotions-attitudesandbehaviour Emotions, Attitudes and Behaviour\n",
      "http://example.org/term/fishandfishing Fish and Fishing\n",
      "http://example.org/term/broadcasting-general Broadcasting, general\n",
      "http://example.org/term/forthriver Forth River\n",
      "http://example.org/term/artandartists-general Architecture and Buildings\n",
      "http://example.org/term/artandartists-general Home Life\n",
      "http://example.org/term/artandartists-general Art and Artists, general  \n",
      "http://example.org/term/britishempire-the British Empire, the\n",
      "http://example.org/term/homelife Art and Artists, general  \n",
      "http://example.org/term/homelife Home Life\n",
      "http://example.org/term/war War\n",
      "http://example.org/term/restaurants Restaurants\n",
      "http://example.org/term/revenge Revenge\n",
      "http://example.org/term/airraids Air Raids\n",
      "http://example.org/term/religion Religion\n",
      "http://example.org/term/music Music\n",
      "http://example.org/term/buddhism Buddhism\n",
      "http://example.org/term/leisureandrecreation Leisure and Recreation\n",
      "http://example.org/term/transport Transport\n",
      "http://example.org/term/architectureandbuildings Art and Artists, general  \n",
      "http://example.org/term/architectureandbuildings Architecture and Buildings\n",
      "http://example.org/term/reservoirs Reservoirs\n",
      "http://example.org/term/tourismandtravel Tourism and Travel\n",
      "http://example.org/term/artsandcrafts Arts and Crafts\n",
      "http://example.org/term/powerresources Power Resources\n",
      "http://example.org/term/dentistry Dentistry\n",
      "http://example.org/term/busesandcoaches-general Buses and Coaches, general\n",
      "http://example.org/term/institutionalcare Institutional Care\n",
      "http://example.org/term/aircraftseealsohelicopters Aircraft see also Helicopters\n",
      "http://example.org/term/rodents Rodents\n",
      "http://example.org/term/housingandlivingconditions Housing and Living Conditions\n",
      "http://example.org/term/butchersandbutchershops Butchers and Butcher Shops\n",
      "http://example.org/term/stainedglass Stained Glass\n",
      "http://example.org/term/localgovernment Local Government\n",
      "http://example.org/term/waterandwaterways Water and Waterways\n",
      "http://example.org/term/carriages Carriages\n",
      "http://example.org/term/specialneedseducation Special Needs Education\n",
      "http://example.org/term/landscapesandseascapes Landscapes and Seascapes\n",
      "http://example.org/term/lobsterfishing Lobster Fishing\n",
      "http://example.org/term/animals Animals\n",
      "http://example.org/term/homeguard Home Guard\n",
      "http://example.org/term/ridingofthemarches Riding of the Marches\n",
      "http://example.org/term/employment-industryandindustrialrelations Employment, Industry and Industrial Relations\n",
      "http://example.org/term/residentialhomesfortheelderly Residential Homes for the Elderly\n",
      "http://example.org/term/cafeteriasandcanteens Cafeterias and Canteens\n",
      "http://example.org/term/busstationsanddepots Bus Stations and Depots\n",
      "http://example.org/term/shipsandshipping Ships and Shipping\n",
      "http://example.org/term/fishingboats Fishing Boats\n",
      "http://example.org/term/media-communicationandthecreativeindustries Media, Communication and the Creative Industries\n",
      "http://example.org/term/canoeing Canoeing\n",
      "http://example.org/term/ferries Ferries\n",
      "http://example.org/term/airports Airports\n",
      "http://example.org/term/politics Science and Technology\n",
      "http://example.org/term/politics Politics\n",
      "http://example.org/term/lochnessmonster-the Loch Ness Monster, the\n",
      "http://example.org/term/childrenandinfants Children and Infants\n",
      "http://example.org/term/sportingactivities Sporting Activities\n",
      "http://example.org/term/celtsandcelticculture Celts and Celtic Culture\n",
      "http://example.org/term/constructionandengineering Construction and Engineering\n",
      "http://example.org/term/spinning Spinning\n",
      "http://example.org/term/easter Easter\n",
      "http://example.org/term/depression-the Depression, the\n",
      "http://example.org/term/fishwives Fishwives\n",
      "http://example.org/term/airdisplaysandshows Air displays and shows\n",
      "http://example.org/term/foodanddrink Food and Drink\n",
      "http://example.org/term/cheeseandcheesemaking Cheese and Cheese Making\n",
      "http://example.org/term/christmasseealsonewyear Christmas  see also New Year\n",
      "http://example.org/term/healthcare Healthcare\n",
      "http://example.org/term/birds Birds\n",
      "http://example.org/term/holidaycamps Holiday Camps\n",
      "http://example.org/term/canals Canals\n",
      "http://example.org/term/gaelic Gaelic\n"
     ]
    }
   ],
   "source": [
    "print('##### Number of organizations:')\n",
    "    \n",
    "# Query the data in g using SPARQL\n",
    "q = \"\"\"\n",
    "    PREFIX skos: <http://www.w3.org/2004/02/skos/core#>\n",
    "    SELECT distinct ?s ?term\n",
    "    WHERE { ?s skos:prefLabel ?term . ?s a skos:Concept} \n",
    "\"\"\"\n",
    "\n",
    "# Apply the query to the graph and iterate through results\n",
    "for r in g.query(q):\n",
    "    print(r[\"s\"] + \" \" + r[\"term\"])"
   ]
  },
  {
   "cell_type": "code",
   "execution_count": 18,
   "id": "07ffda5f",
   "metadata": {},
   "outputs": [
    {
     "name": "stdout",
     "output_type": "stream",
     "text": [
      "##### Number of organizations:\n",
      " Politics\n",
      " Science and Technology\n"
     ]
    }
   ],
   "source": [
    "print('##### Number of organizations:')\n",
    "    \n",
    "# Query the data in g using SPARQL\n",
    "q = \"\"\"\n",
    "    PREFIX skos: <http://www.w3.org/2004/02/skos/core#>\n",
    "    SELECT distinct ?s ?term\n",
    "    WHERE { <http://example.org/term/scienceandtechnology> skos:prefLabel ?term } \n",
    "\"\"\"\n",
    "\n",
    "# Apply the query to the graph and iterate through results\n",
    "for r in g.query(q):\n",
    "    print( \" \" + r[\"term\"])"
   ]
  },
  {
   "cell_type": "code",
   "execution_count": null,
   "id": "a60f8339",
   "metadata": {},
   "outputs": [],
   "source": []
  }
 ],
 "metadata": {
  "kernelspec": {
   "display_name": "Python 3",
   "language": "python",
   "name": "python3"
  },
  "language_info": {
   "codemirror_mode": {
    "name": "ipython",
    "version": 3
   },
   "file_extension": ".py",
   "mimetype": "text/x-python",
   "name": "python",
   "nbconvert_exporter": "python",
   "pygments_lexer": "ipython3",
   "version": "3.9.12"
  }
 },
 "nbformat": 4,
 "nbformat_minor": 5
}
