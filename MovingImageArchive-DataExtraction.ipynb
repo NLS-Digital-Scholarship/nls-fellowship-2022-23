{
 "cells": [
  {
   "cell_type": "markdown",
   "id": "585a839f",
   "metadata": {},
   "source": [
    "### Extraction of data from MARCXML\n",
    "\n",
    "This dataset represents the descriptive metadata from the [Moving Image Archive catalogue](https://data.nls.uk/data/metadata-collections/moving-image-archive/), which is Scotland’s national collection of moving images."
   ]
  },
  {
   "cell_type": "code",
   "execution_count": 61,
   "id": "d07b0bb7",
   "metadata": {},
   "outputs": [],
   "source": [
    "import pymarc, re, csv\n",
    "import pandas as pd\n",
    "from pymarc import parse_xml_to_array"
   ]
  },
  {
   "cell_type": "markdown",
   "id": "25393975",
   "metadata": {},
   "source": [
    "## Extraction of the data to a CSV"
   ]
  },
  {
   "cell_type": "code",
   "execution_count": 62,
   "id": "a8307d8d",
   "metadata": {
    "scrolled": true
   },
   "outputs": [],
   "source": [
    "with open('data/output/movingImageArchive.csv', 'w') as csv_fichero:\n",
    "    csv_output = csv.writer(csv_fichero, delimiter = ',', quotechar = '\"', quoting = csv.QUOTE_MINIMAL)\n",
    "    csv_output.writerow(['title', 'author', 'place_publication', 'date', 'extent', 'credits', 'subjects', 'summary', 'details', 'link', 'geographicNames'])    \n",
    "    \n",
    "    records = parse_xml_to_array(open('data/movingImageArchive/Moving-Image-Archive-dataset-MARC.xml'))\n",
    "\n",
    "    for record in records:\n",
    "\n",
    "        title = author = place_publication = date = extent = credits = subjects = summary = details = link = geographicNames = ''\n",
    "\n",
    "        # title\n",
    "        if record['245'] is not None:\n",
    "            title = record['245']['a']\n",
    "            if record['245']['b'] is not None:\n",
    "                title = title + \" \" + record['245']['b']\n",
    "            title = title.strip()\n",
    "\n",
    "        # author\n",
    "        if record['100'] is not None:\n",
    "            author = record['100']['a']\n",
    "        elif record['110'] is not None:\n",
    "            author = record['110']['a']\n",
    "        elif record['700'] is not None:\n",
    "            author = record['700']['a']\n",
    "        elif record['710'] is not None:\n",
    "            author = record['710']['a']\n",
    "\n",
    "        # place of publication\n",
    "        if record['264'] is not None:\n",
    "            place_publication = record['264']['a']\n",
    "\n",
    "        # date\n",
    "        for f in record.get_fields('264'):\n",
    "            dates = f.get_subfields('c')\n",
    "            if len(dates):\n",
    "                date = dates[0]\n",
    "\n",
    "                if date.endswith('.'): date = date[:-1]\n",
    "\n",
    "\n",
    "        # Physical Description - extent\n",
    "        for f in record.get_fields('300'):\n",
    "            extent = f.get_subfields('a')\n",
    "            if len(extent):\n",
    "                extent = extent[0]\n",
    "                # TODO cleaning\n",
    "            details = f.get_subfields('b')\n",
    "            if len(details):\n",
    "                details = details[0]\n",
    "\n",
    "        # credits\n",
    "        if record['508'] is not None:\n",
    "            credits = record['508']['a'].strip()\n",
    "            credits = credits.replace(\"\\n\", \" \")\n",
    "\n",
    "        # summary\n",
    "        if record['520'] is not None:\n",
    "            summary = record['520']['a'].strip()\n",
    "\n",
    "        # subjects\n",
    "        if record['653'] is not None:\n",
    "            subjects = ''\n",
    "            geographicNames = ''\n",
    "            for f in record.get_fields('653'):\n",
    "                \n",
    "                if f.indicator2 == '0':\n",
    "                    subjects += f.get_subfields('a')[0] + ' -- '\n",
    "                elif f.indicator2 == '5':\n",
    "                    geographicNames += f.get_subfields('a')[0] + ' -- '\n",
    "            \n",
    "            # remove -- at the end\n",
    "            subjects = re.sub(' -- $', '', subjects)\n",
    "            geographicNames = re.sub(' -- $', '', geographicNames)\n",
    "            \n",
    "        # link\n",
    "        if record['856'] is not None:\n",
    "            link = record['856']['u']\n",
    "\n",
    "        csv_output.writerow([title,author,place_publication,date,extent,credits,subjects,summary,details,link,geographicNames])"
   ]
  },
  {
   "cell_type": "markdown",
   "id": "382d9c42",
   "metadata": {},
   "source": [
    "## References\n",
    "\n",
    "- https://pymarc.readthedocs.io/en/latest/#api-docs\n",
    "- https://www.loc.gov/marc/bibliographic/"
   ]
  },
  {
   "cell_type": "code",
   "execution_count": null,
   "id": "4aef3286",
   "metadata": {},
   "outputs": [],
   "source": []
  }
 ],
 "metadata": {
  "kernelspec": {
   "display_name": "Python 3",
   "language": "python",
   "name": "python3"
  },
  "language_info": {
   "codemirror_mode": {
    "name": "ipython",
    "version": 3
   },
   "file_extension": ".py",
   "mimetype": "text/x-python",
   "name": "python",
   "nbconvert_exporter": "python",
   "pygments_lexer": "ipython3",
   "version": "3.9.13"
  }
 },
 "nbformat": 4,
 "nbformat_minor": 5
}
