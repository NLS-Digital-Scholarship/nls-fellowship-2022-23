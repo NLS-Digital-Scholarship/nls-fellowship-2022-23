{
 "cells": [
  {
   "cell_type": "code",
   "execution_count": 25,
   "id": "62b0a9b5",
   "metadata": {},
   "outputs": [],
   "source": [
    "from rdflib import Graph\n",
    "\n",
    "# Create a Graph\n",
    "#g = Graph().parse(\"../rdf/movingImageArchiveEnriched.rdf\")\n",
    "g = Graph().parse(\"../rdf/datasetEnriched.rdf\")"
   ]
  },
  {
   "cell_type": "markdown",
   "id": "8c8756a3",
   "metadata": {},
   "source": [
    "### Number of classes"
   ]
  },
  {
   "cell_type": "code",
   "execution_count": 26,
   "id": "19f0fd80",
   "metadata": {},
   "outputs": [
    {
     "name": "stdout",
     "output_type": "stream",
     "text": [
      "##### Number of classes:\n",
      "7\n"
     ]
    }
   ],
   "source": [
    "print('##### Number of classes:')\n",
    "\n",
    "# Query the data in g using SPARQL\n",
    "q = \"\"\"\n",
    "    SELECT (count(distinct ?class) as ?classes)\n",
    "    WHERE {\n",
    "        ?s a ?class .\n",
    "    }\n",
    "\"\"\"\n",
    "\n",
    "# Apply the query to the graph and iterate through results\n",
    "for r in g.query(q):\n",
    "    print(r[\"classes\"])"
   ]
  },
  {
   "cell_type": "markdown",
   "id": "55571ad2",
   "metadata": {},
   "source": [
    "### Classes"
   ]
  },
  {
   "cell_type": "code",
   "execution_count": 27,
   "id": "fb07a7f7",
   "metadata": {},
   "outputs": [
    {
     "name": "stdout",
     "output_type": "stream",
     "text": [
      "##### Classes:\n",
      "https://schema.org/VideoObject\n",
      "http://www.europeana.eu/schemas/edm/Place\n",
      "https://schema.org/Place\n",
      "http://xmlns.com/foaf/0.1/Person\n",
      "https://schema.org/Person\n",
      "http://xmlns.com/foaf/0.1/Organization\n",
      "https://schema.org/Organization\n"
     ]
    }
   ],
   "source": [
    "print('##### Classes:')\n",
    "\n",
    "# Query the data in g using SPARQL\n",
    "q = \"\"\"\n",
    "    SELECT distinct ?class\n",
    "    WHERE {\n",
    "        ?s a ?class .\n",
    "    }\n",
    "\"\"\"\n",
    "\n",
    "# Apply the query to the graph and iterate through results\n",
    "for r in g.query(q):\n",
    "    print(r[\"class\"])"
   ]
  },
  {
   "cell_type": "markdown",
   "id": "2b5db07c",
   "metadata": {},
   "source": [
    "### Number of properties"
   ]
  },
  {
   "cell_type": "code",
   "execution_count": 28,
   "id": "79e6ec69",
   "metadata": {},
   "outputs": [
    {
     "name": "stdout",
     "output_type": "stream",
     "text": [
      "##### Number of properties:\n",
      "23\n"
     ]
    }
   ],
   "source": [
    "print('##### Number of properties:')\n",
    "\n",
    "# Query the data in g using SPARQL\n",
    "q = \"\"\"\n",
    "    SELECT (count(distinct ?prop) as ?properties)\n",
    "    WHERE {\n",
    "        ?s ?prop ?o .\n",
    "    }\n",
    "\"\"\"\n",
    "\n",
    "# Apply the query to the graph and iterate through results\n",
    "for r in g.query(q):\n",
    "    print(r[\"properties\"])"
   ]
  },
  {
   "cell_type": "markdown",
   "id": "bd167a71",
   "metadata": {},
   "source": [
    "### Properties"
   ]
  },
  {
   "cell_type": "code",
   "execution_count": 29,
   "id": "b76d270b",
   "metadata": {},
   "outputs": [
    {
     "name": "stdout",
     "output_type": "stream",
     "text": [
      "##### Properties:\n",
      "https://schema.org/name\n",
      "https://schema.org/duration\n",
      "http://purl.org/dc/terms/spatial\n",
      "https://schema.org/abstract\n",
      "https://schema.org/videoQuality\n",
      "https://schema.org/datePublished\n",
      "http://www.w3.org/1999/02/22-rdf-syntax-ns#type\n",
      "https://schema.org/identifier\n",
      "http://purl.org/dc/elements/1.1/identifier\n",
      "http://purl.org/dc/elements/1.1/subject\n",
      "http://purl.org/dc/elements/1.1/date\n",
      "https://schema.org/sourceOrganization\n",
      "http://purl.org/dc/elements/1.1/title\n",
      "https://schema.org/author\n",
      "https://schema.org/creditText\n",
      "https://schema.org/thumbnail\n",
      "http://www.w3.org/2004/02/skos/core#prefLabel\n",
      "http://xmlns.com/foaf/0.1/name\n",
      "http://www.w3.org/2002/07/owl#sameAs\n",
      "http://www.w3.org/2003/01/geo/wgs84_pos#lat\n",
      "http://www.w3.org/2003/01/geo/wgs84_pos#long\n",
      "https://schema.org/url\n",
      "https://schema.org/logo\n"
     ]
    }
   ],
   "source": [
    "print('##### Properties:')\n",
    "\n",
    "# Query the data in g using SPARQL\n",
    "q = \"\"\"\n",
    "    SELECT distinct ?prop\n",
    "    WHERE {\n",
    "        ?s ?prop ?o .\n",
    "    }\n",
    "\"\"\"\n",
    "\n",
    "# Apply the query to the graph and iterate through results\n",
    "for r in g.query(q):\n",
    "    print(r[\"prop\"])"
   ]
  },
  {
   "cell_type": "markdown",
   "id": "2781494e",
   "metadata": {},
   "source": [
    "### Number of external links"
   ]
  },
  {
   "cell_type": "code",
   "execution_count": 30,
   "id": "6f8e1ca9",
   "metadata": {},
   "outputs": [
    {
     "name": "stdout",
     "output_type": "stream",
     "text": [
      "##### Number of owl:sameAs properties:\n",
      "75\n"
     ]
    }
   ],
   "source": [
    "print('##### Number of owl:sameAs properties:')\n",
    "    \n",
    "# Query the data in g using SPARQL\n",
    "q = \"\"\"\n",
    "    SELECT (count(distinct ?sameAs) as ?total)\n",
    "    WHERE {\n",
    "        ?p owl:sameAs ?sameAs .\n",
    "    }\n",
    "\"\"\"\n",
    "\n",
    "# Apply the query to the graph and iterate through results\n",
    "for r in g.query(q):\n",
    "    print(r[\"total\"])"
   ]
  },
  {
   "cell_type": "markdown",
   "id": "2a522d36",
   "metadata": {},
   "source": [
    "### External links"
   ]
  },
  {
   "cell_type": "code",
   "execution_count": 31,
   "id": "00b2c564",
   "metadata": {},
   "outputs": [
    {
     "name": "stdout",
     "output_type": "stream",
     "text": [
      "##### owl:sameAs properties:\n",
      "https://www.wikidata.org/wiki/Q81052\n",
      "https://www.geonames.org/2646177\n",
      "https://www.wikidata.org/wiki/Q201149\n",
      "https://www.geonames.org/2649469\n",
      "https://www.wikidata.org/wiki/Q123709\n",
      "https://www.geonames.org/2650752\n",
      "https://www.wikidata.org/wiki/Q1147435\n",
      "https://www.geonames.org/2654168\n",
      "https://www.wikidata.org/wiki/Q189912\n",
      "https://www.geonames.org/2657830\n",
      "https://www.wikidata.org/wiki/Q106652\n",
      "https://www.geonames.org/2646943\n",
      "https://www.wikidata.org/wiki/Q23436\n",
      "https://www.geonames.org/2650225\n",
      "https://www.wikidata.org/wiki/Q47134\n",
      "https://www.geonames.org/2638010\n",
      "https://www.wikidata.org/wiki/Q664892\n",
      "https://www.geonames.org/2639033\n",
      "https://www.wikidata.org/wiki/Q207268\n",
      "https://www.geonames.org/2652975\n",
      "https://www.wikidata.org/wiki/Q2421\n",
      "https://www.geonames.org/2649177\n",
      "https://www.wikidata.org/wiki/Q211091\n",
      "https://www.geonames.org/2639494\n",
      "https://www.wikidata.org/wiki/Q1247384\n",
      "https://www.geonames.org/2650795\n",
      "https://www.wikidata.org/wiki/Q980084\n",
      "https://www.geonames.org/2641910\n",
      "https://www.wikidata.org/wiki/Q978599\n",
      "https://www.wikidata.org/wiki/Q4093\n",
      "https://www.geonames.org/2648579\n",
      "https://www.wikidata.org/wiki/Q3643362\n",
      "https://www.wikidata.org/wiki/Q54809\n",
      "https://www.geonames.org/2656402\n",
      "https://www.wikidata.org/wiki/Q9177476\n",
      "https://www.wikidata.org/wiki/Q203000\n",
      "https://www.geonames.org/2640358\n",
      "https://www.wikidata.org/wiki/Q80967\n",
      "https://www.geonames.org/2640801\n",
      "https://www.wikidata.org/wiki/Q100166\n",
      "https://www.geonames.org/2640923\n",
      "https://www.wikidata.org/wiki/Q550606\n",
      "https://www.geonames.org/2633928\n",
      "https://www.wikidata.org/wiki/Q1061313\n",
      "https://www.geonames.org/2636507\n",
      "https://www.wikidata.org/wiki/Q530296\n",
      "https://www.geonames.org/2644975\n",
      "https://www.wikidata.org/wiki/Q207257\n",
      "https://www.geonames.org/2650386\n",
      "https://www.wikidata.org/wiki/Q1229763\n",
      "https://www.wikidata.org/wiki/Q182923\n",
      "https://www.geonames.org/2636910\n",
      "https://www.wikidata.org/wiki/Q36405\n",
      "https://www.geonames.org/2657832\n",
      "https://www.wikidata.org/wiki/Q202177\n",
      "https://www.geonames.org/2657306\n",
      "https://www.wikidata.org/wiki/Q206934\n",
      "https://www.geonames.org/2642559\n",
      "https://www.wikidata.org/wiki/Q652539\n",
      "https://www.geonames.org/2657088\n",
      "https://www.wikidata.org/wiki/Q1247435\n",
      "https://www.wikidata.org/wiki/Q204940\n",
      "https://www.geonames.org/2634354\n",
      "https://www.wikidata.org/wiki/Q864668\n",
      "https://www.geonames.org/2654041\n",
      "https://www.wikidata.org/wiki/Q1247396\n",
      "https://www.geonames.org/2638228\n",
      "https://www.wikidata.org/wiki/Q17582129\n",
      "https://www.geonames.org/7280022\n",
      "https://www.wikidata.org/wiki/Q786649\n",
      "https://www.geonames.org/2655820\n",
      "https://www.wikidata.org/wiki/Q793283\n",
      "https://www.geonames.org/2656700\n",
      "https://www.wikidata.org/wiki/Q376914\n",
      "https://www.geonames.org/2645521\n"
     ]
    }
   ],
   "source": [
    "print('##### owl:sameAs properties:')\n",
    "    \n",
    "# Query the data in g using SPARQL\n",
    "q = \"\"\"\n",
    "    SELECT distinct ?sameAs\n",
    "    WHERE {\n",
    "        ?p owl:sameAs ?sameAs .\n",
    "    }\n",
    "\"\"\"\n",
    "\n",
    "# Apply the query to the graph and iterate through results\n",
    "for r in g.query(q):\n",
    "    print(r[\"sameAs\"])"
   ]
  },
  {
   "cell_type": "markdown",
   "id": "49e828cd",
   "metadata": {},
   "source": [
    "### Number of triples"
   ]
  },
  {
   "cell_type": "code",
   "execution_count": 32,
   "id": "bae40ae0",
   "metadata": {},
   "outputs": [
    {
     "name": "stdout",
     "output_type": "stream",
     "text": [
      "##### Number of triples:\n",
      "261061\n"
     ]
    }
   ],
   "source": [
    "print('##### Number of triples:')\n",
    "    \n",
    "# Query the data in g using SPARQL\n",
    "q = \"\"\"\n",
    "    SELECT (COUNT(*) as ?triples) \n",
    "    WHERE { ?s ?p ?o } \n",
    "\"\"\"\n",
    "\n",
    "# Apply the query to the graph and iterate through results\n",
    "for r in g.query(q):\n",
    "    print(r[\"triples\"])"
   ]
  },
  {
   "cell_type": "markdown",
   "id": "83dfdebe",
   "metadata": {},
   "source": [
    "### Number of videos"
   ]
  },
  {
   "cell_type": "code",
   "execution_count": 33,
   "id": "d7aed5a7",
   "metadata": {},
   "outputs": [
    {
     "name": "stdout",
     "output_type": "stream",
     "text": [
      "##### Number of videos:\n",
      "20608\n"
     ]
    }
   ],
   "source": [
    "print('##### Number of videos:')\n",
    "    \n",
    "# Query the data in g using SPARQL\n",
    "q = \"\"\"\n",
    "    SELECT (COUNT(distinct ?s) as ?videos) \n",
    "    WHERE { ?s a schema:VideoObject} \n",
    "\"\"\"\n",
    "\n",
    "# Apply the query to the graph and iterate through results\n",
    "for r in g.query(q):\n",
    "    print(r[\"videos\"])"
   ]
  },
  {
   "cell_type": "markdown",
   "id": "aa8b599f",
   "metadata": {},
   "source": [
    "### Number of authors"
   ]
  },
  {
   "cell_type": "code",
   "execution_count": 34,
   "id": "b6f707ee",
   "metadata": {},
   "outputs": [
    {
     "name": "stdout",
     "output_type": "stream",
     "text": [
      "##### Number of authors:\n",
      "140\n"
     ]
    }
   ],
   "source": [
    "print('##### Number of authors:')\n",
    "    \n",
    "# Query the data in g using SPARQL\n",
    "q = \"\"\"\n",
    "    PREFIX foaf: <http://xmlns.com/foaf/0.1/>\n",
    "    SELECT (COUNT(*) as ?authors) \n",
    "    WHERE { ?s ?p ?o . ?s a foaf:Person} \n",
    "\"\"\"\n",
    "\n",
    "# Apply the query to the graph and iterate through results\n",
    "for r in g.query(q):\n",
    "    print(r[\"authors\"])"
   ]
  },
  {
   "cell_type": "markdown",
   "id": "3322a1fc",
   "metadata": {},
   "source": [
    "### Authors"
   ]
  },
  {
   "cell_type": "code",
   "execution_count": 35,
   "id": "6e346b31",
   "metadata": {},
   "outputs": [
    {
     "name": "stderr",
     "output_type": "stream",
     "text": [
      "https://example.org/author/mickeldouglas  does not look like a valid URI, trying to serialize this will break.\n",
      "https://example.org/author/mickeldouglas MICKEL, Douglas does not look like a valid URI, trying to serialize this will break.\n",
      "https://example.org/author/ogamfilms  does not look like a valid URI, trying to serialize this will break.\n",
      "https://example.org/author/ogamfilms Ogam Films / Oscar Marzaroli does not look like a valid URI, trying to serialize this will break.\n",
      "https://example.org/author/nairnjamess  does not look like a valid URI, trying to serialize this will break.\n",
      "https://example.org/author/nairnjamess NAIRN, James S. does not look like a valid URI, trying to serialize this will break.\n",
      "https://example.org/author/macleanwilliamjmac  does not look like a valid URI, trying to serialize this will break.\n",
      "https://example.org/author/macleanwilliamjmac MacLEAN, William J. ‘Mac’ does not look like a valid URI, trying to serialize this will break.\n",
      "https://example.org/author/grigormurray  does not look like a valid URI, trying to serialize this will break.\n",
      "https://example.org/author/grigormurray Grigor, Murray does not look like a valid URI, trying to serialize this will break.\n",
      "https://example.org/author/russellstanleylivingstone  does not look like a valid URI, trying to serialize this will break.\n",
      "https://example.org/author/russellstanleylivingstone RUSSELL, Stanley Livingstone does not look like a valid URI, trying to serialize this will break.\n",
      "https://example.org/author/jayronaldl  does not look like a valid URI, trying to serialize this will break.\n",
      "https://example.org/author/jayronaldl JAY, Ronald L. does not look like a valid URI, trying to serialize this will break.\n",
      "https://example.org/author/colonelarthureirvineandrichardirvinecollection  does not look like a valid URI, trying to serialize this will break.\n",
      "https://example.org/author/colonelarthureirvineandrichardirvinecollection Colonel Arthur E Irvine and Richard Irvine Collection does not look like a valid URI, trying to serialize this will break.\n",
      "https://example.org/author/cooperhenry  does not look like a valid URI, trying to serialize this will break.\n",
      "https://example.org/author/cooperhenry COOPER, Henry does not look like a valid URI, trying to serialize this will break.\n",
      "https://example.org/author/taitmargaret  does not look like a valid URI, trying to serialize this will break.\n",
      "https://example.org/author/taitmargaret TAIT, Margaret does not look like a valid URI, trying to serialize this will break.\n",
      "https://example.org/author/walkerwilliam  does not look like a valid URI, trying to serialize this will break.\n",
      "https://example.org/author/walkerwilliam WALKER, William does not look like a valid URI, trying to serialize this will break.\n",
      "https://example.org/author/gillespiejamesstirling  does not look like a valid URI, trying to serialize this will break.\n",
      "https://example.org/author/gillespiejamesstirling GILLESPIE, James Stirling does not look like a valid URI, trying to serialize this will break.\n",
      "https://example.org/author/harperalanjames  does not look like a valid URI, trying to serialize this will break.\n",
      "https://example.org/author/harperalanjames HARPER, Alan James does not look like a valid URI, trying to serialize this will break.\n",
      "https://example.org/author/riddell-blackrobert  does not look like a valid URI, trying to serialize this will break.\n",
      "https://example.org/author/riddell-blackrobert RIDDELL-BLACK, Robert does not look like a valid URI, trying to serialize this will break.\n",
      "https://example.org/author/taggartnan  does not look like a valid URI, trying to serialize this will break.\n",
      "https://example.org/author/taggartnan Taggart, Nan does not look like a valid URI, trying to serialize this will break.\n",
      "https://example.org/author/cocozzaenrico  does not look like a valid URI, trying to serialize this will break.\n",
      "https://example.org/author/cocozzaenrico COCOZZA, Enrico does not look like a valid URI, trying to serialize this will break.\n",
      "https://example.org/author/dicksonlouis  does not look like a valid URI, trying to serialize this will break.\n",
      "https://example.org/author/dicksonlouis DICKSON, Louis does not look like a valid URI, trying to serialize this will break.\n",
      "https://example.org/author/hutchisonisobelwylie  does not look like a valid URI, trying to serialize this will break.\n",
      "https://example.org/author/hutchisonisobelwylie HUTCHISON, Isobel Wylie does not look like a valid URI, trying to serialize this will break.\n",
      "https://example.org/author/neelyanne  does not look like a valid URI, trying to serialize this will break.\n",
      "https://example.org/author/neelyanne NEELY, Anne does not look like a valid URI, trying to serialize this will break.\n",
      "https://example.org/author/gilbertsonjennyisabelneebrown  does not look like a valid URI, trying to serialize this will break.\n",
      "https://example.org/author/gilbertsonjennyisabelneebrown GILBERTSON, Jenny Isabel (nee Brown) does not look like a valid URI, trying to serialize this will break.\n",
      "https://example.org/author/grayalexanderjoe  does not look like a valid URI, trying to serialize this will break.\n",
      "https://example.org/author/grayalexanderjoe GRAY, Alexander ‘Joe’ does not look like a valid URI, trying to serialize this will break.\n",
      "https://example.org/author/hartjames  does not look like a valid URI, trying to serialize this will break.\n",
      "https://example.org/author/hartjames HART, James does not look like a valid URI, trying to serialize this will break.\n",
      "https://example.org/author/irvinemalcolm  does not look like a valid URI, trying to serialize this will break.\n",
      "https://example.org/author/irvinemalcolm IRVINE, Malcolm does not look like a valid URI, trying to serialize this will break.\n",
      "https://example.org/author/glasgowcorporation  does not look like a valid URI, trying to serialize this will break.\n",
      "https://example.org/author/glasgowcorporation Glasgow Corporation does not look like a valid URI, trying to serialize this will break.\n",
      "https://example.org/author/annandlouise  does not look like a valid URI, trying to serialize this will break.\n",
      "https://example.org/author/annandlouise Annand, Louise does not look like a valid URI, trying to serialize this will break.\n",
      "https://example.org/author/elderjohnc  does not look like a valid URI, trying to serialize this will break.\n",
      "https://example.org/author/elderjohnc ELDER, John C does not look like a valid URI, trying to serialize this will break.\n",
      "https://example.org/author/birrellharry  does not look like a valid URI, trying to serialize this will break.\n",
      "https://example.org/author/birrellharry Birrell, Harry does not look like a valid URI, trying to serialize this will break.\n",
      "https://example.org/author/loorijjanpaulusjack  does not look like a valid URI, trying to serialize this will break.\n",
      "https://example.org/author/loorijjanpaulusjack LOORIJ, Jan Paulus (Jack) does not look like a valid URI, trying to serialize this will break.\n"
     ]
    },
    {
     "name": "stdout",
     "output_type": "stream",
     "text": [
      "##### List of authors:\n",
      "https://example.org/author/mickeldouglas MICKEL, Douglas\n",
      "https://example.org/author/ogamfilms Ogam Films / Oscar Marzaroli\n",
      "https://example.org/author/nairnjamess NAIRN, James S.\n",
      "https://example.org/author/macleanwilliamjmac MacLEAN, William J. ‘Mac’\n",
      "https://example.org/author/grigormurray Grigor, Murray\n",
      "https://example.org/author/russellstanleylivingstone RUSSELL, Stanley Livingstone\n",
      "https://example.org/author/jayronaldl JAY, Ronald L.\n",
      "https://example.org/author/colonelarthureirvineandrichardirvinecollection Colonel Arthur E Irvine and Richard Irvine Collection\n",
      "https://example.org/author/cooperhenry COOPER, Henry\n",
      "https://example.org/author/taitmargaret TAIT, Margaret\n",
      "https://example.org/author/walkerwilliam WALKER, William\n",
      "https://example.org/author/gillespiejamesstirling GILLESPIE, James Stirling\n",
      "https://example.org/author/harperalanjames HARPER, Alan James\n",
      "https://example.org/author/riddell-blackrobert RIDDELL-BLACK, Robert\n",
      "https://example.org/author/taggartnan Taggart, Nan\n",
      "https://example.org/author/cocozzaenrico COCOZZA, Enrico\n",
      "https://example.org/author/dicksonlouis DICKSON, Louis\n",
      "https://example.org/author/hutchisonisobelwylie HUTCHISON, Isobel Wylie\n",
      "https://example.org/author/neelyanne NEELY, Anne\n",
      "https://example.org/author/gilbertsonjennyisabelneebrown GILBERTSON, Jenny Isabel (nee Brown)\n",
      "https://example.org/author/grayalexanderjoe GRAY, Alexander ‘Joe’\n",
      "https://example.org/author/hartjames HART, James\n",
      "https://example.org/author/irvinemalcolm IRVINE, Malcolm\n",
      "https://example.org/author/glasgowcorporation Glasgow Corporation\n",
      "https://example.org/author/annandlouise Annand, Louise\n",
      "https://example.org/author/elderjohnc ELDER, John C\n",
      "https://example.org/author/birrellharry Birrell, Harry\n",
      "https://example.org/author/loorijjanpaulusjack LOORIJ, Jan Paulus (Jack)\n"
     ]
    }
   ],
   "source": [
    "print('##### List of authors:')\n",
    "    \n",
    "# Query the data in g using SPARQL\n",
    "q = \"\"\"\n",
    "    PREFIX foaf: <http://xmlns.com/foaf/0.1/>\n",
    "    SELECT ?s ?name \n",
    "    WHERE {?s a foaf:Person . ?s foaf:name ?name} \n",
    "\"\"\"\n",
    "\n",
    "# Apply the query to the graph and iterate through results\n",
    "for r in g.query(q):\n",
    "    print(r[\"s\"] + \" \" + r[\"name\"])"
   ]
  },
  {
   "cell_type": "markdown",
   "id": "5bbe3c00",
   "metadata": {},
   "source": [
    "### Organizations"
   ]
  },
  {
   "cell_type": "code",
   "execution_count": 36,
   "id": "a9254113",
   "metadata": {},
   "outputs": [
    {
     "name": "stdout",
     "output_type": "stream",
     "text": [
      "##### Number of organizations:\n",
      "50\n"
     ]
    }
   ],
   "source": [
    "print('##### Number of organizations:')\n",
    "    \n",
    "# Query the data in g using SPARQL\n",
    "q = \"\"\"\n",
    "    PREFIX foaf: <http://xmlns.com/foaf/0.1/>\n",
    "    SELECT (COUNT(*) as ?orgs) \n",
    "    WHERE { ?s ?p ?o . ?s a foaf:Organization} \n",
    "\"\"\"\n",
    "\n",
    "# Apply the query to the graph and iterate through results\n",
    "for r in g.query(q):\n",
    "    print(r[\"orgs\"])"
   ]
  },
  {
   "cell_type": "markdown",
   "id": "16c00c0e",
   "metadata": {},
   "source": [
    "### How a resource typed as Organization is defined?"
   ]
  },
  {
   "cell_type": "code",
   "execution_count": 37,
   "id": "fab64e3e",
   "metadata": {},
   "outputs": [
    {
     "name": "stdout",
     "output_type": "stream",
     "text": [
      "##### Check the properties used to define an organization:\n"
     ]
    }
   ],
   "source": [
    "print('##### Check the properties used to define an organization:')\n",
    "    \n",
    "# Query the data in g using SPARQL\n",
    "q = \"\"\"\n",
    "    PREFIX foaf: <http://xmlns.com/foaf/0.1/>\n",
    "    SELECT *\n",
    "    WHERE {<http://example.org/organisation/ifascotland> ?p ?o} \n",
    "    limit 40\n",
    "\"\"\"\n",
    "\n",
    "# Apply the query to the graph and iterate through results\n",
    "for r in g.query(q):\n",
    "    print(r[\"p\"] + \" \" + r[\"o\"])"
   ]
  },
  {
   "cell_type": "code",
   "execution_count": 38,
   "id": "9bb10e82",
   "metadata": {},
   "outputs": [
    {
     "name": "stderr",
     "output_type": "stream",
     "text": [
      "https://example.org/organization/greensfilmservice  does not look like a valid URI, trying to serialize this will break.\n",
      "https://example.org/organization/greensfilmservice Green’s Film Service / Green’s Topical Productions does not look like a valid URI, trying to serialize this will break.\n",
      "https://example.org/organization/campbellharperproductions  does not look like a valid URI, trying to serialize this will break.\n",
      "https://example.org/organization/campbellharperproductions Campbell Harper Productions does not look like a valid URI, trying to serialize this will break.\n",
      "https://example.org/organization/filmsofscotlandcommittee  does not look like a valid URI, trying to serialize this will break.\n",
      "https://example.org/organization/filmsofscotlandcommittee Films of Scotland Committee does not look like a valid URI, trying to serialize this will break.\n",
      "https://example.org/organization/ifascotland  does not look like a valid URI, trying to serialize this will break.\n",
      "https://example.org/organization/ifascotland IFA Scotland does not look like a valid URI, trying to serialize this will break.\n",
      "https://example.org/organization/scottishamateurfilmfestivalsaff  does not look like a valid URI, trying to serialize this will break.\n",
      "https://example.org/organization/scottishamateurfilmfestivalsaff Scottish Amateur Film Festival (SAFF) does not look like a valid URI, trying to serialize this will break.\n",
      "https://example.org/organization/treefilms  does not look like a valid URI, trying to serialize this will break.\n",
      "https://example.org/organization/treefilms Tree Films does not look like a valid URI, trying to serialize this will break.\n",
      "https://example.org/organization/peliculafilms  does not look like a valid URI, trying to serialize this will break.\n",
      "https://example.org/organization/peliculafilms Pelicula Films does not look like a valid URI, trying to serialize this will break.\n",
      "https://example.org/organization/templarfilms  does not look like a valid URI, trying to serialize this will break.\n",
      "https://example.org/organization/templarfilms Templar Films does not look like a valid URI, trying to serialize this will break.\n",
      "https://example.org/organization/scottishfilms  does not look like a valid URI, trying to serialize this will break.\n",
      "https://example.org/organization/scottishfilms Scottish Films / Thames and Clyde Productions does not look like a valid URI, trying to serialize this will break.\n",
      "https://example.org/organization/elderdalrympleproductions  does not look like a valid URI, trying to serialize this will break.\n",
      "https://example.org/organization/elderdalrympleproductions Elder Dalrymple Productions / Elder Films does not look like a valid URI, trying to serialize this will break.\n"
     ]
    },
    {
     "name": "stdout",
     "output_type": "stream",
     "text": [
      "##### List of organizations:\n",
      "https://example.org/organization/greensfilmservice Green’s Film Service / Green’s Topical Productions\n",
      "https://example.org/organization/campbellharperproductions Campbell Harper Productions\n",
      "https://example.org/organization/filmsofscotlandcommittee Films of Scotland Committee\n",
      "https://example.org/organization/ifascotland IFA Scotland\n",
      "https://example.org/organization/scottishamateurfilmfestivalsaff Scottish Amateur Film Festival (SAFF)\n",
      "https://example.org/organization/treefilms Tree Films\n",
      "https://example.org/organization/peliculafilms Pelicula Films\n",
      "https://example.org/organization/templarfilms Templar Films\n",
      "https://example.org/organization/scottishfilms Scottish Films / Thames and Clyde Productions\n",
      "https://example.org/organization/elderdalrympleproductions Elder Dalrymple Productions / Elder Films\n"
     ]
    }
   ],
   "source": [
    "print('##### List of organizations:')\n",
    "    \n",
    "# Query the data in g using SPARQL\n",
    "q = \"\"\"\n",
    "    PREFIX foaf: <http://xmlns.com/foaf/0.1/>\n",
    "    SELECT ?s ?name \n",
    "    WHERE {?s a foaf:Organization . ?s foaf:name ?name} \n",
    "\"\"\"\n",
    "\n",
    "# Apply the query to the graph and iterate through results\n",
    "for r in g.query(q):\n",
    "    print(r[\"s\"] + \" \" + r[\"name\"])"
   ]
  },
  {
   "cell_type": "markdown",
   "id": "e383f8b4",
   "metadata": {},
   "source": [
    "### Subjects"
   ]
  },
  {
   "cell_type": "code",
   "execution_count": 39,
   "id": "92262ea9",
   "metadata": {},
   "outputs": [
    {
     "name": "stdout",
     "output_type": "stream",
     "text": [
      "##### Number of subjects:\n",
      "91\n"
     ]
    }
   ],
   "source": [
    "print('##### Number of subjects:')\n",
    "    \n",
    "# Query the data in g using SPARQL\n",
    "q = \"\"\"\n",
    "    SELECT (COUNT(distinct ?subject) as ?subjects) \n",
    "    WHERE { ?s dc:subject ?subject} \n",
    "\"\"\"\n",
    "\n",
    "# Apply the query to the graph and iterate through results\n",
    "for r in g.query(q):\n",
    "    print(r[\"subjects\"])"
   ]
  },
  {
   "cell_type": "markdown",
   "id": "8c7b99c0",
   "metadata": {},
   "source": [
    "### List of subjects"
   ]
  },
  {
   "cell_type": "code",
   "execution_count": 40,
   "id": "d2b18e02",
   "metadata": {},
   "outputs": [
    {
     "name": "stdout",
     "output_type": "stream",
     "text": [
      "##### List of subjects:\n",
      "Transport\n",
      "Celts and Celtic Culture\n",
      "Leisure and Recreation\n",
      "Music\n",
      "Sporting Activities\n",
      "Gaelic\n",
      "Carriages\n",
      "Employment, Industry and Industrial Relations\n",
      "Fish Gutting\n",
      "Fish Markets\n"
     ]
    }
   ],
   "source": [
    "print('##### List of subjects:')\n",
    "    \n",
    "# Query the data in g using SPARQL\n",
    "q = \"\"\"\n",
    "    PREFIX foaf: <http://xmlns.com/foaf/0.1/>\n",
    "    SELECT distinct ?subject \n",
    "    WHERE { ?s dc:subject ?subject} \n",
    "    limit 10\n",
    "\"\"\"\n",
    "\n",
    "# Apply the query to the graph and iterate through results\n",
    "for r in g.query(q):\n",
    "    print(r[\"subject\"])  #+ \" \" + r[\"name\"])"
   ]
  },
  {
   "cell_type": "markdown",
   "id": "c4e7e222",
   "metadata": {},
   "source": [
    "### Group by subject"
   ]
  },
  {
   "cell_type": "code",
   "execution_count": 41,
   "id": "53af72c6",
   "metadata": {},
   "outputs": [
    {
     "name": "stdout",
     "output_type": "stream",
     "text": [
      "##### group by subjects:\n",
      "Gaelic 1943\n",
      "Leisure and Recreation 1145\n",
      "Transport 732\n",
      "Employment, Industry and Industrial Relations 730\n",
      "Sporting Activities 625\n",
      "Ships and Shipping 567\n",
      "Education 525\n",
      "Celebrations, Traditions and Customs 497\n",
      "Tourism and Travel 459\n",
      "Media, Communication and the Creative Industries 441\n",
      "Children and Infants 426\n",
      "Ceremonies 420\n",
      "Arts and Crafts 386\n",
      "Agriculture 379\n",
      "Construction and Engineering 363\n",
      "Fish and Fishing 311\n",
      "Emotions, Attitudes and Behaviour 299\n",
      "Food and Drink 299\n",
      "Art and Artists, general 289\n",
      "Landscapes and Seascapes 284\n",
      "Environment 274\n",
      "Water and Waterways 255\n",
      "Home Life 239\n",
      "Military, the 236\n",
      "Animals 234\n",
      "Politics 228\n",
      "Science and Technology 223\n",
      "Power Resources 223\n",
      "Religion 221\n",
      "Healthcare 212\n",
      "War 210\n",
      "Architecture and Buildings 204\n",
      "Birds 164\n",
      "Royalty 157\n",
      "Housing and Living Conditions 145\n",
      "Music 135\n",
      "Fishing Boats 131\n",
      "Buses and Coaches, general 119\n",
      "Carriages 106\n",
      "Ferries 95\n",
      "Local Government 88\n",
      "Forth River 85\n",
      "Crime, Punishment and Law Enforcement 69\n",
      "Institutional Care 63\n",
      "Celts and Celtic Culture 61\n",
      "British Empire, the 61\n",
      "Paddle Steamers 59\n"
     ]
    }
   ],
   "source": [
    "print('##### group by subjects:')\n",
    "    \n",
    "# Query the data in g using SPARQL\n",
    "q = \"\"\"\n",
    "    SELECT ?subject (COUNT(distinct ?s) as ?count) \n",
    "    WHERE { ?s dc:subject ?subject} \n",
    "    GROUP BY ?subject\n",
    "    HAVING (count(distinct ?s) > 50)\n",
    "    ORDER BY DESC(?count)\n",
    "\"\"\"\n",
    "\n",
    "# Apply the query to the graph and iterate through results\n",
    "for r in g.query(q):\n",
    "    print(str(r[\"subject\"]) + \" \" + str(r[\"count\"]))"
   ]
  },
  {
   "cell_type": "markdown",
   "id": "e9327550",
   "metadata": {},
   "source": [
    "### Group by author"
   ]
  },
  {
   "cell_type": "code",
   "execution_count": 42,
   "id": "6096e4e0",
   "metadata": {},
   "outputs": [
    {
     "name": "stdout",
     "output_type": "stream",
     "text": [
      "##### group by authors:\n",
      "https://example.org/organization/templarfilms 318\n",
      "https://example.org/organization/filmsofscotlandcommittee 166\n",
      "https://example.org/organization/campbellharperproductions 130\n",
      "https://example.org/organization/scottishamateurfilmfestivalsaff 117\n",
      "https://example.org/author/russellstanleylivingstone 63\n",
      "https://example.org/author/cocozzaenrico 62\n",
      "https://example.org/author/elderjohnc 58\n",
      "https://example.org/author/colonelarthureirvineandrichardirvinecollection 50\n",
      "https://example.org/author/nairnjamess 49\n",
      "https://example.org/author/taitmargaret 48\n",
      "https://example.org/author/glasgowcorporation 46\n",
      "https://example.org/organization/scottishfilms 45\n",
      "https://example.org/author/annandlouise 39\n",
      "https://example.org/author/harperalanjames 39\n",
      "https://example.org/author/taggartnan 39\n",
      "https://example.org/author/cooperhenry 38\n",
      "https://example.org/organization/ifascotland 37\n",
      "https://example.org/author/jayronaldl 37\n",
      "https://example.org/organization/greensfilmservice 37\n",
      "https://example.org/organization/elderdalrympleproductions 36\n",
      "https://example.org/author/mickeldouglas 35\n",
      "https://example.org/author/dicksonlouis 32\n",
      "https://example.org/author/ogamfilms 29\n",
      "https://example.org/author/grigormurray 28\n",
      "https://example.org/organization/peliculafilms 27\n"
     ]
    }
   ],
   "source": [
    "print('##### group by authors:')\n",
    "    \n",
    "# Query the data in g using SPARQL\n",
    "q = \"\"\"\n",
    "    SELECT ?author (COUNT(distinct ?s) as ?count) \n",
    "    WHERE { ?s schema:author ?author} \n",
    "    GROUP BY ?author\n",
    "    HAVING (count(distinct ?s) > 20)\n",
    "    ORDER BY DESC(?count)\n",
    "\"\"\"\n",
    "\n",
    "# Apply the query to the graph and iterate through results\n",
    "for r in g.query(q):\n",
    "    print(str(r[\"author\"]) + \" \" + str(r[\"count\"]))"
   ]
  },
  {
   "cell_type": "markdown",
   "id": "5cb565a3",
   "metadata": {},
   "source": [
    "### Places"
   ]
  },
  {
   "cell_type": "code",
   "execution_count": 43,
   "id": "67ee00b6",
   "metadata": {},
   "outputs": [
    {
     "name": "stdout",
     "output_type": "stream",
     "text": [
      "##### Number of places:\n",
      "44\n"
     ]
    }
   ],
   "source": [
    "print('##### Number of places:')\n",
    "    \n",
    "# Query the data in g using SPARQL\n",
    "q = \"\"\"\n",
    "    PREFIX dcterms: <http://purl.org/dc/terms/>\n",
    "    SELECT (COUNT(distinct ?place) as ?places) \n",
    "    WHERE { ?s dcterms:spatial ?place} \n",
    "\"\"\"\n",
    "\n",
    "# Apply the query to the graph and iterate through results\n",
    "for r in g.query(q):\n",
    "    print(r[\"places\"])"
   ]
  },
  {
   "cell_type": "markdown",
   "id": "3fd8d4d2",
   "metadata": {},
   "source": [
    "### Group by Place"
   ]
  },
  {
   "cell_type": "code",
   "execution_count": 44,
   "id": "8e3004e7",
   "metadata": {},
   "outputs": [
    {
     "name": "stdout",
     "output_type": "stream",
     "text": [
      "##### group by place:\n",
      "https://example.org/location/glasgow 976\n",
      "https://example.org/location/edinburgh 686\n",
      "https://example.org/location/ayrshire 288\n",
      "https://example.org/location/renfrewshire 288\n",
      "https://example.org/location/lanarkshire 271\n",
      "https://example.org/location/fife 254\n",
      "https://example.org/location/aberdeen 248\n",
      "https://example.org/location/argyllshire 230\n",
      "https://example.org/location/aberdeenshire 216\n",
      "https://example.org/location/perth 201\n",
      "https://example.org/location/dunbartonshire 194\n",
      "https://example.org/location/dundee 142\n",
      "https://example.org/location/highlandsthe 140\n",
      "https://example.org/location/invernesshire 134\n",
      "https://example.org/location/westlothian 128\n",
      "https://example.org/location/innerhebrides 124\n",
      "https://example.org/location/outerhebrides 119\n",
      "https://example.org/location/dumfriesshire 118\n",
      "https://example.org/location/orkneyislands 117\n",
      "https://example.org/location/borders 108\n",
      "https://example.org/location/stirlingshire 98\n",
      "https://example.org/location/shetlandislands 86\n",
      "https://example.org/location/forthriver 85\n",
      "https://example.org/location/bute 78\n",
      "https://example.org/location/eastlothian 73\n",
      "https://example.org/location/morayshire 68\n",
      "https://example.org/location/ross-shire 66\n",
      "https://example.org/location/stirling 62\n",
      "https://example.org/location/midlothian 61\n",
      "https://example.org/location/roxburghshire 58\n",
      "https://example.org/location/caithness 57\n",
      "https://example.org/location/banff 57\n",
      "https://example.org/location/angus 55\n",
      "https://example.org/location/berwickshire 48\n",
      "https://example.org/location/selkirkshire 41\n",
      "https://example.org/location/sutherland 35\n",
      "https://example.org/location/wigtownshire 26\n",
      "https://example.org/location/peebles-shire 23\n"
     ]
    }
   ],
   "source": [
    "print('##### group by place:')\n",
    "    \n",
    "# Query the data in g using SPARQL\n",
    "q = \"\"\"\n",
    "    PREFIX dcterms: <http://purl.org/dc/terms/> \n",
    "    SELECT ?place (COUNT(distinct ?s) as ?count) \n",
    "    WHERE { ?s dcterms:spatial ?place} \n",
    "    GROUP BY ?place\n",
    "    HAVING (count(distinct ?s) > 20)\n",
    "    ORDER BY DESC(?count)\n",
    "\"\"\"\n",
    "\n",
    "# Apply the query to the graph and iterate through results\n",
    "for r in g.query(q):\n",
    "    print(str(r[\"place\"]) + \" \" + str(r[\"count\"]))    "
   ]
  },
  {
   "cell_type": "code",
   "execution_count": null,
   "id": "ef380006",
   "metadata": {},
   "outputs": [],
   "source": []
  }
 ],
 "metadata": {
  "kernelspec": {
   "display_name": "Python 3",
   "language": "python",
   "name": "python3"
  },
  "language_info": {
   "codemirror_mode": {
    "name": "ipython",
    "version": 3
   },
   "file_extension": ".py",
   "mimetype": "text/x-python",
   "name": "python",
   "nbconvert_exporter": "python",
   "pygments_lexer": "ipython3",
   "version": "3.9.12"
  }
 },
 "nbformat": 4,
 "nbformat_minor": 5
}
