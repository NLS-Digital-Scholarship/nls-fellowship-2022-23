{
 "cells": [
  {
   "cell_type": "code",
   "execution_count": 1,
   "id": "62b0a9b5",
   "metadata": {},
   "outputs": [],
   "source": [
    "from rdflib import Graph\n",
    "\n",
    "# Create a Graph\n",
    "g = Graph().parse(\"../rdf/movingImageArchiveEnriched.rdf\")"
   ]
  },
  {
   "cell_type": "markdown",
   "id": "8c8756a3",
   "metadata": {},
   "source": [
    "### Number of classes"
   ]
  },
  {
   "cell_type": "code",
   "execution_count": 3,
   "id": "19f0fd80",
   "metadata": {},
   "outputs": [
    {
     "name": "stdout",
     "output_type": "stream",
     "text": [
      "##### Number of classes:\n",
      "7\n"
     ]
    }
   ],
   "source": [
    "print('##### Number of classes:')\n",
    "\n",
    "# Query the data in g using SPARQL\n",
    "q = \"\"\"\n",
    "    SELECT (count(distinct ?class) as ?classes)\n",
    "    WHERE {\n",
    "        ?s a ?class .\n",
    "    }\n",
    "\"\"\"\n",
    "\n",
    "# Apply the query to the graph and iterate through results\n",
    "for r in g.query(q):\n",
    "    print(r[\"classes\"])"
   ]
  },
  {
   "cell_type": "markdown",
   "id": "55571ad2",
   "metadata": {},
   "source": [
    "### Classes"
   ]
  },
  {
   "cell_type": "code",
   "execution_count": 4,
   "id": "fb07a7f7",
   "metadata": {},
   "outputs": [
    {
     "name": "stdout",
     "output_type": "stream",
     "text": [
      "##### Classes:\n",
      "http://schema.org/VideoObject\n",
      "http://www.europeana.eu/schemas/edm/Place\n",
      "http://schema.org/Place\n",
      "http://schema.org/Organization\n",
      "http://xmlns.com/foaf/0.1/Organization\n",
      "http://schema.org/Person\n",
      "http://xmlns.com/foaf/0.1/Person\n"
     ]
    }
   ],
   "source": [
    "print('##### Classes:')\n",
    "\n",
    "# Query the data in g using SPARQL\n",
    "q = \"\"\"\n",
    "    SELECT distinct ?class\n",
    "    WHERE {\n",
    "        ?s a ?class .\n",
    "    }\n",
    "\"\"\"\n",
    "\n",
    "# Apply the query to the graph and iterate through results\n",
    "for r in g.query(q):\n",
    "    print(r[\"class\"])"
   ]
  },
  {
   "cell_type": "markdown",
   "id": "2b5db07c",
   "metadata": {},
   "source": [
    "### Number of properties"
   ]
  },
  {
   "cell_type": "code",
   "execution_count": 5,
   "id": "79e6ec69",
   "metadata": {},
   "outputs": [
    {
     "name": "stdout",
     "output_type": "stream",
     "text": [
      "##### Number of properties:\n",
      "21\n"
     ]
    }
   ],
   "source": [
    "print('##### Number of properties:')\n",
    "\n",
    "# Query the data in g using SPARQL\n",
    "q = \"\"\"\n",
    "    SELECT (count(distinct ?prop) as ?properties)\n",
    "    WHERE {\n",
    "        ?s ?prop ?o .\n",
    "    }\n",
    "\"\"\"\n",
    "\n",
    "# Apply the query to the graph and iterate through results\n",
    "for r in g.query(q):\n",
    "    print(r[\"properties\"])"
   ]
  },
  {
   "cell_type": "markdown",
   "id": "bd167a71",
   "metadata": {},
   "source": [
    "### Properties"
   ]
  },
  {
   "cell_type": "code",
   "execution_count": 6,
   "id": "b76d270b",
   "metadata": {},
   "outputs": [
    {
     "name": "stdout",
     "output_type": "stream",
     "text": [
      "##### Properties:\n",
      "http://schema.org/abstract\n",
      "http://schema.org/duration\n",
      "http://schema.org/datePublished\n",
      "http://schema.org/identifier\n",
      "http://schema.org/name\n",
      "http://www.w3.org/1999/02/22-rdf-syntax-ns#type\n",
      "http://schema.org/sourceOrganization\n",
      "http://schema.org/videoQuality\n",
      "http://purl.org/dc/elements/1.1/subject\n",
      "http://schema.org/author\n",
      "http://schema.org/creditText\n",
      "http://purl.org/dc/terms/spatial\n",
      "http://schema.org/creator\n",
      "http://www.w3.org/2003/01/geo/wgs84_pos#lat\n",
      "http://schema.org/givenName\n",
      "http://www.w3.org/2003/01/geo/wgs84_pos#long\n",
      "http://www.w3.org/2002/07/owl#sameAs\n",
      "http://www.w3.org/2004/02/skos/core#prefLabel\n",
      "http://xmlns.com/foaf/0.1/name\n",
      "http://schema.org/url\n",
      "http://schema.org/logo\n"
     ]
    }
   ],
   "source": [
    "print('##### Properties:')\n",
    "\n",
    "# Query the data in g using SPARQL\n",
    "q = \"\"\"\n",
    "    SELECT distinct ?prop\n",
    "    WHERE {\n",
    "        ?s ?prop ?o .\n",
    "    }\n",
    "\"\"\"\n",
    "\n",
    "# Apply the query to the graph and iterate through results\n",
    "for r in g.query(q):\n",
    "    print(r[\"prop\"])"
   ]
  },
  {
   "cell_type": "markdown",
   "id": "2781494e",
   "metadata": {},
   "source": [
    "### Number of external links"
   ]
  },
  {
   "cell_type": "code",
   "execution_count": 7,
   "id": "6f8e1ca9",
   "metadata": {},
   "outputs": [
    {
     "name": "stdout",
     "output_type": "stream",
     "text": [
      "##### Number of owl:sameAs properties:\n",
      "75\n"
     ]
    }
   ],
   "source": [
    "print('##### Number of owl:sameAs properties:')\n",
    "    \n",
    "# Query the data in g using SPARQL\n",
    "q = \"\"\"\n",
    "    SELECT (count(distinct ?sameAs) as ?total)\n",
    "    WHERE {\n",
    "        ?p owl:sameAs ?sameAs .\n",
    "    }\n",
    "\"\"\"\n",
    "\n",
    "# Apply the query to the graph and iterate through results\n",
    "for r in g.query(q):\n",
    "    print(r[\"total\"])"
   ]
  },
  {
   "cell_type": "markdown",
   "id": "49e828cd",
   "metadata": {},
   "source": [
    "### Number of triples"
   ]
  },
  {
   "cell_type": "code",
   "execution_count": 8,
   "id": "bae40ae0",
   "metadata": {},
   "outputs": [
    {
     "name": "stdout",
     "output_type": "stream",
     "text": [
      "##### Number of triples:\n",
      "183065\n"
     ]
    }
   ],
   "source": [
    "print('##### Number of triples:')\n",
    "    \n",
    "# Query the data in g using SPARQL\n",
    "q = \"\"\"\n",
    "    SELECT (COUNT(*) as ?triples) \n",
    "    WHERE { ?s ?p ?o } \n",
    "\"\"\"\n",
    "\n",
    "# Apply the query to the graph and iterate through results\n",
    "for r in g.query(q):\n",
    "    print(r[\"triples\"])"
   ]
  },
  {
   "cell_type": "markdown",
   "id": "aa8b599f",
   "metadata": {},
   "source": [
    "### Number of authors"
   ]
  },
  {
   "cell_type": "code",
   "execution_count": 9,
   "id": "b6f707ee",
   "metadata": {},
   "outputs": [
    {
     "name": "stdout",
     "output_type": "stream",
     "text": [
      "##### Number of authors:\n",
      "112\n"
     ]
    }
   ],
   "source": [
    "print('##### Number of authors:')\n",
    "    \n",
    "# Query the data in g using SPARQL\n",
    "q = \"\"\"\n",
    "    PREFIX foaf: <http://xmlns.com/foaf/0.1/>\n",
    "    SELECT (COUNT(*) as ?authors) \n",
    "    WHERE { ?s ?p ?o . ?s a foaf:Person} \n",
    "\"\"\"\n",
    "\n",
    "# Apply the query to the graph and iterate through results\n",
    "for r in g.query(q):\n",
    "    print(r[\"authors\"])"
   ]
  },
  {
   "cell_type": "markdown",
   "id": "3322a1fc",
   "metadata": {},
   "source": [
    "### Authors"
   ]
  },
  {
   "cell_type": "code",
   "execution_count": 9,
   "id": "6e346b31",
   "metadata": {},
   "outputs": [
    {
     "name": "stderr",
     "output_type": "stream",
     "text": [
      "http://example.org/author/walkerwilliam  does not look like a valid URI, trying to serialize this will break.\n",
      "http://example.org/author/walkerwilliam WALKER, William does not look like a valid URI, trying to serialize this will break.\n",
      "http://example.org/author/cooperhenry  does not look like a valid URI, trying to serialize this will break.\n",
      "http://example.org/author/cooperhenry COOPER, Henry does not look like a valid URI, trying to serialize this will break.\n",
      "http://example.org/author/irvinemalcolm  does not look like a valid URI, trying to serialize this will break.\n",
      "http://example.org/author/irvinemalcolm IRVINE, Malcolm does not look like a valid URI, trying to serialize this will break.\n",
      "http://example.org/author/elderjohnc  does not look like a valid URI, trying to serialize this will break.\n",
      "http://example.org/author/elderjohnc ELDER, John C does not look like a valid URI, trying to serialize this will break.\n",
      "http://example.org/author/taggartnan  does not look like a valid URI, trying to serialize this will break.\n",
      "http://example.org/author/taggartnan Taggart, Nan does not look like a valid URI, trying to serialize this will break.\n",
      "http://example.org/author/loorijjanpaulusjack  does not look like a valid URI, trying to serialize this will break.\n",
      "http://example.org/author/loorijjanpaulusjack LOORIJ, Jan Paulus (Jack) does not look like a valid URI, trying to serialize this will break.\n",
      "http://example.org/author/birrellharry  does not look like a valid URI, trying to serialize this will break.\n",
      "http://example.org/author/birrellharry Birrell, Harry does not look like a valid URI, trying to serialize this will break.\n",
      "http://example.org/author/grayalexanderjoe  does not look like a valid URI, trying to serialize this will break.\n",
      "http://example.org/author/grayalexanderjoe GRAY, Alexander ‘Joe’ does not look like a valid URI, trying to serialize this will break.\n",
      "http://example.org/author/cocozzaenrico  does not look like a valid URI, trying to serialize this will break.\n",
      "http://example.org/author/cocozzaenrico COCOZZA, Enrico does not look like a valid URI, trying to serialize this will break.\n",
      "http://example.org/author/harperalanjames  does not look like a valid URI, trying to serialize this will break.\n",
      "http://example.org/author/harperalanjames HARPER, Alan James does not look like a valid URI, trying to serialize this will break.\n",
      "http://example.org/author/dicksonlouis  does not look like a valid URI, trying to serialize this will break.\n",
      "http://example.org/author/dicksonlouis DICKSON, Louis does not look like a valid URI, trying to serialize this will break.\n",
      "http://example.org/author/grigormurray  does not look like a valid URI, trying to serialize this will break.\n",
      "http://example.org/author/grigormurray Grigor, Murray does not look like a valid URI, trying to serialize this will break.\n",
      "http://example.org/author/jayronaldl  does not look like a valid URI, trying to serialize this will break.\n",
      "http://example.org/author/jayronaldl JAY, Ronald L. does not look like a valid URI, trying to serialize this will break.\n",
      "http://example.org/author/hutchisonisobelwylie  does not look like a valid URI, trying to serialize this will break.\n",
      "http://example.org/author/hutchisonisobelwylie HUTCHISON, Isobel Wylie does not look like a valid URI, trying to serialize this will break.\n",
      "http://example.org/author/gilbertsonjennyisabelneebrown  does not look like a valid URI, trying to serialize this will break.\n",
      "http://example.org/author/gilbertsonjennyisabelneebrown GILBERTSON, Jenny Isabel (nee Brown) does not look like a valid URI, trying to serialize this will break.\n",
      "http://example.org/author/nairnjamess  does not look like a valid URI, trying to serialize this will break.\n",
      "http://example.org/author/nairnjamess NAIRN, James S. does not look like a valid URI, trying to serialize this will break.\n",
      "http://example.org/author/gillespiejamesstirling  does not look like a valid URI, trying to serialize this will break.\n",
      "http://example.org/author/gillespiejamesstirling GILLESPIE, James Stirling does not look like a valid URI, trying to serialize this will break.\n",
      "http://example.org/author/riddell-blackrobert  does not look like a valid URI, trying to serialize this will break.\n",
      "http://example.org/author/riddell-blackrobert RIDDELL-BLACK, Robert does not look like a valid URI, trying to serialize this will break.\n",
      "http://example.org/author/ogamfilms/oscarmarzaroli  does not look like a valid URI, trying to serialize this will break.\n",
      "http://example.org/author/ogamfilms/oscarmarzaroli Ogam Films / Oscar Marzaroli does not look like a valid URI, trying to serialize this will break.\n",
      "http://example.org/author/mickeldouglas  does not look like a valid URI, trying to serialize this will break.\n",
      "http://example.org/author/mickeldouglas MICKEL, Douglas does not look like a valid URI, trying to serialize this will break.\n",
      "http://example.org/author/neelyanne  does not look like a valid URI, trying to serialize this will break.\n",
      "http://example.org/author/neelyanne NEELY, Anne does not look like a valid URI, trying to serialize this will break.\n",
      "http://example.org/author/russellstanleylivingstone  does not look like a valid URI, trying to serialize this will break.\n",
      "http://example.org/author/russellstanleylivingstone RUSSELL, Stanley Livingstone does not look like a valid URI, trying to serialize this will break.\n",
      "http://example.org/author/macleanwilliamjmac  does not look like a valid URI, trying to serialize this will break.\n",
      "http://example.org/author/macleanwilliamjmac MacLEAN, William J. ‘Mac’ does not look like a valid URI, trying to serialize this will break.\n",
      "http://example.org/author/glasgowcorporation  does not look like a valid URI, trying to serialize this will break.\n",
      "http://example.org/author/glasgowcorporation Glasgow Corporation does not look like a valid URI, trying to serialize this will break.\n",
      "http://example.org/author/taitmargaret  does not look like a valid URI, trying to serialize this will break.\n",
      "http://example.org/author/taitmargaret TAIT, Margaret does not look like a valid URI, trying to serialize this will break.\n",
      "http://example.org/author/colonelarthureirvineandrichardirvinecollection  does not look like a valid URI, trying to serialize this will break.\n",
      "http://example.org/author/colonelarthureirvineandrichardirvinecollection Colonel Arthur E Irvine and Richard Irvine Collection does not look like a valid URI, trying to serialize this will break.\n",
      "http://example.org/author/hartjames  does not look like a valid URI, trying to serialize this will break.\n",
      "http://example.org/author/hartjames HART, James does not look like a valid URI, trying to serialize this will break.\n",
      "http://example.org/author/annandlouise  does not look like a valid URI, trying to serialize this will break.\n",
      "http://example.org/author/annandlouise Annand, Louise does not look like a valid URI, trying to serialize this will break.\n"
     ]
    },
    {
     "name": "stdout",
     "output_type": "stream",
     "text": [
      "##### List of authors:\n",
      "http://example.org/author/walkerwilliam WALKER, William\n",
      "http://example.org/author/cooperhenry COOPER, Henry\n",
      "http://example.org/author/irvinemalcolm IRVINE, Malcolm\n",
      "http://example.org/author/elderjohnc ELDER, John C\n",
      "http://example.org/author/taggartnan Taggart, Nan\n",
      "http://example.org/author/loorijjanpaulusjack LOORIJ, Jan Paulus (Jack)\n",
      "http://example.org/author/birrellharry Birrell, Harry\n",
      "http://example.org/author/grayalexanderjoe GRAY, Alexander ‘Joe’\n",
      "http://example.org/author/cocozzaenrico COCOZZA, Enrico\n",
      "http://example.org/author/harperalanjames HARPER, Alan James\n",
      "http://example.org/author/dicksonlouis DICKSON, Louis\n",
      "http://example.org/author/grigormurray Grigor, Murray\n",
      "http://example.org/author/jayronaldl JAY, Ronald L.\n",
      "http://example.org/author/hutchisonisobelwylie HUTCHISON, Isobel Wylie\n",
      "http://example.org/author/gilbertsonjennyisabelneebrown GILBERTSON, Jenny Isabel (nee Brown)\n",
      "http://example.org/author/nairnjamess NAIRN, James S.\n",
      "http://example.org/author/gillespiejamesstirling GILLESPIE, James Stirling\n",
      "http://example.org/author/riddell-blackrobert RIDDELL-BLACK, Robert\n",
      "http://example.org/author/ogamfilms/oscarmarzaroli Ogam Films / Oscar Marzaroli\n",
      "http://example.org/author/mickeldouglas MICKEL, Douglas\n",
      "http://example.org/author/neelyanne NEELY, Anne\n",
      "http://example.org/author/russellstanleylivingstone RUSSELL, Stanley Livingstone\n",
      "http://example.org/author/macleanwilliamjmac MacLEAN, William J. ‘Mac’\n",
      "http://example.org/author/glasgowcorporation Glasgow Corporation\n",
      "http://example.org/author/taitmargaret TAIT, Margaret\n",
      "http://example.org/author/colonelarthureirvineandrichardirvinecollection Colonel Arthur E Irvine and Richard Irvine Collection\n",
      "http://example.org/author/hartjames HART, James\n",
      "http://example.org/author/annandlouise Annand, Louise\n"
     ]
    }
   ],
   "source": [
    "print('##### List of authors:')\n",
    "    \n",
    "# Query the data in g using SPARQL\n",
    "q = \"\"\"\n",
    "    PREFIX foaf: <http://xmlns.com/foaf/0.1/>\n",
    "    SELECT ?s ?name \n",
    "    WHERE {?s a foaf:Person . ?s foaf:name ?name} \n",
    "\"\"\"\n",
    "\n",
    "# Apply the query to the graph and iterate through results\n",
    "for r in g.query(q):\n",
    "    print(r[\"s\"] + \" \" + r[\"name\"])"
   ]
  },
  {
   "cell_type": "markdown",
   "id": "5bbe3c00",
   "metadata": {},
   "source": [
    "### Organizations"
   ]
  },
  {
   "cell_type": "code",
   "execution_count": 10,
   "id": "a9254113",
   "metadata": {},
   "outputs": [
    {
     "name": "stdout",
     "output_type": "stream",
     "text": [
      "##### Number of organizations:\n",
      "40\n"
     ]
    }
   ],
   "source": [
    "print('##### Number of organizations:')\n",
    "    \n",
    "# Query the data in g using SPARQL\n",
    "q = \"\"\"\n",
    "    PREFIX foaf: <http://xmlns.com/foaf/0.1/>\n",
    "    SELECT (COUNT(*) as ?orgs) \n",
    "    WHERE { ?s ?p ?o . ?s a foaf:Organization} \n",
    "\"\"\"\n",
    "\n",
    "# Apply the query to the graph and iterate through results\n",
    "for r in g.query(q):\n",
    "    print(r[\"orgs\"])"
   ]
  },
  {
   "cell_type": "markdown",
   "id": "16c00c0e",
   "metadata": {},
   "source": [
    "### List of Organizations"
   ]
  },
  {
   "cell_type": "code",
   "execution_count": 11,
   "id": "9bb10e82",
   "metadata": {},
   "outputs": [
    {
     "name": "stderr",
     "output_type": "stream",
     "text": [
      "http://example.org/organisation/ifascotland  does not look like a valid URI, trying to serialize this will break.\n",
      "http://example.org/organisation/ifascotland IFA Scotland does not look like a valid URI, trying to serialize this will break.\n",
      "http://example.org/organisation/scottishfilms/thamesandclydeproductions  does not look like a valid URI, trying to serialize this will break.\n",
      "http://example.org/organisation/scottishfilms/thamesandclydeproductions Scottish Films / Thames and Clyde Productions does not look like a valid URI, trying to serialize this will break.\n",
      "http://example.org/organisation/scottishamateurfilmfestivalsaff  does not look like a valid URI, trying to serialize this will break.\n",
      "http://example.org/organisation/scottishamateurfilmfestivalsaff Scottish Amateur Film Festival (SAFF) does not look like a valid URI, trying to serialize this will break.\n",
      "http://example.org/organisation/templarfilms  does not look like a valid URI, trying to serialize this will break.\n",
      "http://example.org/organisation/templarfilms Templar Films does not look like a valid URI, trying to serialize this will break.\n",
      "http://example.org/organisation/peliculafilms  does not look like a valid URI, trying to serialize this will break.\n",
      "http://example.org/organisation/peliculafilms Pelicula Films does not look like a valid URI, trying to serialize this will break.\n",
      "http://example.org/organisation/elderdalrympleproductions/elderfilms  does not look like a valid URI, trying to serialize this will break.\n",
      "http://example.org/organisation/elderdalrympleproductions/elderfilms Elder Dalrymple Productions / Elder Films does not look like a valid URI, trying to serialize this will break.\n",
      "http://example.org/organisation/treefilms  does not look like a valid URI, trying to serialize this will break.\n",
      "http://example.org/organisation/treefilms Tree Films does not look like a valid URI, trying to serialize this will break.\n",
      "http://example.org/organisation/greensfilmservice/greenstopicalproductions  does not look like a valid URI, trying to serialize this will break.\n",
      "http://example.org/organisation/greensfilmservice/greenstopicalproductions Green’s Film Service / Green’s Topical Productions does not look like a valid URI, trying to serialize this will break.\n",
      "http://example.org/organisation/filmsofscotlandcommittee  does not look like a valid URI, trying to serialize this will break.\n",
      "http://example.org/organisation/filmsofscotlandcommittee Films of Scotland Committee does not look like a valid URI, trying to serialize this will break.\n",
      "http://example.org/organisation/campbellharperproductions  does not look like a valid URI, trying to serialize this will break.\n",
      "http://example.org/organisation/campbellharperproductions Campbell Harper Productions does not look like a valid URI, trying to serialize this will break.\n"
     ]
    },
    {
     "name": "stdout",
     "output_type": "stream",
     "text": [
      "##### List of organizations:\n",
      "http://example.org/organisation/ifascotland IFA Scotland\n",
      "http://example.org/organisation/scottishfilms/thamesandclydeproductions Scottish Films / Thames and Clyde Productions\n",
      "http://example.org/organisation/scottishamateurfilmfestivalsaff Scottish Amateur Film Festival (SAFF)\n",
      "http://example.org/organisation/templarfilms Templar Films\n",
      "http://example.org/organisation/peliculafilms Pelicula Films\n",
      "http://example.org/organisation/elderdalrympleproductions/elderfilms Elder Dalrymple Productions / Elder Films\n",
      "http://example.org/organisation/treefilms Tree Films\n",
      "http://example.org/organisation/greensfilmservice/greenstopicalproductions Green’s Film Service / Green’s Topical Productions\n",
      "http://example.org/organisation/filmsofscotlandcommittee Films of Scotland Committee\n",
      "http://example.org/organisation/campbellharperproductions Campbell Harper Productions\n"
     ]
    }
   ],
   "source": [
    "print('##### List of organizations:')\n",
    "    \n",
    "# Query the data in g using SPARQL\n",
    "q = \"\"\"\n",
    "    PREFIX foaf: <http://xmlns.com/foaf/0.1/>\n",
    "    SELECT ?s ?name \n",
    "    WHERE {?s a foaf:Organization . ?s foaf:name ?name} \n",
    "\"\"\"\n",
    "\n",
    "# Apply the query to the graph and iterate through results\n",
    "for r in g.query(q):\n",
    "    print(r[\"s\"] + \" \" + r[\"name\"])"
   ]
  },
  {
   "cell_type": "markdown",
   "id": "e383f8b4",
   "metadata": {},
   "source": [
    "### Subjects"
   ]
  },
  {
   "cell_type": "code",
   "execution_count": 13,
   "id": "92262ea9",
   "metadata": {},
   "outputs": [
    {
     "name": "stdout",
     "output_type": "stream",
     "text": [
      "##### Number of subjects:\n",
      "2232\n"
     ]
    }
   ],
   "source": [
    "print('##### Number of subjects:')\n",
    "    \n",
    "# Query the data in g using SPARQL\n",
    "q = \"\"\"\n",
    "    SELECT (COUNT(distinct ?subject) as ?subjects) \n",
    "    WHERE { ?s dc:subject ?subject} \n",
    "\"\"\"\n",
    "\n",
    "# Apply the query to the graph and iterate through results\n",
    "for r in g.query(q):\n",
    "    print(r[\"subjects\"])"
   ]
  },
  {
   "cell_type": "markdown",
   "id": "8c7b99c0",
   "metadata": {},
   "source": [
    "### List of subjects"
   ]
  },
  {
   "cell_type": "code",
   "execution_count": 12,
   "id": "d2b18e02",
   "metadata": {},
   "outputs": [
    {
     "name": "stdout",
     "output_type": "stream",
     "text": [
      "##### List of subjects:\n",
      "Leisure and Recreation -- Tourism and Travel -- Water and Waterways\n",
      "Leisure and Recreation -- Tourism and Travel -- Water and Waterways\n",
      "Leisure and Recreation -- Tourism and Travel -- Water and Waterways\n",
      "Leisure and Recreation -- Tourism and Travel -- Water and Waterways\n",
      "Leisure and Recreation -- Tourism and Travel -- Water and Waterways\n",
      "Agriculture -- Media, Communication and the Creative Industries\n",
      "Agriculture -- Media, Communication and the Creative Industries\n",
      "Agriculture -- Media, Communication and the Creative Industries\n",
      "Arts and Crafts\n",
      "Arts and Crafts\n"
     ]
    }
   ],
   "source": [
    "print('##### List of subjects:')\n",
    "    \n",
    "# Query the data in g using SPARQL\n",
    "q = \"\"\"\n",
    "    PREFIX foaf: <http://xmlns.com/foaf/0.1/>\n",
    "    SELECT ?subject \n",
    "    WHERE { ?s dc:subject ?subject} \n",
    "    limit 10\n",
    "\"\"\"\n",
    "\n",
    "# Apply the query to the graph and iterate through results\n",
    "for r in g.query(q):\n",
    "    print(r[\"subject\"])  #+ \" \" + r[\"name\"])"
   ]
  },
  {
   "cell_type": "markdown",
   "id": "c4e7e222",
   "metadata": {},
   "source": [
    "### Group by subject"
   ]
  },
  {
   "cell_type": "code",
   "execution_count": 27,
   "id": "53af72c6",
   "metadata": {},
   "outputs": [
    {
     "name": "stdout",
     "output_type": "stream",
     "text": [
      "##### group by subjects:\n",
      "Gaelic 1935\n",
      "Leisure and Recreation 220\n",
      "Sporting Activities 204\n",
      "Ships and Shipping 160\n",
      "Transport 124\n",
      "Employment, Industry and Industrial Relations 98\n",
      "Celebrations, Traditions and Customs 89\n",
      "Tourism and Travel 88\n",
      "Media, Communication and the Creative Industries 70\n",
      "Education 69\n",
      "Religion 64\n",
      "Arts and Crafts 63\n",
      "Leisure and Recreation -- Sporting Activities 59\n",
      "Agriculture 59\n",
      "Construction and Engineering 56\n",
      "Politics 56\n",
      "Food and Drink -- Media, Communication and the Creative Industries 51\n"
     ]
    }
   ],
   "source": [
    "print('##### group by subjects:')\n",
    "    \n",
    "# Query the data in g using SPARQL\n",
    "q = \"\"\"\n",
    "    SELECT ?subject (COUNT(distinct ?s) as ?count) \n",
    "    WHERE { ?s dc:subject ?subject} \n",
    "    GROUP BY ?subject\n",
    "    HAVING (count(distinct ?s) > 50)\n",
    "    ORDER BY DESC(?count)\n",
    "\"\"\"\n",
    "\n",
    "# Apply the query to the graph and iterate through results\n",
    "for r in g.query(q):\n",
    "    print(str(r[\"subject\"]) + \" \" + str(r[\"count\"]))"
   ]
  },
  {
   "cell_type": "markdown",
   "id": "e9327550",
   "metadata": {},
   "source": [
    "### Group by author"
   ]
  },
  {
   "cell_type": "code",
   "execution_count": 36,
   "id": "6096e4e0",
   "metadata": {},
   "outputs": [
    {
     "name": "stdout",
     "output_type": "stream",
     "text": [
      "##### group by authors:\n",
      "http://example.org/organisation/templarfilms 304\n",
      "http://example.org/organisation/filmsofscotlandcommittee 146\n",
      "http://example.org/organisation/campbellharperproductions 130\n",
      "http://example.org/organisation/scottishamateurfilmfestivalsaff 116\n",
      "http://example.org/organisation/scottishfilms/thamesandclydeproductions 41\n",
      "http://example.org/organisation/greensfilmservice/greenstopicalproductions 37\n",
      "http://example.org/organisation/elderdalrympleproductions/elderfilms 36\n"
     ]
    }
   ],
   "source": [
    "print('##### group by authors:')\n",
    "    \n",
    "# Query the data in g using SPARQL\n",
    "q = \"\"\"\n",
    "    SELECT ?author (COUNT(distinct ?s) as ?count) \n",
    "    WHERE { ?s schema:author ?author} \n",
    "    GROUP BY ?author\n",
    "    HAVING (count(distinct ?s) > 20)\n",
    "    ORDER BY DESC(?count)\n",
    "\"\"\"\n",
    "\n",
    "# Apply the query to the graph and iterate through results\n",
    "for r in g.query(q):\n",
    "    print(str(r[\"author\"]) + \" \" + str(r[\"count\"]))"
   ]
  },
  {
   "cell_type": "code",
   "execution_count": null,
   "id": "cf77f114",
   "metadata": {},
   "outputs": [],
   "source": []
  }
 ],
 "metadata": {
  "kernelspec": {
   "display_name": "Python 3",
   "language": "python",
   "name": "python3"
  },
  "language_info": {
   "codemirror_mode": {
    "name": "ipython",
    "version": 3
   },
   "file_extension": ".py",
   "mimetype": "text/x-python",
   "name": "python",
   "nbconvert_exporter": "python",
   "pygments_lexer": "ipython3",
   "version": "3.9.12"
  }
 },
 "nbformat": 4,
 "nbformat_minor": 5
}
