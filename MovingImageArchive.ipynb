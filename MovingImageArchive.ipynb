{
 "cells": [
  {
   "cell_type": "markdown",
   "id": "585a839f",
   "metadata": {},
   "source": [
    "### Analysis of the dataset\n",
    "\n",
    "This dataset represents the descriptive metadata from the [Moving Image Archive catalogue](https://data.nls.uk/data/metadata-collections/moving-image-archive/), which is Scotland’s national collection of moving images."
   ]
  },
  {
   "cell_type": "code",
   "execution_count": 16,
   "id": "d07b0bb7",
   "metadata": {},
   "outputs": [],
   "source": [
    "import pymarc, re, csv\n",
    "import pandas as pd\n",
    "from pymarc import parse_xml_to_array"
   ]
  },
  {
   "cell_type": "code",
   "execution_count": 26,
   "id": "2e408cc8",
   "metadata": {},
   "outputs": [],
   "source": [
    "with open('data/output/movingImageArchive.csv', 'w') as csv_fichero:\n",
    "    csv_output = csv.writer(csv_fichero, delimiter = ',', quotechar = '\"', quoting = csv.QUOTE_MINIMAL)\n",
    "    csv_output.writerow(['title', 'author', 'place_publication', 'date', 'extension', 'credits', 'subjects', 'summary', 'details', 'link'])"
   ]
  },
  {
   "cell_type": "code",
   "execution_count": 28,
   "id": "a8307d8d",
   "metadata": {},
   "outputs": [
    {
     "ename": "ValueError",
     "evalue": "I/O operation on closed file.",
     "output_type": "error",
     "traceback": [
      "\u001b[0;31m---------------------------------------------------------------------------\u001b[0m",
      "\u001b[0;31mValueError\u001b[0m                                Traceback (most recent call last)",
      "\u001b[0;32m/tmp/ipykernel_10354/2976678393.py\u001b[0m in \u001b[0;36m<module>\u001b[0;34m\u001b[0m\n\u001b[1;32m     64\u001b[0m     \u001b[0;31m#    link = record['856']['u']\u001b[0m\u001b[0;34m\u001b[0m\u001b[0;34m\u001b[0m\u001b[0m\n\u001b[1;32m     65\u001b[0m \u001b[0;34m\u001b[0m\u001b[0m\n\u001b[0;32m---> 66\u001b[0;31m     \u001b[0mcsv_output\u001b[0m\u001b[0;34m.\u001b[0m\u001b[0mwriterow\u001b[0m\u001b[0;34m(\u001b[0m\u001b[0;34m[\u001b[0m\u001b[0mtitle\u001b[0m\u001b[0;34m,\u001b[0m\u001b[0mauthor\u001b[0m\u001b[0;34m,\u001b[0m\u001b[0mplace_publication\u001b[0m\u001b[0;34m,\u001b[0m\u001b[0mdate\u001b[0m\u001b[0;34m,\u001b[0m\u001b[0mextension\u001b[0m\u001b[0;34m,\u001b[0m\u001b[0mcredits\u001b[0m\u001b[0;34m,\u001b[0m\u001b[0msubjects\u001b[0m\u001b[0;34m,\u001b[0m\u001b[0msummary\u001b[0m\u001b[0;34m,\u001b[0m\u001b[0mdetails\u001b[0m\u001b[0;34m,\u001b[0m\u001b[0mlink\u001b[0m\u001b[0;34m]\u001b[0m\u001b[0;34m)\u001b[0m\u001b[0;34m\u001b[0m\u001b[0;34m\u001b[0m\u001b[0m\n\u001b[0m",
      "\u001b[0;31mValueError\u001b[0m: I/O operation on closed file."
     ]
    }
   ],
   "source": [
    "    records = parse_xml_to_array(open('data/movingImageArchive/Moving-Image-Archive-dataset-MARC.xml'))\n",
    "\n",
    "    for record in records:\n",
    "\n",
    "        title = author = place_publication = date = extension = credits = subjects = summary = details = link = ''\n",
    "\n",
    "        # title\n",
    "        if record['245'] is not None:\n",
    "            title = record['245']['a']\n",
    "            if record['245']['b'] is not None:\n",
    "                title = title + \" \" + record['245']['b']\n",
    "\n",
    "        # author\n",
    "        if record['100'] is not None:\n",
    "            author = record['100']['a']\n",
    "        elif record['110'] is not None:\n",
    "            author = record['110']['a']\n",
    "        elif record['700'] is not None:\n",
    "            author = record['700']['a']\n",
    "        elif record['710'] is not None:\n",
    "            author = record['710']['a']\n",
    "\n",
    "        # place of publication\n",
    "        if record['264'] is not None:\n",
    "            place_publication = record['264']['a']\n",
    "\n",
    "        # date\n",
    "        for f in record.get_fields('264'):\n",
    "            dates = f.get_subfields('c')\n",
    "            if len(dates):\n",
    "                date = dates[0]\n",
    "\n",
    "                if date.endswith('.'): date = date[:-1]\n",
    "\n",
    "\n",
    "        # extension\n",
    "        for f in record.get_fields('300'):\n",
    "            record = f.get_subfields('a')\n",
    "            if len(extension):\n",
    "                extension = extension[0]\n",
    "                # TODO cleaning\n",
    "            details = f.get_subfields('b')\n",
    "            if len(details):\n",
    "                details = details[0]\n",
    "\n",
    "        # credits\n",
    "        #if record['508'] is not None:\n",
    "        #    credits = record['508']['a']\n",
    "\n",
    "        # summary\n",
    "        #if record['520'] is not None:\n",
    "        #    summary = record['520']['a']\n",
    "\n",
    "        # subjects\n",
    "        #if record['653'] is not None:\n",
    "        #    subjects = ''\n",
    "        #    for f in record.get_fields('653'):\n",
    "        #        subjects += f.get_subfields('a')[0] + ' -- '\n",
    "        #    subjects = re.sub(' -- $', '', subjects)\n",
    "\n",
    "\n",
    "        # link\n",
    "        #if record['856'] is not None:\n",
    "        #    link = record['856']['u']\n",
    "\n",
    "        csv_output.writerow([title,author,place_publication,date,extension,credits,subjects,summary,details,link])"
   ]
  },
  {
   "cell_type": "code",
   "execution_count": null,
   "id": "ffa7d967",
   "metadata": {},
   "outputs": [],
   "source": []
  }
 ],
 "metadata": {
  "kernelspec": {
   "display_name": "Python 3",
   "language": "python",
   "name": "python3"
  },
  "language_info": {
   "codemirror_mode": {
    "name": "ipython",
    "version": 3
   },
   "file_extension": ".py",
   "mimetype": "text/x-python",
   "name": "python",
   "nbconvert_exporter": "python",
   "pygments_lexer": "ipython3",
   "version": "3.9.13"
  }
 },
 "nbformat": 4,
 "nbformat_minor": 5
}
