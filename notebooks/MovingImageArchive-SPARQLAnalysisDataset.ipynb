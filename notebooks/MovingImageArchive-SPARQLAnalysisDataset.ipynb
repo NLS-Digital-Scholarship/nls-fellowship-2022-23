{
 "cells": [
  {
   "cell_type": "code",
   "execution_count": 20,
   "id": "62b0a9b5",
   "metadata": {},
   "outputs": [],
   "source": [
    "from rdflib import Graph\n",
    "\n",
    "# Create a Graph\n",
    "g = Graph().parse(\"../rdf/movingImageArchiveEnriched.rdf\")"
   ]
  },
  {
   "cell_type": "markdown",
   "id": "8c8756a3",
   "metadata": {},
   "source": [
    "### Number of classes"
   ]
  },
  {
   "cell_type": "code",
   "execution_count": 13,
   "id": "19f0fd80",
   "metadata": {},
   "outputs": [
    {
     "name": "stdout",
     "output_type": "stream",
     "text": [
      "##### Number of classes:\n",
      "5\n"
     ]
    }
   ],
   "source": [
    "print('##### Number of classes:')\n",
    "\n",
    "# Query the data in g using SPARQL\n",
    "q = \"\"\"\n",
    "    SELECT (count(distinct ?class) as ?classes)\n",
    "    WHERE {\n",
    "        ?s a ?class .\n",
    "    }\n",
    "\"\"\"\n",
    "\n",
    "# Apply the query to the graph and iterate through results\n",
    "for r in g.query(q):\n",
    "    print(r[\"classes\"])"
   ]
  },
  {
   "cell_type": "markdown",
   "id": "55571ad2",
   "metadata": {},
   "source": [
    "### Classes"
   ]
  },
  {
   "cell_type": "code",
   "execution_count": 14,
   "id": "fb07a7f7",
   "metadata": {},
   "outputs": [
    {
     "name": "stdout",
     "output_type": "stream",
     "text": [
      "##### Classes:\n",
      "http://schema.org/VideoObject\n",
      "http://www.europeana.eu/schemas/edm/Place\n",
      "http://schema.org/Place\n",
      "http://xmlns.com/foaf/0.1/Agent\n",
      "http://schema.org/Organization\n"
     ]
    }
   ],
   "source": [
    "print('##### Classes:')\n",
    "\n",
    "# Query the data in g using SPARQL\n",
    "q = \"\"\"\n",
    "    SELECT distinct ?class\n",
    "    WHERE {\n",
    "        ?s a ?class .\n",
    "    }\n",
    "\"\"\"\n",
    "\n",
    "# Apply the query to the graph and iterate through results\n",
    "for r in g.query(q):\n",
    "    print(r[\"class\"])"
   ]
  },
  {
   "cell_type": "markdown",
   "id": "2b5db07c",
   "metadata": {},
   "source": [
    "### Number of properties"
   ]
  },
  {
   "cell_type": "code",
   "execution_count": 15,
   "id": "79e6ec69",
   "metadata": {},
   "outputs": [
    {
     "name": "stdout",
     "output_type": "stream",
     "text": [
      "##### Number of properties:\n",
      "19\n"
     ]
    }
   ],
   "source": [
    "print('##### Number of properties:')\n",
    "\n",
    "# Query the data in g using SPARQL\n",
    "q = \"\"\"\n",
    "    SELECT (count(distinct ?prop) as ?properties)\n",
    "    WHERE {\n",
    "        ?s ?prop ?o .\n",
    "    }\n",
    "\"\"\"\n",
    "\n",
    "# Apply the query to the graph and iterate through results\n",
    "for r in g.query(q):\n",
    "    print(r[\"properties\"])"
   ]
  },
  {
   "cell_type": "markdown",
   "id": "bd167a71",
   "metadata": {},
   "source": [
    "### Properties"
   ]
  },
  {
   "cell_type": "code",
   "execution_count": 16,
   "id": "b76d270b",
   "metadata": {},
   "outputs": [
    {
     "name": "stdout",
     "output_type": "stream",
     "text": [
      "##### Properties:\n",
      "http://schema.org/abstract\n",
      "http://schema.org/sourceOrganization\n",
      "http://www.w3.org/1999/02/22-rdf-syntax-ns#type\n",
      "http://schema.org/identifier\n",
      "http://schema.org/creditText\n",
      "http://schema.org/videoQuality\n",
      "http://schema.org/name\n",
      "http://schema.org/duration\n",
      "http://purl.org/dc/terms/spatial\n",
      "http://schema.org/datePublished\n",
      "http://schema.org/creator\n",
      "http://example.org/subjects\n",
      "http://schema.org/logo\n",
      "http://xmlns.com/foaf/0.1/name\n",
      "http://www.w3.org/2003/01/geo/wgs84_pos#lat\n",
      "http://www.w3.org/2004/02/skos/core#prefLabel\n",
      "http://www.w3.org/2002/07/owl#sameAs\n",
      "http://www.w3.org/2003/01/geo/wgs84_pos#long\n",
      "http://schema.org/url\n"
     ]
    }
   ],
   "source": [
    "print('##### Properties:')\n",
    "\n",
    "# Query the data in g using SPARQL\n",
    "q = \"\"\"\n",
    "    SELECT distinct ?prop\n",
    "    WHERE {\n",
    "        ?s ?prop ?o .\n",
    "    }\n",
    "\"\"\"\n",
    "\n",
    "# Apply the query to the graph and iterate through results\n",
    "for r in g.query(q):\n",
    "    print(r[\"prop\"])"
   ]
  },
  {
   "cell_type": "markdown",
   "id": "2781494e",
   "metadata": {},
   "source": [
    "### Number of external links"
   ]
  },
  {
   "cell_type": "code",
   "execution_count": 17,
   "id": "6f8e1ca9",
   "metadata": {},
   "outputs": [
    {
     "name": "stdout",
     "output_type": "stream",
     "text": [
      "##### Number of owl:sameAs properties:\n",
      "75\n"
     ]
    }
   ],
   "source": [
    "print('##### Number of owl:sameAs properties:')\n",
    "    \n",
    "# Query the data in g using SPARQL\n",
    "q = \"\"\"\n",
    "    SELECT (count(distinct ?sameAs) as ?total)\n",
    "    WHERE {\n",
    "        ?p owl:sameAs ?sameAs .\n",
    "    }\n",
    "\"\"\"\n",
    "\n",
    "# Apply the query to the graph and iterate through results\n",
    "for r in g.query(q):\n",
    "    print(r[\"total\"])"
   ]
  },
  {
   "cell_type": "markdown",
   "id": "49e828cd",
   "metadata": {},
   "source": [
    "### Number of triples"
   ]
  },
  {
   "cell_type": "code",
   "execution_count": 18,
   "id": "bae40ae0",
   "metadata": {},
   "outputs": [
    {
     "name": "stdout",
     "output_type": "stream",
     "text": [
      "##### Number of triples:\n",
      "182818\n"
     ]
    }
   ],
   "source": [
    "print('##### Number of triples:')\n",
    "    \n",
    "# Query the data in g using SPARQL\n",
    "q = \"\"\"\n",
    "    SELECT (COUNT(*) as ?triples) \n",
    "    WHERE { ?s ?p ?o } \n",
    "\"\"\"\n",
    "\n",
    "# Apply the query to the graph and iterate through results\n",
    "for r in g.query(q):\n",
    "    print(r[\"triples\"])"
   ]
  },
  {
   "cell_type": "markdown",
   "id": "aa8b599f",
   "metadata": {},
   "source": [
    "### Number of authors"
   ]
  },
  {
   "cell_type": "code",
   "execution_count": 9,
   "id": "b6f707ee",
   "metadata": {},
   "outputs": [
    {
     "name": "stdout",
     "output_type": "stream",
     "text": [
      "##### Number of authors:\n",
      "76\n"
     ]
    }
   ],
   "source": [
    "print('##### Number of authors:')\n",
    "    \n",
    "# Query the data in g using SPARQL\n",
    "q = \"\"\"\n",
    "    PREFIX foaf: <http://xmlns.com/foaf/0.1/>\n",
    "    SELECT (COUNT(*) as ?authors) \n",
    "    WHERE { ?s ?p ?o . ?s a foaf:Agent} \n",
    "\"\"\"\n",
    "\n",
    "# Apply the query to the graph and iterate through results\n",
    "for r in g.query(q):\n",
    "    print(r[\"authors\"])"
   ]
  },
  {
   "cell_type": "markdown",
   "id": "3322a1fc",
   "metadata": {},
   "source": [
    "### Authors"
   ]
  },
  {
   "cell_type": "code",
   "execution_count": 21,
   "id": "6e346b31",
   "metadata": {},
   "outputs": [
    {
     "name": "stderr",
     "output_type": "stream",
     "text": [
      "http://example.org/author/macleanwilliamjmac  does not look like a valid URI, trying to serialize this will break.\n",
      "http://example.org/author/macleanwilliamjmac MacLEAN, William J. ‘Mac’ does not look like a valid URI, trying to serialize this will break.\n",
      "http://example.org/author/riddell-blackrobert  does not look like a valid URI, trying to serialize this will break.\n",
      "http://example.org/author/riddell-blackrobert RIDDELL-BLACK, Robert does not look like a valid URI, trying to serialize this will break.\n",
      "http://example.org/author/nairnjamess  does not look like a valid URI, trying to serialize this will break.\n",
      "http://example.org/author/nairnjamess NAIRN, James S. does not look like a valid URI, trying to serialize this will break.\n",
      "http://example.org/author/colonelarthureirvineandrichardirvinecollection  does not look like a valid URI, trying to serialize this will break.\n",
      "http://example.org/author/colonelarthureirvineandrichardirvinecollection Colonel Arthur E Irvine and Richard Irvine Collection does not look like a valid URI, trying to serialize this will break.\n",
      "http://example.org/author/annandlouise  does not look like a valid URI, trying to serialize this will break.\n",
      "http://example.org/author/annandlouise Annand, Louise does not look like a valid URI, trying to serialize this will break.\n",
      "http://example.org/author/scottishfilms/thamesandclydeproductions  does not look like a valid URI, trying to serialize this will break.\n",
      "http://example.org/author/scottishfilms/thamesandclydeproductions Scottish Films / Thames and Clyde Productions does not look like a valid URI, trying to serialize this will break.\n",
      "http://example.org/author/templarfilms  does not look like a valid URI, trying to serialize this will break.\n",
      "http://example.org/author/templarfilms Templar Films   does not look like a valid URI, trying to serialize this will break.\n",
      "http://example.org/author/peliculafilms  does not look like a valid URI, trying to serialize this will break.\n",
      "http://example.org/author/peliculafilms Pelicula Films does not look like a valid URI, trying to serialize this will break.\n",
      "http://example.org/author/taggartnan  does not look like a valid URI, trying to serialize this will break.\n",
      "http://example.org/author/taggartnan Taggart, Nan does not look like a valid URI, trying to serialize this will break.\n",
      "http://example.org/author/gilbertsonjennyisabelneebrown  does not look like a valid URI, trying to serialize this will break.\n",
      "http://example.org/author/gilbertsonjennyisabelneebrown GILBERTSON, Jenny Isabel (nee Brown) does not look like a valid URI, trying to serialize this will break.\n",
      "http://example.org/author/greensfilmservice/greenstopicalproductions  does not look like a valid URI, trying to serialize this will break.\n",
      "http://example.org/author/greensfilmservice/greenstopicalproductions Green’s Film Service / Green’s Topical Productions does not look like a valid URI, trying to serialize this will break.\n",
      "http://example.org/author/elderdalrympleproductions/elderfilms  does not look like a valid URI, trying to serialize this will break.\n",
      "http://example.org/author/elderdalrympleproductions/elderfilms Elder Dalrymple Productions / Elder Films does not look like a valid URI, trying to serialize this will break.\n",
      "http://example.org/author/harperalanjames  does not look like a valid URI, trying to serialize this will break.\n",
      "http://example.org/author/harperalanjames HARPER, Alan James does not look like a valid URI, trying to serialize this will break.\n",
      "http://example.org/author/gillespiejamesstirling  does not look like a valid URI, trying to serialize this will break.\n",
      "http://example.org/author/gillespiejamesstirling GILLESPIE, James Stirling does not look like a valid URI, trying to serialize this will break.\n",
      "http://example.org/author/ifascotland  does not look like a valid URI, trying to serialize this will break.\n",
      "http://example.org/author/ifascotland IFA Scotland does not look like a valid URI, trying to serialize this will break.\n",
      "http://example.org/author/cooperhenry  does not look like a valid URI, trying to serialize this will break.\n",
      "http://example.org/author/cooperhenry COOPER, Henry does not look like a valid URI, trying to serialize this will break.\n",
      "http://example.org/author/walkerwilliam  does not look like a valid URI, trying to serialize this will break.\n",
      "http://example.org/author/walkerwilliam WALKER, William does not look like a valid URI, trying to serialize this will break.\n",
      "http://example.org/author/elderjohnc  does not look like a valid URI, trying to serialize this will break.\n",
      "http://example.org/author/elderjohnc ELDER, John C does not look like a valid URI, trying to serialize this will break.\n",
      "http://example.org/author/taitmargaret  does not look like a valid URI, trying to serialize this will break.\n",
      "http://example.org/author/taitmargaret TAIT, Margaret does not look like a valid URI, trying to serialize this will break.\n",
      "http://example.org/author/ogamfilms/oscarmarzaroli  does not look like a valid URI, trying to serialize this will break.\n",
      "http://example.org/author/ogamfilms/oscarmarzaroli Ogam Films / Oscar Marzaroli does not look like a valid URI, trying to serialize this will break.\n",
      "http://example.org/author/dicksonlouis  does not look like a valid URI, trying to serialize this will break.\n",
      "http://example.org/author/dicksonlouis DICKSON, Louis does not look like a valid URI, trying to serialize this will break.\n",
      "http://example.org/author/scottishamateurfilmfestivalsaff  does not look like a valid URI, trying to serialize this will break.\n",
      "http://example.org/author/scottishamateurfilmfestivalsaff Scottish Amateur Film Festival (SAFF) does not look like a valid URI, trying to serialize this will break.\n",
      "http://example.org/author/russellstanleylivingstone  does not look like a valid URI, trying to serialize this will break.\n",
      "http://example.org/author/russellstanleylivingstone RUSSELL, Stanley Livingstone does not look like a valid URI, trying to serialize this will break.\n",
      "http://example.org/author/jayronaldl  does not look like a valid URI, trying to serialize this will break.\n",
      "http://example.org/author/jayronaldl JAY, Ronald L. does not look like a valid URI, trying to serialize this will break.\n",
      "http://example.org/author/grigormurray  does not look like a valid URI, trying to serialize this will break.\n",
      "http://example.org/author/grigormurray Grigor, Murray does not look like a valid URI, trying to serialize this will break.\n",
      "http://example.org/author/filmsofscotlandcommittee  does not look like a valid URI, trying to serialize this will break.\n",
      "http://example.org/author/filmsofscotlandcommittee Films of Scotland Committee does not look like a valid URI, trying to serialize this will break.\n",
      "http://example.org/author/neelyanne  does not look like a valid URI, trying to serialize this will break.\n",
      "http://example.org/author/neelyanne NEELY, Anne does not look like a valid URI, trying to serialize this will break.\n",
      "http://example.org/author/hutchisonisobelwylie  does not look like a valid URI, trying to serialize this will break.\n",
      "http://example.org/author/hutchisonisobelwylie HUTCHISON, Isobel Wylie   does not look like a valid URI, trying to serialize this will break.\n",
      "http://example.org/author/glasgowcorporation  does not look like a valid URI, trying to serialize this will break.\n",
      "http://example.org/author/glasgowcorporation Glasgow Corporation does not look like a valid URI, trying to serialize this will break.\n",
      "http://example.org/author/grayalexanderjoe  does not look like a valid URI, trying to serialize this will break.\n",
      "http://example.org/author/grayalexanderjoe GRAY, Alexander ‘Joe’ does not look like a valid URI, trying to serialize this will break.\n",
      "http://example.org/author/cocozzaenrico  does not look like a valid URI, trying to serialize this will break.\n",
      "http://example.org/author/cocozzaenrico COCOZZA, Enrico does not look like a valid URI, trying to serialize this will break.\n",
      "http://example.org/author/treefilms  does not look like a valid URI, trying to serialize this will break.\n",
      "http://example.org/author/treefilms Tree Films  does not look like a valid URI, trying to serialize this will break.\n",
      "http://example.org/author/hartjames  does not look like a valid URI, trying to serialize this will break.\n"
     ]
    },
    {
     "name": "stderr",
     "output_type": "stream",
     "text": [
      "http://example.org/author/hartjames HART, James does not look like a valid URI, trying to serialize this will break.\n",
      "http://example.org/author/irvinemalcolm  does not look like a valid URI, trying to serialize this will break.\n",
      "http://example.org/author/irvinemalcolm IRVINE, Malcolm does not look like a valid URI, trying to serialize this will break.\n",
      "http://example.org/author/loorijjanpaulusjack  does not look like a valid URI, trying to serialize this will break.\n",
      "http://example.org/author/loorijjanpaulusjack LOORIJ, Jan Paulus (Jack) does not look like a valid URI, trying to serialize this will break.\n",
      "http://example.org/author/campbellharperproductions  does not look like a valid URI, trying to serialize this will break.\n",
      "http://example.org/author/campbellharperproductions Campbell Harper Productions does not look like a valid URI, trying to serialize this will break.\n",
      "http://example.org/author/birrellharry  does not look like a valid URI, trying to serialize this will break.\n",
      "http://example.org/author/birrellharry Birrell, Harry does not look like a valid URI, trying to serialize this will break.\n",
      "http://example.org/author/mickeldouglas  does not look like a valid URI, trying to serialize this will break.\n",
      "http://example.org/author/mickeldouglas MICKEL, Douglas does not look like a valid URI, trying to serialize this will break.\n"
     ]
    },
    {
     "name": "stdout",
     "output_type": "stream",
     "text": [
      "##### List of authors:\n",
      "http://example.org/author/macleanwilliamjmac MacLEAN, William J. ‘Mac’\n",
      "http://example.org/author/riddell-blackrobert RIDDELL-BLACK, Robert\n",
      "http://example.org/author/nairnjamess NAIRN, James S.\n",
      "http://example.org/author/colonelarthureirvineandrichardirvinecollection Colonel Arthur E Irvine and Richard Irvine Collection\n",
      "http://example.org/author/annandlouise Annand, Louise\n",
      "http://example.org/author/scottishfilms/thamesandclydeproductions Scottish Films / Thames and Clyde Productions\n",
      "http://example.org/author/templarfilms Templar Films  \n",
      "http://example.org/author/peliculafilms Pelicula Films\n",
      "http://example.org/author/taggartnan Taggart, Nan\n",
      "http://example.org/author/gilbertsonjennyisabelneebrown GILBERTSON, Jenny Isabel (nee Brown)\n",
      "http://example.org/author/greensfilmservice/greenstopicalproductions Green’s Film Service / Green’s Topical Productions\n",
      "http://example.org/author/elderdalrympleproductions/elderfilms Elder Dalrymple Productions / Elder Films\n",
      "http://example.org/author/harperalanjames HARPER, Alan James\n",
      "http://example.org/author/gillespiejamesstirling GILLESPIE, James Stirling\n",
      "http://example.org/author/ifascotland IFA Scotland\n",
      "http://example.org/author/cooperhenry COOPER, Henry\n",
      "http://example.org/author/walkerwilliam WALKER, William\n",
      "http://example.org/author/elderjohnc ELDER, John C\n",
      "http://example.org/author/taitmargaret TAIT, Margaret\n",
      "http://example.org/author/ogamfilms/oscarmarzaroli Ogam Films / Oscar Marzaroli\n",
      "http://example.org/author/dicksonlouis DICKSON, Louis\n",
      "http://example.org/author/scottishamateurfilmfestivalsaff Scottish Amateur Film Festival (SAFF)\n",
      "http://example.org/author/russellstanleylivingstone RUSSELL, Stanley Livingstone\n",
      "http://example.org/author/jayronaldl JAY, Ronald L.\n",
      "http://example.org/author/grigormurray Grigor, Murray\n",
      "http://example.org/author/filmsofscotlandcommittee Films of Scotland Committee\n",
      "http://example.org/author/neelyanne NEELY, Anne\n",
      "http://example.org/author/hutchisonisobelwylie HUTCHISON, Isobel Wylie  \n",
      "http://example.org/author/glasgowcorporation Glasgow Corporation\n",
      "http://example.org/author/grayalexanderjoe GRAY, Alexander ‘Joe’\n",
      "http://example.org/author/cocozzaenrico COCOZZA, Enrico\n",
      "http://example.org/author/treefilms Tree Films \n",
      "http://example.org/author/hartjames HART, James\n",
      "http://example.org/author/irvinemalcolm IRVINE, Malcolm\n",
      "http://example.org/author/loorijjanpaulusjack LOORIJ, Jan Paulus (Jack)\n",
      "http://example.org/author/campbellharperproductions Campbell Harper Productions\n",
      "http://example.org/author/birrellharry Birrell, Harry\n",
      "http://example.org/author/mickeldouglas MICKEL, Douglas\n"
     ]
    }
   ],
   "source": [
    "print('##### List of authors:')\n",
    "    \n",
    "# Query the data in g using SPARQL\n",
    "q = \"\"\"\n",
    "    PREFIX foaf: <http://xmlns.com/foaf/0.1/>\n",
    "    SELECT ?s ?name \n",
    "    WHERE {?s a foaf:Agent . ?s foaf:name ?name} \n",
    "\"\"\"\n",
    "\n",
    "# Apply the query to the graph and iterate through results\n",
    "for r in g.query(q):\n",
    "    print(r[\"s\"] + \" \" + r[\"name\"])"
   ]
  },
  {
   "cell_type": "code",
   "execution_count": null,
   "id": "9a1acd3c",
   "metadata": {},
   "outputs": [],
   "source": []
  }
 ],
 "metadata": {
  "kernelspec": {
   "display_name": "Python 3",
   "language": "python",
   "name": "python3"
  },
  "language_info": {
   "codemirror_mode": {
    "name": "ipython",
    "version": 3
   },
   "file_extension": ".py",
   "mimetype": "text/x-python",
   "name": "python",
   "nbconvert_exporter": "python",
   "pygments_lexer": "ipython3",
   "version": "3.9.12"
  }
 },
 "nbformat": 4,
 "nbformat_minor": 5
}
