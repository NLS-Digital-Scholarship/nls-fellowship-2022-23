{
 "cells": [
  {
   "cell_type": "code",
   "execution_count": 44,
   "id": "62b0a9b5",
   "metadata": {},
   "outputs": [],
   "source": [
    "from rdflib import Graph\n",
    "\n",
    "# Create a Graph\n",
    "#g = Graph().parse(\"../rdf/movingImageArchiveEnriched.rdf\")\n",
    "g = Graph().parse(\"dataset.ttl\")"
   ]
  },
  {
   "cell_type": "markdown",
   "id": "5677e0cb",
   "metadata": {},
   "source": [
    "## We can use the website to retrieve the number of items per \n",
    "\n",
    "According to the [Moving Image Archive website](https://movingimage.nls.uk/search?subject=37), the current total number of records associated to the subject Agriculture is 410. \n",
    "\n",
    "<img src=\"../images/mia-website-agriculture.png\" width=\"50%\">"
   ]
  },
  {
   "cell_type": "markdown",
   "id": "99e6d751",
   "metadata": {},
   "source": [
    "The command line grep can be used to identify text in the dataset. The parameter -n4 enables to retrieve 4 lines per result.\n",
    "\n",
    "We can have an idea of the occurrences in the text of the work Agriculture. However, note that the work may appear in several fields, not only in 653 MARC field. "
   ]
  },
  {
   "cell_type": "markdown",
   "id": "d7fb51ed",
   "metadata": {},
   "source": [
    "<img src=\"../images/grep-mia.png\">"
   ]
  },
  {
   "cell_type": "markdown",
   "id": "623c145a",
   "metadata": {},
   "source": [
    "We can retrieve the number of occurrences using the command line wc -l"
   ]
  },
  {
   "cell_type": "markdown",
   "id": "4f23b4b7",
   "metadata": {},
   "source": [
    "<img src=\"../images/grep-mia-wc.png\">"
   ]
  },
  {
   "cell_type": "markdown",
   "id": "23b06418",
   "metadata": {},
   "source": [
    "### Let's check how many property dc:subject contains the text \"Agriculture\""
   ]
  },
  {
   "cell_type": "code",
   "execution_count": 45,
   "id": "5f9c56cb",
   "metadata": {},
   "outputs": [
    {
     "name": "stdout",
     "output_type": "stream",
     "text": [
      "##### check Agriculture subject:\n",
      "Agriculture 379\n"
     ]
    }
   ],
   "source": [
    "print('##### check Agriculture subject:')\n",
    "    \n",
    "# Query the data in g using SPARQL\n",
    "q = \"\"\"\n",
    "    SELECT ?subject (COUNT(?s) as ?count) \n",
    "    WHERE { ?s dc:subject ?subject . FILTER  regex(str(?subject),\"Agriculture\")} \n",
    "    GROUP BY ?subject\n",
    "    ORDER BY DESC(?count)\n",
    "\"\"\"\n",
    "\n",
    "# Apply the query to the graph and iterate through results\n",
    "for r in g.query(q):\n",
    "    print(str(r[\"subject\"]) + \" \" + str(r[\"count\"]))"
   ]
  },
  {
   "cell_type": "markdown",
   "id": "63a68814",
   "metadata": {},
   "source": [
    "### Let's check the number of items containing the subject Gaelic"
   ]
  },
  {
   "cell_type": "code",
   "execution_count": 46,
   "id": "3eab5a4d",
   "metadata": {},
   "outputs": [
    {
     "name": "stdout",
     "output_type": "stream",
     "text": [
      "##### total number of items containing a property dc:subject with the text Gaelic:\n",
      "1943\n"
     ]
    }
   ],
   "source": [
    "print('##### total number of items containing a property dc:subject with the text Gaelic:')\n",
    "    \n",
    "# Query the data in g using SPARQL\n",
    "q = \"\"\"\n",
    "    SELECT (COUNT(?subject) as ?total) \n",
    "    WHERE { ?s dc:subject ?subject . FILTER regex(?subject, \"Gaelic\")} \n",
    "\"\"\"\n",
    "\n",
    "# Apply the query to the graph and iterate through results\n",
    "for r in g.query(q):\n",
    "    print(str(r[\"total\"]))"
   ]
  },
  {
   "cell_type": "markdown",
   "id": "e9327550",
   "metadata": {},
   "source": [
    "### Group by author"
   ]
  },
  {
   "cell_type": "code",
   "execution_count": 47,
   "id": "6096e4e0",
   "metadata": {},
   "outputs": [
    {
     "name": "stdout",
     "output_type": "stream",
     "text": [
      "##### group by authors:\n",
      "https://example.org/organization/templarfilms 318\n",
      "https://example.org/organization/filmsofscotlandcommittee 166\n",
      "https://example.org/organization/campbellharperproductions 130\n",
      "https://example.org/organization/scottishamateurfilmfestivalsaff 117\n",
      "https://example.org/author/russellstanleylivingstone 63\n",
      "https://example.org/author/cocozzaenrico 62\n",
      "https://example.org/author/elderjohnc 58\n",
      "https://example.org/author/colonelarthureirvineandrichardirvinecollection 50\n",
      "https://example.org/author/nairnjamess 49\n",
      "https://example.org/author/taitmargaret 48\n",
      "https://example.org/author/glasgowcorporation 46\n",
      "https://example.org/organization/scottishfilms 45\n",
      "https://example.org/author/annandlouise 39\n",
      "https://example.org/author/harperalanjames 39\n",
      "https://example.org/author/taggartnan 39\n",
      "https://example.org/author/cooperhenry 38\n",
      "https://example.org/author/jayronaldl 37\n",
      "https://example.org/organization/greensfilmservice 37\n",
      "https://example.org/organization/ifascotland 37\n",
      "https://example.org/organization/elderdalrympleproductions 36\n",
      "https://example.org/author/mickeldouglas 35\n",
      "https://example.org/author/dicksonlouis 32\n",
      "https://example.org/author/ogamfilms 29\n",
      "https://example.org/author/grigormurray 28\n",
      "https://example.org/organization/peliculafilms 27\n"
     ]
    }
   ],
   "source": [
    "print('##### group by authors:')\n",
    "    \n",
    "# Query the data in g using SPARQL\n",
    "q = \"\"\"\n",
    "    SELECT ?author (COUNT(distinct ?s) as ?count) \n",
    "    WHERE { ?s schema:author ?author} \n",
    "    GROUP BY ?author\n",
    "    HAVING (count(distinct ?s) > 20)\n",
    "    ORDER BY DESC(?count)\n",
    "\"\"\"\n",
    "\n",
    "# Apply the query to the graph and iterate through results\n",
    "for r in g.query(q):\n",
    "    print(str(r[\"author\"]) + \" \" + str(r[\"count\"]))"
   ]
  },
  {
   "cell_type": "markdown",
   "id": "e37d38dc",
   "metadata": {},
   "source": [
    "### Let's check how many resources are linked to a particular author"
   ]
  },
  {
   "cell_type": "code",
   "execution_count": 52,
   "id": "fd8eb963",
   "metadata": {},
   "outputs": [
    {
     "name": "stdout",
     "output_type": "stream",
     "text": [
      "37\n"
     ]
    }
   ],
   "source": [
    "# Query the data in g using SPARQL\n",
    "q = \"\"\"\n",
    "    PREFIX foaf: <http://xmlns.com/foaf/0.1/>\n",
    "    SELECT (count(distinct ?s) as ?total)\n",
    "    WHERE {?s schema:author <https://example.org/organization/ifascotland>} \n",
    "\"\"\"\n",
    "\n",
    "# Apply the query to the graph and iterate through results\n",
    "for r in g.query(q):\n",
    "    print(r[\"total\"])"
   ]
  },
  {
   "cell_type": "code",
   "execution_count": 56,
   "id": "5486e33e",
   "metadata": {},
   "outputs": [
    {
     "name": "stdout",
     "output_type": "stream",
     "text": [
      "WHY SCOTLAND, WHY EAST KILBRIDE\n",
      "AMAZING MOMENTS OF THE GREAT TRACTION ENGINES, the\n",
      "DRAM LIKE THIS, a\n",
      "COUNTY ON THE MOVE\n",
      "LIVINGSTON - A TOWN FOR THE LOTHIANS\n",
      "MACKINTOSH\n",
      "DUNA BULL, the\n",
      "LIVING IN SCOTLAND / SMITHS IN SCOTLAND, the\n",
      "KIND OF SEEING: The Colour of Scotland, a\n",
      "SONGS OF SCOTLAND\n",
      "SEA CITY - GREENOCK\n",
      "ONE DAY IN IRVINE\n",
      "IN GREAT WATERS\n",
      "LOCH LOMOND\n",
      "WATER OF LIFE, the\n",
      "WATER, WATER EVERYWHERE\n",
      "ERSKINE BRIDGE, the\n",
      "LINE TO SKYE, the\n",
      "CONSEQUENCES\n",
      "SETTLED OUT OF COURT: Children's Hearings in Scotland\n",
      "LOOK TO THE SEA: The Marine Laboratory Aberdeen, Its Work and Its People\n",
      "EDINBURGH ON PARADE\n",
      "GARDENS BY THE SEA\n",
      "COME AWAY IN\n",
      "WALKABOUT EDINBURGH\n",
      "GRAND MATCH, the\n",
      "STONE IN THE HEATHER, a\n",
      "SPIRIT OF SCOTLAND, the\n",
      "KH-4\n",
      "LINE FOR ALL SEASONS, a\n",
      "DISAPPEARING ISLAND, the\n",
      "GET THERE SAFELY\n",
      "FALLS THE SHADOW\n",
      "DIAMONDS WERE FOREVER: A Celebration of Glasgow Steam\n",
      "ACRE OF SUNDAYS, an\n",
      "CHAIRS\n",
      "SHELL SHOCK\n"
     ]
    }
   ],
   "source": [
    "# Query the data in g using SPARQL\n",
    "q = \"\"\"\n",
    "    PREFIX foaf: <http://xmlns.com/foaf/0.1/>\n",
    "    SELECT ?name\n",
    "    WHERE {?s schema:author <https://example.org/organization/ifascotland> . ?s schema:name ?name} \n",
    "\"\"\"\n",
    "\n",
    "# Apply the query to the graph and iterate through results\n",
    "for r in g.query(q):\n",
    "    print(r[\"name\"])"
   ]
  },
  {
   "cell_type": "code",
   "execution_count": null,
   "id": "f44911e2",
   "metadata": {},
   "outputs": [],
   "source": []
  }
 ],
 "metadata": {
  "kernelspec": {
   "display_name": "Python 3",
   "language": "python",
   "name": "python3"
  },
  "language_info": {
   "codemirror_mode": {
    "name": "ipython",
    "version": 3
   },
   "file_extension": ".py",
   "mimetype": "text/x-python",
   "name": "python",
   "nbconvert_exporter": "python",
   "pygments_lexer": "ipython3",
   "version": "3.9.12"
  }
 },
 "nbformat": 4,
 "nbformat_minor": 5
}
