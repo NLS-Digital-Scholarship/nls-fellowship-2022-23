{
 "cells": [
  {
   "cell_type": "markdown",
   "id": "786bdc68",
   "metadata": {},
   "source": [
    "# Exploring the Moving Image Archive dataset\n",
    "\n",
    "Created in October-December 2022 for the National Library of Scotland's Data Foundry by [Gustavo Candela, National Librarian’s Research Fellowship in Digital Scholarship 2022-23](https://data.nls.uk/projects/the-national-librarians-research-fellowship-in-digital-scholarship-2022-23/)"
   ]
  },
  {
   "cell_type": "markdown",
   "id": "48286a7e",
   "metadata": {},
   "source": [
    "### About the Moving Image Archive Dataset\n",
    "\n",
    "This dataset represents the descriptive metadata from the Moving Image Archive catalogue, which is Scotland’s national collection of moving images.\n",
    "\n",
    "- Data format: metadata available as MARCXML and Dublin Core\n",
    "- Data source: https://data.nls.uk/data/metadata-collections/moving-image-archive/"
   ]
  },
  {
   "cell_type": "markdown",
   "id": "8f1ff38b",
   "metadata": {},
   "source": [
    "### Table of contents\n",
    "\n",
    "- [Preparation](#Preparation)\n",
    "- [Loading the CSV data into pandas](#Loading-the-CSV-data-into-pandas)\n",
    "- [Cleaning the data](#Cleaning-the-data)\n",
    "- [WordCloud visualisation](#WordCloud-visualisation)"
   ]
  },
  {
   "cell_type": "markdown",
   "id": "1fbdaf07",
   "metadata": {},
   "source": [
    "### Citations\n",
    "\n",
    "- Candela, G., Sáez, M. D., Escobar, P., & Marco-Such, M. (2022). Reusing digital collections from GLAM institutions. Journal of Information Science, 48(2), 251–267. https://doi.org/10.1177/0165551520950246"
   ]
  },
  {
   "cell_type": "markdown",
   "id": "585a839f",
   "metadata": {},
   "source": [
    "### Preparation\n",
    "\n",
    "Import the libraries required to explore the summary of each record included in the dataset to present a word cloud."
   ]
  },
  {
   "cell_type": "code",
   "execution_count": 15,
   "id": "d07b0bb7",
   "metadata": {},
   "outputs": [],
   "source": [
    "import pandas as pd\n",
    "import re\n",
    "from wordcloud import WordCloud"
   ]
  },
  {
   "cell_type": "markdown",
   "id": "1754f897",
   "metadata": {},
   "source": [
    "### Loading the CSV data into pandas"
   ]
  },
  {
   "cell_type": "code",
   "execution_count": 16,
   "id": "a8307d8d",
   "metadata": {
    "scrolled": true
   },
   "outputs": [],
   "source": [
    "path_csv = \"../data/output/movingImageArchive.csv\"\n",
    "df = pd.read_csv (path_csv, sep=',')"
   ]
  },
  {
   "cell_type": "markdown",
   "id": "8a1a33ec",
   "metadata": {},
   "source": [
    "#### Let's see the structure of the dataset"
   ]
  },
  {
   "cell_type": "code",
   "execution_count": 17,
   "id": "95f12c96",
   "metadata": {},
   "outputs": [
    {
     "name": "stdout",
     "output_type": "stream",
     "text": [
      "['title', 'author', 'authorOrganisation', 'place_publication', 'date', 'extent', 'credits', 'subjects', 'summary', 'details', 'link', 'geographicNames', 'contentType', 'mediaType', 'carrierType', 'generalNote', 'thumbnail']\n",
      "title                  object\n",
      "author                 object\n",
      "authorOrganisation     object\n",
      "place_publication      object\n",
      "date                  float64\n",
      "extent                 object\n",
      "credits                object\n",
      "subjects               object\n",
      "summary                object\n",
      "details                object\n",
      "link                   object\n",
      "geographicNames        object\n",
      "contentType            object\n",
      "mediaType              object\n",
      "carrierType            object\n",
      "generalNote            object\n",
      "thumbnail              object\n",
      "dtype: object\n"
     ]
    }
   ],
   "source": [
    "## structure of the data\n",
    "print(df.columns.tolist())\n",
    "\n",
    "## set summary column type to string\n",
    "df = df.astype({\"summary\": str})\n",
    "print(df.dtypes)"
   ]
  },
  {
   "cell_type": "markdown",
   "id": "c15319ec",
   "metadata": {},
   "source": [
    "#### Let's explore the content"
   ]
  },
  {
   "cell_type": "code",
   "execution_count": 18,
   "id": "bb75d9cc",
   "metadata": {},
   "outputs": [
    {
     "name": "stdout",
     "output_type": "stream",
     "text": [
      "title                 20599\n",
      "author                  770\n",
      "authorOrganisation      844\n",
      "place_publication     20608\n",
      "date                  15575\n",
      "extent                20608\n",
      "credits               14889\n",
      "subjects               8006\n",
      "summary               20608\n",
      "details               20260\n",
      "link                  20608\n",
      "geographicNames        4604\n",
      "contentType           20608\n",
      "mediaType             20608\n",
      "carrierType           20608\n",
      "generalNote           20608\n",
      "thumbnail              5345\n",
      "dtype: int64\n"
     ]
    }
   ],
   "source": [
    "# number of records\n",
    "print(df.count())"
   ]
  },
  {
   "cell_type": "code",
   "execution_count": 19,
   "id": "9b772380",
   "metadata": {},
   "outputs": [
    {
     "name": "stdout",
     "output_type": "stream",
     "text": [
      "['Glasgow' 'Edinburgh' 'Dunbartonshire' nan 'Glasgow -- Renfrewshire'\n",
      " 'Aberdeen' 'Renfrewshire' 'Forth River' 'Glasgow -- Highlands, the'\n",
      " 'Borders -- Dumfriesshire -- Edinburgh -- Fife -- Glasgow -- Stirling'\n",
      " 'Dumfriesshire -- Fife -- Glasgow -- Renfrewshire' 'Ayrshire'\n",
      " 'Lanarkshire' 'Edinburgh -- Glasgow -- Renfrewshire'\n",
      " 'Dunbartonshire -- Glasgow -- Lanarkshire' 'Dundee' 'Bute'\n",
      " 'Morayshire -- Perth' 'Borders' 'Perth' 'Highlands, the' 'Sutherland'\n",
      " 'Angus -- Dundee' 'Aberdeen -- Aberdeenshire' 'Glasgow -- West Lothian'\n",
      " 'Dumfriesshire' 'Ayrshire -- Dumfriesshire' 'West Lothian' 'Fife'\n",
      " 'Borders -- Edinburgh -- Glasgow -- Invernesshire' 'Aberdeenshire'\n",
      " 'Aberdeen -- Borders -- Edinburgh -- Fife -- Forth River -- Glasgow -- Stirling'\n",
      " 'East Lothian -- Edinburgh -- Forth River -- Glasgow -- Gorbals, the'\n",
      " 'Glasgow -- Perth' 'Dunbartonshire -- Glasgow' 'Shetland Islands'\n",
      " 'Invernesshire'\n",
      " 'Caithness -- Highlands, the -- Invernesshire -- Orkney Islands -- Outer Hebrides -- Ross-shire  -- Sutherland'\n",
      " 'Edinburgh -- Inner Hebrides' 'Aberdeen -- Angus'\n",
      " 'Dumfriesshire -- Glasgow -- Kirkudbrightshire'\n",
      " 'Dumfriesshire -- Glasgow -- West Lothian'\n",
      " 'Aberdeenshire -- Argyllshire -- Borders -- Invernesshire -- Stirling'\n",
      " 'Borders -- Edinburgh -- Glasgow' 'Fife -- Forth River'\n",
      " 'Edinburgh -- Glasgow' 'Borders -- Dumfriesshire'\n",
      " 'Lanarkshire -- West Lothian' 'Forth River -- West Lothian'\n",
      " 'Dumfriesshire -- Edinburgh -- Invernesshire -- Wigtownshire'\n",
      " 'Aberdeen -- Aberdeenshire -- Argyllshire -- Inner Hebrides -- Invernesshire -- Morayshire -- Perth'\n",
      " 'Argyllshire -- Borders -- Dundee -- Edinburgh -- Fife -- Forth River -- Glasgow'\n",
      " 'Dunbartonshire -- Glasgow -- Lanarkshire -- Renfrewshire'\n",
      " 'Aberdeen -- Edinburgh -- Fife -- Glasgow' 'Forth River -- Lanarkshire'\n",
      " 'Aberdeenshire -- Shetland Islands' 'Borders -- Roxburghshire  '\n",
      " 'Argyllshire -- Ayrshire -- Bute' 'Argyllshire -- Inner Hebrides'\n",
      " 'Edinburgh -- Stirling'\n",
      " 'Argyllshire -- Glasgow -- Highlands, the -- Inner Hebrides -- Outer Hebrides'\n",
      " 'Argyllshire -- Highlands, the -- Outer Hebrides'\n",
      " 'East Lothian -- Edinburgh' 'Caithness -- Highlands, the'\n",
      " 'Edinburgh -- Forth River -- Glasgow'\n",
      " 'Argyllshire -- Glasgow -- Inner Hebrides'\n",
      " 'Dundee -- Forth River -- Perth' 'Borders -- Edinburgh'\n",
      " 'Aberdeenshire -- Glasgow -- Lanarkshire -- Wigtownshire'\n",
      " 'Aberdeen -- Invernesshire -- Perth -- Stirling'\n",
      " 'Highlands, the -- Inner Hebrides'\n",
      " 'Highlands, the -- Inner Hebrides -- Ross-shire '\n",
      " 'Stirling -- Stirlingshire' 'Lanarkshire -- Renfrewshire' 'Stirling'\n",
      " 'Argyllshire -- Glasgow -- Gorbals, the -- Stirlingshire' 'Wigtownshire'\n",
      " 'Aberdeen -- Ayrshire' 'Outer Hebrides'\n",
      " 'Inner Hebrides -- Outer Hebrides' 'Ayrshire -- Bute'\n",
      " 'Ayrshire -- Renfrewshire' 'Borders -- Kinrosshire' 'Clackmannanshire'\n",
      " 'Ayrshire -- Dundee -- Edinburgh -- Fife -- Glasgow -- Renfrewshire -- Stirlingshire'\n",
      " 'Caithness' 'Dunbartonshire -- Glasgow -- Renfrewshire' 'Ross-shire '\n",
      " 'Aberdeen -- Aberdeenshire -- Ayrshire -- Dundee -- Glasgow -- Midlothian'\n",
      " 'Ayrshire -- Dumfriesshire -- Edinburgh' 'Edinburgh -- Lanarkshire'\n",
      " 'Ayrshire -- Berwickshire -- Borders -- East Lothian -- Edinburgh'\n",
      " 'Aberdeen -- Highlands, the -- Inner Hebrides -- Outer Hebrides -- Perth'\n",
      " 'Highlands, the -- Invernesshire' 'Angus'\n",
      " 'Highlands, the -- Invernesshire -- Orkney Islands'\n",
      " 'Ayrshire -- Borders -- Glasgow -- Renfrewshire'\n",
      " 'Ayrshire -- Edinburgh -- Forth River -- Glasgow -- Lanarkshire -- Renfrewshire'\n",
      " 'Orkney Islands' 'East Lothian -- Glasgow' 'Inner Hebrides'\n",
      " 'Borders -- Selkirkshire' 'Glasgow -- Lanarkshire'\n",
      " 'Aberdeenshire -- Edinburgh -- Forth River -- Glasgow -- Highlands, the -- Invernesshire'\n",
      " 'Borders -- Roxburghshire   -- Selkirkshire' 'Argyllshire'\n",
      " 'Argyllshire -- Ayrshire -- Glasgow -- Renfrewshire'\n",
      " 'Highlands, the -- Perth' 'Caithness -- Orkney Islands' 'Morayshire'\n",
      " 'East Lothian -- Edinburgh -- Glasgow' 'Argyllshire -- Bute'\n",
      " 'Highlands, the -- Morayshire' 'Argyllshire -- Glasgow'\n",
      " 'Aberdeen -- Glasgow' 'Stirlingshire'\n",
      " 'Berwickshire -- Borders -- Peebles- shire -- Roxburghshire   -- Selkirkshire'\n",
      " 'Fife -- Forth River -- West Lothian' 'Ayrshire -- Edinburgh'\n",
      " 'Argyllshire -- Bute -- East Lothian -- Renfrewshire'\n",
      " 'Ayrshire -- Glasgow'\n",
      " 'Edinburgh -- Highlands, the -- Inner Hebrides -- Morayshire -- Orkney Islands -- Outer Hebrides -- Shetland Islands'\n",
      " 'Forth River -- Stirling -- Stirlingshire'\n",
      " 'Ayrshire -- Borders -- East Lothian -- Selkirkshire -- Wigtownshire'\n",
      " 'Ayrshire -- Stirlingshire' 'Aberdeenshire -- Banff' 'East Lothian'\n",
      " 'Highlands, the -- Inner Hebrides -- Invernesshire'\n",
      " 'Ayrshire -- Dumfriesshire -- Lanarkshire' 'Fife -- Glasgow'\n",
      " 'Argyllshire -- Invernesshire' 'Glasgow -- Gorbals, the'\n",
      " 'Aberdeenshire -- Ayrshire' 'Perth -- Stirlingshire' 'Peebles- shire'\n",
      " 'Ayrshire -- Fife' 'East Lothian -- Roxburghshire  ' 'Ayrshire -- Perth'\n",
      " 'Edinburgh -- Glasgow -- Gorbals, the'\n",
      " 'Lanarkshire -- Renfrewshire -- Stirling' 'Dundee -- Perth'\n",
      " 'Berwickshire' 'East Lothian -- Midlothian -- West Lothian'\n",
      " 'Clackmannanshire -- Edinburgh' 'Midlothian'\n",
      " 'East Lothian -- Edinburgh -- Midlothian'\n",
      " 'Argyllshire -- Caithness -- Highlands, the -- Invernesshire -- Morayshire -- Outer Hebrides'\n",
      " 'Dundee -- Glasgow' 'Edinburgh -- Glasgow -- Lanarkshire'\n",
      " 'Glasgow -- Stirlingshire' 'Dunbartonshire -- Renfrewshire'\n",
      " 'Kincardineshire' 'Argyllshire -- Renfrewshire' 'Aberdeen -- Edinburgh'\n",
      " 'Aberdeen -- Dundee -- Edinburgh' 'Dundee -- Perth -- Stirlingshire'\n",
      " 'Dumfriesshire -- Fife' 'Angus -- Argyllshire'\n",
      " 'Glasgow -- Outer Hebrides -- Renfrewshire'\n",
      " 'Ayrshire -- Dunbartonshire -- Renfrewshire'\n",
      " 'Aberdeen -- Glasgow -- Lanarkshire -- Stirling'\n",
      " 'Dumfriesshire -- Dunbartonshire -- Edinburgh -- Forth River -- Inner Hebrides'\n",
      " 'Clackmannanshire -- Fife -- Forth River -- Stirling -- Stirlingshire -- West Lothian'\n",
      " 'Dunbartonshire -- West Lothian' 'Clackmannanshire -- Fife'\n",
      " 'Aberdeenshire -- Perth -- Renfrewshire' 'Borders -- Renfrewshire'\n",
      " 'Argyllshire -- Dunbartonshire -- Stirlingshire'\n",
      " 'Ayrshire -- Edinburgh -- Glasgow -- Renfrewshire' 'Banff'\n",
      " 'Invernesshire -- Morayshire' 'Ayrshire -- Lanarkshire'\n",
      " 'Peebles- shire -- Perth' 'Borders -- Perth'\n",
      " 'Ayrshire -- Borders -- Bute -- Dumfriesshire -- Glasgow -- Lanarkshire'\n",
      " 'Edinburgh -- Forth River' 'Edinburgh -- Fife' 'Gorbals, the'\n",
      " 'Argyllshire -- Dunbartonshire -- Renfrewshire'\n",
      " 'Dunbartonshire -- Stirlingshire' 'Dundee -- Glasgow -- Lanarkshire'\n",
      " 'Glasgow -- Outer Hebrides'\n",
      " 'Edinburgh -- Glasgow -- Lanarkshire -- Perth -- Stirling'\n",
      " 'Aberdeenshire -- Highlands, the -- Morayshire'\n",
      " 'Aberdeen -- Ayrshire -- Bute -- Dunbartonshire -- Edinburgh -- Glasgow -- Renfrewshire -- Stirlingshire'\n",
      " 'Argyllshire -- Glasgow -- Renfrewshire'\n",
      " 'Aberdeen -- Aberdeenshire -- Forth River'\n",
      " 'Argyllshire -- Ayrshire -- Edinburgh -- Forth River -- Glasgow -- Midlothian -- Perth -- Stirlingshire'\n",
      " 'Aberdeen -- Edinburgh -- Fife -- Forth River -- Outer Hebrides -- Perth -- West Lothian'\n",
      " 'Borders -- Midlothian -- Roxburghshire  ' 'Argyllshire -- Stirling'\n",
      " 'Selkirkshire' 'Argyllshire -- Outer Hebrides'\n",
      " 'Dunbartonshire -- Glasgow -- Lanarkshire -- Stirlingshire'\n",
      " 'Aberdeenshire -- Argyllshire -- Edinburgh -- Highlands, the -- Stirling -- Stirlingshire -- West Lothian'\n",
      " 'Dunbartonshire -- Glasgow -- Gorbals, the'\n",
      " 'Caithness -- Highlands, the -- Sutherland' 'Edinburgh -- Midlothian'\n",
      " 'Aberdeenshire -- Perth' 'Ayrshire -- Glasgow -- Renfrewshire'\n",
      " 'Edinburgh -- West Lothian'\n",
      " 'Borders -- Edinburgh -- Lanarkshire -- Peebles- shire'\n",
      " 'East Lothian -- Edinburgh -- Forth River -- Midlothian -- West Lothian'\n",
      " 'Dumfriesshire -- Wigtownshire' 'Ayrshire -- Dunbartonshire -- Glasgow'\n",
      " 'Ayrshire -- Dunbartonshire -- Dundee -- Edinburgh -- Fife -- Forth River -- Lanarkshire -- Perth -- Renfrewshire'\n",
      " 'Aberdeen -- Berwickshire -- Borders -- Caithness -- Edinburgh -- Ross-shire '\n",
      " 'East Lothian -- Edinburgh -- Fife -- Forth River -- Stirlingshire -- West Lothian'\n",
      " 'Ayrshire -- Borders -- Perth -- Shetland Islands -- Stirlingshire'\n",
      " 'Aberdeen -- Argyllshire -- Edinburgh -- Forth River -- Glasgow -- Lanarkshire -- Renfrewshire -- Stirlingshire -- West Lothian'\n",
      " 'Fife -- Forth River -- Glasgow -- Lanarkshire -- West Lothian'\n",
      " 'Berwickshire -- Forth River'\n",
      " 'Edinburgh -- Fife -- Perth -- Stirling -- West Lothian'\n",
      " 'Angus -- Fife -- Glasgow' 'Edinburgh -- Stirlingshire'\n",
      " 'Berwickshire -- Dumfriesshire -- Edinburgh -- Shetland Islands'\n",
      " 'Kirkudbrightshire' 'Argyllshire -- Perth'\n",
      " 'Clackmannanshire -- Stirlingshire -- West Lothian'\n",
      " 'Argyllshire -- Dunbartonshire -- Perth'\n",
      " 'Argyllshire -- Edinburgh -- Highlands, the'\n",
      " 'Aberdeenshire -- Kinrosshire'\n",
      " 'Inner Hebrides -- Orkney Islands -- Shetland Islands'\n",
      " 'Ayrshire -- Bute -- Fife -- Glasgow -- Midlothian -- Stirling -- West Lothian'\n",
      " 'Argyllshire -- Inner Hebrides -- Outer Hebrides'\n",
      " 'Forth River -- Stirlingshire' 'Highlands, the -- Invernesshire -- Perth'\n",
      " 'Argyllshire -- Berwickshire' 'Edinburgh -- Forth River -- West Lothian'\n",
      " 'Edinburgh -- Peebles- shire' 'Dumfriesshire -- Glasgow'\n",
      " 'Midlothian -- Stirlingshire' 'Glasgow -- Gorbals, the -- Lanarkshire'\n",
      " 'Highlands, the -- Invernesshire -- Orkney Islands -- Outer Hebrides -- Shetland Islands'\n",
      " 'Argyllshire -- Highlands, the' 'Dunbartonshire -- Invernesshire'\n",
      " 'Fife -- Forth River -- Stirlingshire'\n",
      " 'Aberdeenshire -- Dunbartonshire -- Lanarkshire'\n",
      " 'Highlands, the -- Invernesshire -- Outer Hebrides'\n",
      " 'Edinburgh -- Fife -- Forth River -- West Lothian'\n",
      " 'Argyllshire -- Inner Hebrides -- Invernesshire -- Outer Hebrides'\n",
      " 'Angus -- Ayrshire -- Borders' 'Highlands, the -- Ross-shire '\n",
      " 'Argyllshire -- East Lothian -- Edinburgh -- Fife -- Invernesshire'\n",
      " 'Dunbartonshire -- Glasgow -- West Lothian'\n",
      " 'Aberdeenshire -- Argyllshire -- Dunbartonshire -- Edinburgh -- Glasgow -- Stirlingshire'\n",
      " 'Aberdeenshire -- Perth -- Shetland Islands -- Stirlingshire'\n",
      " 'Edinburgh -- Invernesshire -- Outer Hebrides'\n",
      " 'Ayrshire -- Edinburgh -- Forth River -- Glasgow -- Outer Hebrides -- Renfrewshire'\n",
      " 'Glasgow -- Stirling' 'Glasgow -- Inner Hebrides'\n",
      " 'Edinburgh -- Highlands, the -- Inner Hebrides' 'Fife -- Highlands, the'\n",
      " 'Argyllshire -- Highlands, the -- Perth -- Ross-shire '\n",
      " 'Argyllshire -- Highlands, the -- Outer Hebrides -- Shetland Islands'\n",
      " 'Angus -- Dundee -- Fife -- Perth'\n",
      " 'Aberdeenshire -- Borders -- Shetland Islands'\n",
      " 'Berwickshire -- Edinburgh -- Morayshire'\n",
      " 'Ayrshire -- Dumfriesshire -- Kirkudbrightshire -- Wigtownshire'\n",
      " 'Argyllshire -- Dunbartonshire' 'Aberdeenshire -- Edinburgh'\n",
      " 'Borders -- East Lothian -- Edinburgh -- Inner Hebrides -- Stirling -- West Lothian'\n",
      " 'Angus -- Dundee -- Perth' 'East Lothian -- Forth River'\n",
      " 'Highlands, the -- Inner Hebrides -- Orkney Islands -- Outer Hebrides -- Shetland Islands'\n",
      " 'Borders -- Edinburgh -- Peebles- shire -- Perth' 'Dundee -- Fife'\n",
      " 'Roxburghshire  '\n",
      " 'Argyllshire -- Highlands, the -- Perth -- Ross-shire  -- Sutherland'\n",
      " 'Aberdeen -- Ayrshire -- Edinburgh -- Forth River -- Glasgow'\n",
      " 'Aberdeen -- Argyllshire -- Edinburgh -- Glasgow -- Invernesshire'\n",
      " 'Dundee -- Edinburgh -- Stirlingshire'\n",
      " 'Orkney Islands -- Shetland Islands'\n",
      " 'Fife -- Forth River -- Kincardineshire'\n",
      " 'Highlands, the -- Inner Hebrides -- Orkney Islands -- Outer Hebrides'\n",
      " 'Argyllshire -- Glasgow -- Perth' 'Argyllshire -- Invernesshire -- Perth'\n",
      " 'Aberdeen -- Orkney Islands'\n",
      " 'Aberdeenshire -- Edinburgh -- Forth River -- Highlands, the'\n",
      " 'Dunbartonshire -- Edinburgh -- Glasgow -- Gorbals, the'\n",
      " 'Highlands, the -- Outer Hebrides'\n",
      " 'Edinburgh -- Glasgow -- Perth -- Stirling' 'Aberdeen -- Dunbartonshire'\n",
      " 'Glasgow -- Inner Hebrides -- Outer Hebrides'\n",
      " 'Argyllshire -- Glasgow -- Invernesshire -- Perth -- Ross-shire '\n",
      " 'Edinburgh -- Glasgow -- Stirlingshire'\n",
      " 'Aberdeen -- Aberdeenshire -- Edinburgh'\n",
      " 'Dundee -- Invernesshire -- Outer Hebrides'\n",
      " 'Borders -- Glasgow -- Roxburghshire  '\n",
      " 'Argyllshire -- Ayrshire -- Bute -- East Lothian -- Edinburgh -- Forth River -- Inner Hebrides -- Perth -- Ross-shire  -- Stirling'\n",
      " 'Angus -- Perth' 'Caithness -- Sutherland' 'Edinburgh -- Ross-shire '\n",
      " 'Ayrshire -- Dumfriesshire -- Kirkudbrightshire'\n",
      " 'Aberdeen -- Highlands, the -- Invernesshire -- Kincardineshire -- Morayshire -- Ross-shire '\n",
      " 'Aberdeen -- Aberdeenshire -- Argyllshire -- Highlands, the'\n",
      " 'Argyllshire -- Caithness -- Highlands, the'\n",
      " 'Angus -- Dundee -- Stirling' 'Aberdeenshire -- Argyllshire'\n",
      " 'Edinburgh -- Sutherland'\n",
      " 'Argyllshire -- Borders -- Dunbartonshire -- Edinburgh -- Glasgow -- Stirlingshire'\n",
      " 'Fife -- Perth' 'Ayrshire -- Lanarkshire -- Perth'\n",
      " 'Argyllshire -- Edinburgh' 'Dunbartonshire -- Perth'\n",
      " 'Argyllshire -- Ayrshire -- Inner Hebrides -- Kirkudbrightshire -- Ross-shire  -- Wigtownshire'\n",
      " 'Lanarkshire -- Outer Hebrides'\n",
      " 'Caithness -- Highlands, the -- Inner Hebrides -- Orkney Islands -- Shetland Islands'\n",
      " 'Argyllshire -- Caithness -- Highlands, the -- Ross-shire  -- Sutherland'\n",
      " 'Ayrshire -- Fife -- Orkney Islands -- Shetland Islands'\n",
      " 'Ayrshire -- Bute -- Glasgow -- Inner Hebrides'\n",
      " 'Argyllshire -- Dunbartonshire -- Inner Hebrides -- Outer Hebrides'\n",
      " 'Aberdeen -- Argyllshire' 'Lanarkshire -- Perth' 'Nairn'\n",
      " 'Ayrshire -- Glasgow -- Invernesshire -- Outer Hebrides'\n",
      " 'Argyllshire -- Orkney Islands -- Shetland Islands'\n",
      " 'Inner Hebrides -- Invernesshire -- Orkney Islands -- Ross-shire '\n",
      " 'Aberdeenshire -- Banff -- Highlands, the -- Invernesshire -- Ross-shire '\n",
      " 'Forth River -- Highlands, the' 'Outer Hebrides -- Ross-shire '\n",
      " 'Aberdeen -- Borders -- Dumfriesshire -- Edinburgh -- Highlands, the'\n",
      " 'Caithness -- Morayshire'\n",
      " 'Aberdeen -- Aberdeenshire -- Angus -- Borders -- Dunbartonshire -- Edinburgh -- Fife -- Glasgow -- Morayshire -- Orkney Islands -- Perth -- Roxburghshire   -- Shetland Islands -- Stirling -- Stirlingshire -- West Lothian'\n",
      " 'Aberdeen -- Aberdeenshire -- Ayrshire -- Edinburgh -- Fife -- Lanarkshire -- Renfrewshire -- Stirlingshire'\n",
      " 'Aberdeen -- Edinburgh -- Forth River -- Glasgow -- Lanarkshire'\n",
      " 'Dunbartonshire -- Edinburgh -- Fife -- Forth River'\n",
      " 'Argyllshire -- Banff' 'Glasgow -- Sutherland' 'Perth -- Sutherland'\n",
      " 'Dunbartonshire -- Edinburgh' 'Fife -- Lanarkshire'\n",
      " 'Ayrshire -- Glasgow -- Lanarkshire'\n",
      " 'Aberdeen -- Edinburgh -- Fife -- Forth River -- Glasgow -- Perth'\n",
      " 'Banff -- Fife -- Forth River -- Perth'\n",
      " 'Ayrshire -- Edinburgh -- Morayshire' 'Argyllshire -- Ross-shire '\n",
      " 'Edinburgh -- Invernesshire' 'Dumfriesshire -- Dunbartonshire -- Glasgow'\n",
      " 'Argyllshire -- Ayrshire -- Dumfriesshire -- Stirlingshire'\n",
      " 'Banff -- Kincardineshire -- Perth'\n",
      " 'Aberdeen -- Fife -- Perth -- Stirlingshire'\n",
      " 'Aberdeenshire -- Ross-shire '\n",
      " 'Dunbartonshire -- Lanarkshire -- Stirlingshire -- West Lothian'\n",
      " 'Aberdeenshire -- Angus'\n",
      " 'Argyllshire -- Highlands, the -- Inner Hebrides' 'Aberdeen -- Caithness'\n",
      " 'Aberdeenshire -- Glasgow -- Inner Hebrides -- Invernesshire -- Morayshire -- Perth'\n",
      " 'Bute -- Dunbartonshire -- Forth River -- Glasgow -- Renfrewshire -- Stirlingshire'\n",
      " 'Bute -- Edinburgh -- Stirlingshire' 'Aberdeenshire -- Morayshire'\n",
      " 'Orkney Islands -- Sutherland' 'Edinburgh -- Orkney Islands'\n",
      " 'Argyllshire -- Inner Hebrides -- Shetland Islands'\n",
      " 'Argyllshire -- Outer Hebrides -- Ross-shire '\n",
      " 'Argyllshire -- Inner Hebrides -- Outer Hebrides -- Shetland Islands'\n",
      " 'Angus -- Caithness -- Wigtownshire' 'Inner Hebrides -- Invernesshire'\n",
      " 'Aberdeen -- Banff -- Highlands, the -- Inner Hebrides -- Morayshire -- Outer Hebrides'\n",
      " 'Aberdeenshire -- Bute -- Dundee -- Glasgow -- Gorbals, the -- Invernesshire -- Perth -- West Lothian'\n",
      " 'Aberdeenshire -- Invernesshire' 'Dunbartonshire -- Fife -- Stirling'\n",
      " 'Aberdeen -- Kincardineshire'\n",
      " 'Borders -- Peebles- shire -- Roxburghshire   -- Selkirkshire'\n",
      " 'Forth River -- Glasgow -- Lanarkshire'\n",
      " 'Dumfriesshire -- Fife -- Glasgow -- Stirlingshire' 'Aberdeen -- Dundee'\n",
      " 'Aberdeen -- Highlands, the -- Inner Hebrides -- Invernesshire -- Orkney Islands'\n",
      " 'Invernesshire -- Stirling' 'Forth River -- Perth -- Stirlingshire'\n",
      " 'Highlands, the -- Sutherland'\n",
      " 'Aberdeen -- Aberdeenshire -- Invernesshire -- Orkney Islands -- Shetland Islands'\n",
      " 'Fife -- Kinrosshire' 'Argyllshire -- Kinrosshire -- Perth'\n",
      " 'Argyllshire -- Dunbartonshire -- Inner Hebrides -- Outer Hebrides -- Perth'\n",
      " 'Ayrshire -- Borders -- Edinburgh -- Fife -- Perth -- West Lothian'\n",
      " 'Berwickshire -- Borders -- East Lothian -- Edinburgh'\n",
      " 'Borders -- Peebles- shire'\n",
      " 'Argyllshire -- East Lothian -- Outer Hebrides'\n",
      " 'East Lothian -- Outer Hebrides' 'Aberdeen -- Shetland Islands'\n",
      " 'Aberdeenshire -- Fife -- Invernesshire -- Midlothian -- Outer Hebrides'\n",
      " 'Berwickshire -- Dumfriesshire -- Peebles- shire -- Roxburghshire   -- Selkirkshire'\n",
      " 'Ayrshire -- Dunbartonshire -- Glasgow -- Lanarkshire -- Renfrewshire'\n",
      " 'Ross-shire  -- Sutherland' 'Ayrshire -- Edinburgh -- Fife -- Perth'\n",
      " 'Argyllshire -- Banff -- Berwickshire -- Edinburgh -- West Lothian'\n",
      " 'Fife -- Glasgow -- Perth -- Renfrewshire'\n",
      " 'Aberdeen -- Aberdeenshire -- Dunbartonshire -- Glasgow -- Lanarkshire -- Stirlingshire'\n",
      " 'Berwickshire -- Edinburgh' 'Angus -- Bute'\n",
      " 'Argyllshire -- Borders -- Edinburgh -- Inner Hebrides -- Outer Hebrides -- Renfrewshire -- Ross-shire  -- Roxburghshire  '\n",
      " 'Aberdeenshire -- Bute -- Forth River -- Glasgow -- Renfrewshire -- Ross-shire '\n",
      " 'Aberdeen -- Edinburgh -- Glasgow'\n",
      " 'Invernesshire -- Perth -- Ross-shire '\n",
      " 'Aberdeen -- Glasgow -- West Lothian'\n",
      " 'Ayrshire -- Dunbartonshire -- Lanarkshire -- Shetland Islands'\n",
      " 'Aberdeenshire -- Kincardineshire'\n",
      " 'Aberdeenshire -- Angus -- Argyllshire -- Berwickshire -- Borders -- East Lothian -- Invernesshire -- Midlothian -- Peebles- shire -- Perth -- Ross-shire  -- Selkirkshire -- Stirlingshire -- Sutherland -- West Lothian'\n",
      " 'Argyllshire -- Banff -- Fife -- Glasgow -- Highlands, the -- Invernesshire -- Morayshire -- Perth -- Stirling -- Stirlingshire'\n",
      " 'Forth River -- Midlothian'\n",
      " 'Edinburgh -- Forth River -- Kincardineshire -- Orkney Islands'\n",
      " 'Aberdeen -- Edinburgh -- Fife -- Orkney Islands -- Selkirkshire -- Shetland Islands'\n",
      " 'Aberdeen -- Edinburgh -- Sutherland'\n",
      " 'Aberdeen -- Edinburgh -- Forth River -- Glasgow -- Inner Hebrides -- Perth'\n",
      " 'Morayshire -- West Lothian'\n",
      " 'Edinburgh -- Fife -- Lanarkshire -- Midlothian -- Renfrewshire'\n",
      " 'Ayrshire -- Morayshire' 'Forth River -- Lanarkshire -- West Lothian'\n",
      " 'Invernesshire -- Morayshire -- Perth' 'Ayrshire -- Midlothian'\n",
      " 'Ayrshire -- Dundee -- Edinburgh -- West Lothian'\n",
      " 'Dumfriesshire -- Edinburgh -- Peebles- shire'\n",
      " 'Aberdeenshire -- Invernesshire -- Orkney Islands'\n",
      " 'East Lothian -- Lanarkshire' 'Kinrosshire' 'Invernesshire -- Nairn'\n",
      " 'Aberdeenshire -- Argyllshire -- Bute -- East Lothian -- Fife -- Peebles- shire -- Ross-shire '\n",
      " 'Edinburgh -- Fife -- Glasgow' 'East Lothian -- Edinburgh -- Lanarkshire'\n",
      " 'Argyllshire -- Edinburgh -- Highlands, the -- Inner Hebrides -- Outer Hebrides -- Stirling'\n",
      " 'Edinburgh -- Perth'\n",
      " 'Aberdeenshire -- Borders -- Inner Hebrides -- Morayshire -- Perth -- Sutherland'\n",
      " 'East Lothian -- Edinburgh -- Fife -- Glasgow -- Perth'\n",
      " 'Caithness -- Kincardineshire' 'Ayrshire -- Highlands, the'\n",
      " 'Aberdeenshire -- Dumfriesshire -- Perth'\n",
      " 'Kincardineshire -- Lanarkshire -- Perth' 'Midlothian -- Roxburghshire  '\n",
      " 'Banff -- Renfrewshire' 'Invernesshire -- Stirling -- Sutherland'\n",
      " 'Bute -- Stirling' 'Argyllshire -- Ayrshire -- Dunbartonshire -- Fife'\n",
      " 'Ayrshire -- Banff' 'Aberdeen -- Stirlingshire'\n",
      " 'Ayrshire -- Glasgow -- Perth -- Renfrewshire -- Stirling -- Stirlingshire'\n",
      " 'Argyllshire -- Caithness -- Dunbartonshire -- Invernesshire -- Outer Hebrides -- Perth -- Renfrewshire'\n",
      " 'Dumfriesshire -- Kirkudbrightshire'\n",
      " 'Dunbartonshire -- East Lothian -- Perth -- Stirlingshire'\n",
      " 'Kirkudbrightshire -- Lanarkshire'\n",
      " 'Dunbartonshire -- Glasgow -- Orkney Islands' 'Edinburgh -- Renfrewshire'\n",
      " 'Edinburgh -- Glasgow -- Roxburghshire  ' 'Berwickshire -- Borders'\n",
      " 'Aberdeenshire -- Midlothian'\n",
      " 'Dunbartonshire -- Stirling -- Stirlingshire'\n",
      " 'Roxburghshire   -- West Lothian' 'Angus -- Berwickshire'\n",
      " 'Berwickshire -- Selkirkshire'\n",
      " 'Berwickshire -- East Lothian -- Edinburgh -- Stirling -- Stirlingshire'\n",
      " 'Berwickshire -- Roxburghshire  ' 'Angus -- Edinburgh'\n",
      " 'Aberdeenshire -- Angus -- Fife' 'Borders -- Glasgow'\n",
      " 'Berwickshire -- West Lothian'\n",
      " 'Berwickshire -- Edinburgh -- Selkirkshire'\n",
      " 'Argyllshire -- Dumfriesshire -- Glasgow'\n",
      " 'Dumfriesshire -- Invernesshire'\n",
      " 'Ayrshire -- Inner Hebrides -- Ross-shire '\n",
      " 'Outer Hebrides -- Shetland Islands'\n",
      " 'Berwickshire -- Stirling -- Stirlingshire' 'Glasgow -- Midlothian'\n",
      " 'Argyllshire -- Caithness -- Invernesshire -- Stirlingshire'\n",
      " 'Argyllshire -- Ayrshire -- Glasgow' 'Invernesshire -- Ross-shire '\n",
      " 'Argyllshire -- Inner Hebrides -- Invernesshire -- Ross-shire '\n",
      " 'Aberdeen -- Morayshire'\n",
      " 'Dumfriesshire -- Inner Hebrides -- Outer Hebrides'\n",
      " 'Aberdeen -- Aberdeenshire -- Invernesshire -- Morayshire'\n",
      " 'Banff -- Morayshire' 'Aberdeenshire -- Argyllshire -- Banff'\n",
      " 'Aberdeen -- Aberdeenshire -- Banff' 'Aberdeenshire -- Glasgow'\n",
      " 'Argyllshire -- Inner Hebrides -- Ross-shire '\n",
      " 'Ayrshire -- Bute -- Renfrewshire' 'Invernesshire -- Renfrewshire'\n",
      " 'Dumfriesshire -- Renfrewshire' 'Kirkudbrightshire -- Renfrewshire'\n",
      " 'Bute -- Renfrewshire' 'Caithness -- Invernesshire -- Orkney Islands'\n",
      " 'Aberdeen -- Aberdeenshire -- Bute -- Dumfriesshire'\n",
      " 'Aberdeenshire -- Highlands, the' 'Edinburgh -- Fife -- Forth River'\n",
      " 'East Lothian -- Highlands, the' 'Roxburghshire   -- Selkirkshire'\n",
      " 'Highlands, the -- Stirlingshire' 'Inner Hebrides -- Perth'\n",
      " 'Ayrshire -- Dundee -- Fife' 'Argyllshire -- Ayrshire'\n",
      " 'Renfrewshire -- Stirling' 'Ayrshire -- Wigtownshire'\n",
      " 'Clackmannanshire -- Glasgow'\n",
      " 'Ayrshire -- Dunbartonshire -- Edinburgh -- Glasgow'\n",
      " 'Edinburgh -- Glasgow -- Perth'\n",
      " 'East Lothian -- Fife -- Glasgow -- Perth'\n",
      " 'Ayrshire -- Edinburgh -- Glasgow' 'Bute -- Dunbartonshire']\n"
     ]
    }
   ],
   "source": [
    "print(df[\"geographicNames\"].unique())"
   ]
  },
  {
   "cell_type": "markdown",
   "id": "99520e64",
   "metadata": {},
   "source": [
    "The information stored in the metadata field place of publication is the same string in all the records."
   ]
  },
  {
   "cell_type": "code",
   "execution_count": 21,
   "id": "dd40b101",
   "metadata": {},
   "outputs": [
    {
     "name": "stdout",
     "output_type": "stream",
     "text": [
      "['[Place of production not identified]'\n",
      " '[Place of production not identified] : ']\n"
     ]
    }
   ],
   "source": [
    "print(df[\"place_publication\"].unique())"
   ]
  },
  {
   "cell_type": "markdown",
   "id": "7387b44d",
   "metadata": {},
   "source": [
    "#### Let's check the media, carrier and content type metadata fields"
   ]
  },
  {
   "cell_type": "code",
   "execution_count": 22,
   "id": "4d3964a0",
   "metadata": {},
   "outputs": [
    {
     "name": "stdout",
     "output_type": "stream",
     "text": [
      "['unspecified -- rdamedia']\n",
      "['unspecified  -- rdacarrier']\n",
      "['two-dimensional moving image -- rdacontent']\n"
     ]
    }
   ],
   "source": [
    "print(df[\"mediaType\"].unique())\n",
    "print(df[\"carrierType\"].unique())\n",
    "print(df[\"contentType\"].unique())"
   ]
  },
  {
   "cell_type": "markdown",
   "id": "9532c394",
   "metadata": {},
   "source": [
    "#### How many thumbnails are available? How can we visualise them?"
   ]
  },
  {
   "cell_type": "code",
   "execution_count": 23,
   "id": "3c806342",
   "metadata": {},
   "outputs": [
    {
     "name": "stdout",
     "output_type": "stream",
     "text": [
      "count                                                  5345\n",
      "unique                                                 5345\n",
      "top       http://deriv.nls.uk/dcn19/1358/3808/135838082....\n",
      "freq                                                      1\n",
      "Name: thumbnail, dtype: object\n"
     ]
    }
   ],
   "source": [
    "print(df[\"thumbnail\"].describe())"
   ]
  },
  {
   "cell_type": "code",
   "execution_count": 24,
   "id": "ffd1e78e",
   "metadata": {},
   "outputs": [
    {
     "name": "stdout",
     "output_type": "stream",
     "text": [
      "http://deriv.nls.uk/dcn19/1358/3808/135838082.19.jpg\n"
     ]
    },
    {
     "data": {
      "text/html": [
       "<img src=\"http://deriv.nls.uk/dcn19/1358/3808/135838082.19.jpg\"/>"
      ],
      "text/plain": [
       "<IPython.core.display.Image object>"
      ]
     },
     "metadata": {},
     "output_type": "display_data"
    },
    {
     "name": "stdout",
     "output_type": "stream",
     "text": [
      "http://deriv.nls.uk/dcn19/7524/75247309.19.jpg\n"
     ]
    },
    {
     "data": {
      "text/html": [
       "<img src=\"http://deriv.nls.uk/dcn19/7524/75247309.19.jpg\"/>"
      ],
      "text/plain": [
       "<IPython.core.display.Image object>"
      ]
     },
     "metadata": {},
     "output_type": "display_data"
    },
    {
     "name": "stdout",
     "output_type": "stream",
     "text": [
      "http://deriv.nls.uk/dcn19/1930/5561/193055617.19.jpg\n"
     ]
    },
    {
     "data": {
      "text/html": [
       "<img src=\"http://deriv.nls.uk/dcn19/1930/5561/193055617.19.jpg\"/>"
      ],
      "text/plain": [
       "<IPython.core.display.Image object>"
      ]
     },
     "metadata": {},
     "output_type": "display_data"
    },
    {
     "name": "stdout",
     "output_type": "stream",
     "text": [
      "http://deriv.nls.uk/dcn19/1930/5561/193055611.19.jpg\n"
     ]
    },
    {
     "data": {
      "text/html": [
       "<img src=\"http://deriv.nls.uk/dcn19/1930/5561/193055611.19.jpg\"/>"
      ],
      "text/plain": [
       "<IPython.core.display.Image object>"
      ]
     },
     "metadata": {},
     "output_type": "display_data"
    },
    {
     "name": "stdout",
     "output_type": "stream",
     "text": [
      "http://deriv.nls.uk/dcn19/7496/74960120.19.jpg\n"
     ]
    },
    {
     "data": {
      "text/html": [
       "<img src=\"http://deriv.nls.uk/dcn19/7496/74960120.19.jpg\"/>"
      ],
      "text/plain": [
       "<IPython.core.display.Image object>"
      ]
     },
     "metadata": {},
     "output_type": "display_data"
    }
   ],
   "source": [
    "from IPython.display import Image, display\n",
    "\n",
    "listOfImageNames = df[df[\"thumbnail\"].notnull()][\"thumbnail\"].head(5)\n",
    "\n",
    "for imageName in listOfImageNames:\n",
    "    print(imageName)\n",
    "    display(Image(url=imageName))"
   ]
  },
  {
   "cell_type": "markdown",
   "id": "7080ce50",
   "metadata": {},
   "source": [
    "#### Let's check the subjects"
   ]
  },
  {
   "cell_type": "code",
   "execution_count": 25,
   "id": "3f8c96f7",
   "metadata": {},
   "outputs": [
    {
     "name": "stdout",
     "output_type": "stream",
     "text": [
      "Total unique subjects:91\n",
      "Agriculture\n",
      "Air displays and shows\n",
      "Air Raids\n",
      "Aircraft see also Helicopters\n",
      "Airports\n",
      "Animals\n",
      "Architecture and Buildings\n",
      "Art and Artists, general  \n",
      "Arts and Crafts\n",
      "Birds\n",
      "British Empire, the\n",
      "Broadcasting, general\n",
      "Buddhism\n",
      "Bulldozers\n",
      "Bus Stations and Depots\n",
      "Buses and Coaches, general\n",
      "Butchers and Butcher Shops\n",
      "Cafeterias and Canteens\n",
      "Camping\n",
      "Canals\n",
      "Canoeing\n",
      "Carriages\n",
      "Celebrations, Traditions and Customs\n",
      "Celts and Celtic Culture\n",
      "Ceremonies\n",
      "Cheese and Cheese Making\n",
      "Children and Infants\n",
      "Christmas  see also New Year\n",
      "Construction and Engineering\n",
      "Crime, Punishment and Law Enforcement\n",
      "Dentistry\n",
      "Depression, the\n",
      "Disillusionment\n",
      "Easter\n",
      "Education\n",
      "Emotions, Attitudes and Behaviour\n",
      "Employment, Industry and Industrial Relations\n",
      "Environment\n",
      "Ferries\n",
      "Fire Service\n",
      "Fish and Fishing\n",
      "Fish Gutting\n",
      "Fish Markets\n",
      "Fishing Boats\n",
      "Fishwives\n",
      "Food and Drink\n",
      "Forth River\n",
      "Gaelic\n",
      "Healthcare\n",
      "Highland Games\n",
      "Hogmanay\n",
      "Holiday Camps\n",
      "Home Guard\n",
      "Home Life\n",
      "Housing and Living Conditions\n",
      "Institutional Care\n",
      "Landscapes and Seascapes\n",
      "Leisure and Recreation\n",
      "Lifeboats\n",
      "Lobster Fishing\n",
      "Local Government\n",
      "Loch Ness Monster, the\n",
      "Media, Communication and the Creative Industries\n",
      "Military, the\n",
      "Music\n",
      "Music Hall\n",
      "Paddle Steamers\n",
      "Peat and Peat Cutting\n",
      "Politics\n",
      "Power Resources\n",
      "Religion\n",
      "Reptiles\n",
      "Reservoirs\n",
      "Residential Homes for the Elderly\n",
      "Restaurants\n",
      "Revenge\n",
      "Riding of the Marches\n",
      "Rodents\n",
      "Royalty\n",
      "Science and Technology\n",
      "Ships and Shipping\n",
      "Special Needs Education\n",
      "Spinning\n",
      "Sporting Activities\n",
      "Spring\n",
      "Stained Glass\n",
      "Tourism and Travel\n",
      "Transport\n",
      "War\n",
      "War Crimes\n",
      "Water and Waterways\n"
     ]
    }
   ],
   "source": [
    "# get unique values\n",
    "subjects = pd.unique(df['subjects'].str.split(' -- ', expand=True).stack()).tolist()\n",
    "print(\"Total unique subjects:\" + str(len(subjects)))\n",
    "for s in sorted(subjects, key=str.lower):\n",
    "    print(s)"
   ]
  },
  {
   "cell_type": "markdown",
   "id": "3a4536e6",
   "metadata": {},
   "source": [
    "#### Let's explore the information included in the summary column"
   ]
  },
  {
   "cell_type": "code",
   "execution_count": 26,
   "id": "0fea6fc4",
   "metadata": {},
   "outputs": [
    {
     "name": "stdout",
     "output_type": "stream",
     "text": [
      "0    The Botanic Gardens, Glasgow with shots of the...\n",
      "1    Footage of the last trams to run in Glasgow, a...\n",
      "2    The story of the last Edinburgh tram.  Shots o...\n",
      "3    Footage of the last tram to run in Glasgow. Th...\n",
      "4    Scottish school pupils studying scientific and...\n",
      "5    Glasgow University celebrates its Fifth Centen...\n",
      "6    Celebrations in Glasgow attended by students f...\n",
      "7    Procession of dignitaries in horse-drawn carri...\n",
      "8    Harry Lauder leaves for Liverpool from London'...\n",
      "9    A selection of amateur films made in the early...\n",
      "Name: summary, dtype: object\n"
     ]
    }
   ],
   "source": [
    "print(df[\"summary\"].head(10))"
   ]
  },
  {
   "cell_type": "markdown",
   "id": "2757c59a",
   "metadata": {},
   "source": [
    "### Cleaning the data\n",
    "\n",
    "The text may include special  punctuation characters that can be removed. In addition, the function lower() converts all capital letters in the text area to small lettersthe text is lowercase. "
   ]
  },
  {
   "cell_type": "code",
   "execution_count": 27,
   "id": "906370f1",
   "metadata": {},
   "outputs": [
    {
     "data": {
      "text/plain": [
       "0    the botanic gardens glasgow with shots of the ...\n",
       "1    footage of the last trams to run in glasgow an...\n",
       "2    the story of the last edinburgh tram  shots of...\n",
       "3    footage of the last tram to run in glasgow thi...\n",
       "4    scottish school pupils studying scientific and...\n",
       "Name: summary_processed, dtype: object"
      ]
     },
     "execution_count": 27,
     "metadata": {},
     "output_type": "execute_result"
    }
   ],
   "source": [
    "# Remove punctuation\n",
    "df['summary_processed'] = df['summary'].map(lambda x: re.sub('[,\\.!?]', '', x))\n",
    "\n",
    "# Convert the text to lowercase\n",
    "df['summary_processed'] = df['summary_processed'].map(lambda x: x.lower())\n",
    "\n",
    "# Print out the first rows of papers\n",
    "df['summary_processed'].head()"
   ]
  },
  {
   "cell_type": "markdown",
   "id": "a2263b2e",
   "metadata": {},
   "source": [
    "### WordCloud visualisation\n",
    "\n",
    "The following cell of code enables the creation of a wordcloud based on the textual descriptions provided by the column summary."
   ]
  },
  {
   "cell_type": "code",
   "execution_count": 28,
   "id": "c6e7ec55",
   "metadata": {},
   "outputs": [
    {
     "data": {
      "image/png": "[encoded data removed]",
      "text/plain": [
       "<PIL.Image.Image image mode=RGB size=400x200 at 0x7FFAF9AA0E20>"
      ]
     },
     "execution_count": 28,
     "metadata": {},
     "output_type": "execute_result"
    }
   ],
   "source": [
    "# Join the different summaries together.\n",
    "long_string = ','.join(list(df['summary_processed'].values))\n",
    "\n",
    "# Create a WordCloud object\n",
    "wordcloud = WordCloud(background_color=\"white\", max_words=5000, contour_width=3, contour_color='steelblue')\n",
    "\n",
    "# Generate a word cloud\n",
    "wordcloud.generate(long_string)\n",
    "\n",
    "# Visualize the word cloud\n",
    "wordcloud.to_image()"
   ]
  }
 ],
 "metadata": {
  "kernelspec": {
   "display_name": "Python 3",
   "language": "python",
   "name": "python3"
  },
  "language_info": {
   "codemirror_mode": {
    "name": "ipython",
    "version": 3
   },
   "file_extension": ".py",
   "mimetype": "text/x-python",
   "name": "python",
   "nbconvert_exporter": "python",
   "pygments_lexer": "ipython3",
   "version": "3.9.12"
  }
 },
 "nbformat": 4,
 "nbformat_minor": 5
}
