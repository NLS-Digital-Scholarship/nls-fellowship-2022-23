{
 "cells": [
  {
   "cell_type": "code",
   "execution_count": null,
   "id": "2d824827",
   "metadata": {},
   "outputs": [],
   "source": [
    "from rdflib import Graph\n",
    "\n",
    "# Create a Graph\n",
    "g = Graph().parse(\"rdf/movingImageArchiveEnriched.rdf\")"
   ]
  },
  {
   "cell_type": "code",
   "execution_count": null,
   "id": "f37f3957",
   "metadata": {},
   "outputs": [],
   "source": [
    "print('##### Years of publication:')\n",
    "\n",
    "# Query the data in g using SPARQL\n",
    "q = \"\"\"\n",
    "    PREFIX schema: <http://schema.org/>\n",
    "    SELECT distinct ?year\n",
    "    WHERE {\n",
    "        ?s schema:datePublished ?year .\n",
    "    } \n",
    "    ORDER BY ASC(xsd:integer(?year))\n",
    "\"\"\"\n",
    "\n",
    "# Apply the query to the graph and iterate through results\n",
    "for r in g.query(q):\n",
    "    print(r[\"year\"])"
   ]
  },
  {
   "cell_type": "code",
   "execution_count": null,
   "id": "1083c78a",
   "metadata": {},
   "outputs": [],
   "source": [
    "print('##### items by years of publication:')\n",
    "\n",
    "# Query the data in g using SPARQL\n",
    "q = \"\"\"\n",
    "    PREFIX schema: <http://schema.org/>\n",
    "    SELECT ?year (COUNT(?s) as ?total)\n",
    "    WHERE {\n",
    "        ?s schema:datePublished ?year .\n",
    "    } \n",
    "    GROUP BY ?year\n",
    "\"\"\"\n",
    "\n",
    "# Apply the query to the graph and iterate through results\n",
    "for r in g.query(q):\n",
    "    print(r[\"year\"] + ' total:' + r[\"total\"])"
   ]
  },
  {
   "cell_type": "code",
   "execution_count": null,
   "id": "60ef3c97",
   "metadata": {},
   "outputs": [],
   "source": [
    "# Create a figure and only one subplot\n",
    "fig, ax = plt.subplots(figsize=(10,8))\n",
    "\n",
    "#List with x-tick values\n",
    "x = [1970,1971,1972,1973,1974,1975,1976,1977,1978,1979]\n",
    "\n",
    "#Subsetting data\n",
    "seventies = ts.loc[1970:1979]\n",
    "\n",
    "#Plotting\n",
    "ax.plot(seventies.index, seventies['Avg Closing Price'])\n",
    "\n",
    "#Modifying Labels\n",
    "plt.xticks(x)\n",
    "plt.title('Historical Closing Avg Price of Gold during the 1970''s')\n",
    "plt.xlabel('Year')\n",
    "plt.ylabel('Price (USD)')\n",
    "\n",
    "#Displaying figure\n",
    "plt.show()"
   ]
  },
  {
   "cell_type": "code",
   "execution_count": null,
   "id": "9bdca1f7",
   "metadata": {},
   "outputs": [],
   "source": []
  }
 ],
 "metadata": {
  "kernelspec": {
   "display_name": "Python 3",
   "language": "python",
   "name": "python3"
  },
  "language_info": {
   "codemirror_mode": {
    "name": "ipython",
    "version": 3
   },
   "file_extension": ".py",
   "mimetype": "text/x-python",
   "name": "python",
   "nbconvert_exporter": "python",
   "pygments_lexer": "ipython3",
   "version": "3.9.13"
  }
 },
 "nbformat": 4,
 "nbformat_minor": 5
}
