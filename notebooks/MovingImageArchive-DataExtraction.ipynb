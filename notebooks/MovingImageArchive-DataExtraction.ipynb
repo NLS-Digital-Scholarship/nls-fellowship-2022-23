{
 "cells": [
  {
   "cell_type": "markdown",
   "id": "585a839f",
   "metadata": {},
   "source": [
    "# Data extraction from the Moving Image Archive dataset\n",
    "\n",
    "Created in October-December 2022 for the National Library of Scotland's Data Foundry by [Gustavo Candela, National Librarian’s Research Fellowship in Digital Scholarship 2022-23](https://data.nls.uk/projects/the-national-librarians-research-fellowship-in-digital-scholarship-2022-23/)"
   ]
  },
  {
   "cell_type": "markdown",
   "id": "96e427c2",
   "metadata": {},
   "source": [
    "### About the Moving Image Archive Dataset\n",
    "\n",
    "This dataset represents the descriptive metadata from the [Moving Image Archive catalogue](https://data.nls.uk/data/metadata-collections/moving-image-archive/), which is Scotland’s national collection of moving images.\n",
    "\n",
    "- Data format: metadata available as MARCXML and Dublin Core\n",
    "- Data source: https://data.nls.uk/data/metadata-collections/moving-image-archive/"
   ]
  },
  {
   "cell_type": "markdown",
   "id": "a6332690",
   "metadata": {},
   "source": [
    "### Table of contents\n",
    "\n",
    "- [Preparation](#Preparation)\n",
    "- [Data Extraction](#Extraction-of-the-data-to-a-CSV)"
   ]
  },
  {
   "cell_type": "markdown",
   "id": "da3a40f4",
   "metadata": {},
   "source": [
    "### Citations\n",
    "\n",
    "- Candela, G., Sáez, M. D., Escobar, P., & Marco-Such, M. (2022). Reusing digital collections from GLAM institutions. Journal of Information Science, 48(2), 251–267. https://doi.org/10.1177/0165551520950246"
   ]
  },
  {
   "cell_type": "markdown",
   "id": "6e42ca38",
   "metadata": {},
   "source": [
    "### Preparation\n",
    "\n",
    "Import the libraries required to extract the information from MARCXML to a CSV file:"
   ]
  },
  {
   "cell_type": "code",
   "execution_count": 1,
   "id": "d07b0bb7",
   "metadata": {},
   "outputs": [],
   "source": [
    "import pymarc, re, csv\n",
    "from pymarc import parse_xml_to_array"
   ]
  },
  {
   "cell_type": "markdown",
   "id": "25393975",
   "metadata": {},
   "source": [
    "## Extraction of the data to a CSV\n",
    "\n",
    "To extract the metadata we'll mainly use [Pymarc](https://pymarc.readthedocs.io/en/latest/), a Python 3 library for working with bibliographic data encoded in MARC21. The metadata will be stored in a CSV (comma-separated values) text file. \n",
    "\n",
    "*Note: If you'd like to reuse this code for other MARC datasets you may have to refine the code to retrieve additional and/or different MARC fields according to how the metadata is defined.\n",
    "\n"
   ]
  },
  {
   "cell_type": "code",
   "execution_count": 2,
   "id": "a8307d8d",
   "metadata": {
    "scrolled": true
   },
   "outputs": [],
   "source": [
    "with open('../data/output/movingImageArchive.csv', 'w') as csv_file:\n",
    "    csv_output = csv.writer(csv_file, delimiter = ',', quotechar = '\"', quoting = csv.QUOTE_MINIMAL)\n",
    "    csv_output.writerow(['title', 'author', 'authorOrganisation', 'place_publication',\\\n",
    "                         'date', 'extent', 'credits', 'subjects',\\\n",
    "                         'summary', 'details', 'link', 'geographicNames',\\\n",
    "                         'contentType', 'mediaType', 'carrierType', 'generalNote','thumbnail'])\n",
    "    \n",
    "    records = parse_xml_to_array(open('../data/movingImageArchive/Moving-Image-Archive-dataset-MARC.xml'))\n",
    "\n",
    "    for record in records:\n",
    "\n",
    "        title = author = authorOrganisation = place_publication = date = extent = credits = subjects =\\\n",
    "        summary = details = link = geographicNames = contentType = mediaType = carrierType =\\\n",
    "        generalNote = personalName = thumbnail = ''\n",
    "\n",
    "        # title\n",
    "        if record['245'] is not None:\n",
    "            title = record['245']['a']\n",
    "            if record['245']['b'] is not None:\n",
    "                title = title + \" \" + record['245']['b']\n",
    "            title = title.strip()\n",
    "\n",
    "        # place of publication\n",
    "        if record['264'] is not None:\n",
    "            place_publication = record['264']['a']\n",
    "\n",
    "        # date\n",
    "        for f in record.get_fields('264'):\n",
    "            dates = f.get_subfields('c')\n",
    "            if len(dates):\n",
    "                date = dates[0]\n",
    "\n",
    "                if date.endswith('.'): date = date[:-1]\n",
    "\n",
    "\n",
    "        # Physical Description - extent\n",
    "        for f in record.get_fields('300'):\n",
    "            extent = f.get_subfields('a')\n",
    "            if len(extent):\n",
    "                extent = extent[0]\n",
    "                # TODO cleaning\n",
    "            details = f.get_subfields('b')\n",
    "            if len(details):\n",
    "                details = details[0]\n",
    "                \n",
    "        # Content Type\n",
    "        for f in record.get_fields('336'):\n",
    "            contentType = f.get_subfields('a')[0] + ' -- ' + f.get_subfields('2')[0]\n",
    "        \n",
    "        # Media Type\n",
    "        for f in record.get_fields('337'):\n",
    "            mediaType = f.get_subfields('a')[0] + ' -- ' + f.get_subfields('2')[0]\n",
    "            \n",
    "        # Carrier Type\n",
    "        for f in record.get_fields('338'):\n",
    "            carrierType = f.get_subfields('a')[0] + ' -- ' + f.get_subfields('2')[0]\n",
    "            \n",
    "        # General Note\n",
    "        for f in record.get_fields('500'):\n",
    "            generalNote = f.get_subfields('a')\n",
    "\n",
    "        # credits\n",
    "        if record['508'] is not None:\n",
    "            for f in record.get_fields('508'):\n",
    "                credits += f.get_subfields('a')[0].strip() + \" -- \"\n",
    "                credits = credits.replace(\"\\n\", \" \")\n",
    "                \n",
    "            # remove -- at the end\n",
    "            credits = re.sub(' -- $', '', credits)\n",
    "\n",
    "        # summary\n",
    "        if record['520'] is not None:\n",
    "            summary = record['520']['a'].strip()\n",
    "\n",
    "        # subjects\n",
    "        if record['653'] is not None:\n",
    "            subjects = ''\n",
    "            geographicNames = ''\n",
    "            for f in record.get_fields('653'):\n",
    "                \n",
    "                if f.indicator2 == '0':\n",
    "                    subjects += f.get_subfields('a')[0] + ' -- '\n",
    "                elif f.indicator2 == '5':\n",
    "                    geographicNames += f.get_subfields('a')[0] + ' -- '\n",
    "\n",
    "            # remove -- at the end\n",
    "            subjects = re.sub(' -- $', '', subjects)\n",
    "            geographicNames = re.sub(' -- $', '', geographicNames)\n",
    "            \n",
    "        # author\n",
    "        # Added Entry-Personal Name and Corporate Name\n",
    "       \n",
    "        if record['700'] is not None:\n",
    "            author = ''\n",
    "            for f in record.get_fields('700'):\n",
    "                author += f.get_subfields('a')[0].strip() + \" -- \"\n",
    "                author = author.replace(\"\\n\", \" \")\n",
    "        if record['710'] is not None:\n",
    "            authorOrganisation = ''\n",
    "            for f in record.get_fields('710'):\n",
    "                authorOrganisation += f.get_subfields('a')[0].strip() + \" -- \"\n",
    "                authorOrganisation = authorOrganisation.replace(\"\\n\", \" \")\n",
    "            \n",
    "        # remove -- at the end\n",
    "        author = re.sub(' -- $', '', author)\n",
    "        authorOrganisation = re.sub(' -- $', '', authorOrganisation)\n",
    "            \n",
    "        # link\n",
    "        if record['856'] is not None:\n",
    "            link = record['856']['u']\n",
    "            \n",
    "        # thumbnail\n",
    "        if record['859'] is not None:\n",
    "            thumbnail = record['859']['u']\n",
    "\n",
    "        csv_output.writerow([title,author,authorOrganisation,place_publication,date,extent,credits,\\\n",
    "                             subjects,summary,details,link,geographicNames,\\\n",
    "                             contentType,mediaType,carrierType,generalNote,thumbnail])"
   ]
  }
 ],
 "metadata": {
  "kernelspec": {
   "display_name": "Python 3",
   "language": "python",
   "name": "python3"
  },
  "language_info": {
   "codemirror_mode": {
    "name": "ipython",
    "version": 3
   },
   "file_extension": ".py",
   "mimetype": "text/x-python",
   "name": "python",
   "nbconvert_exporter": "python",
   "pygments_lexer": "ipython3",
   "version": "3.9.12"
  }
 },
 "nbformat": 4,
 "nbformat_minor": 5
}
