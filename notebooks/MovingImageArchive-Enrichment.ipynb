{
 "cells": [
  {
   "cell_type": "markdown",
   "id": "0718e4b6",
   "metadata": {},
   "source": [
    "# Enriching the Moving Image Archive dataset with Wikidata and GeoNames\n",
    "\n",
    "Created in October-December 2022 for the National Library of Scotland's Data Foundry by [Gustavo Candela, National Librarian’s Research Fellowship in Digital Scholarship 2022-23](https://data.nls.uk/projects/the-national-librarians-research-fellowship-in-digital-scholarship-2022-23/)"
   ]
  },
  {
   "cell_type": "markdown",
   "id": "022acf10",
   "metadata": {},
   "source": [
    "### About the Moving Image Archive Dataset\n",
    "\n",
    "This dataset represents the descriptive metadata from the Moving Image Archive catalogue, which is Scotland’s national collection of moving images.\n",
    "\n",
    "- Data format: metadata available as MARCXML and Dublin Core\n",
    "- Data source: https://data.nls.uk/data/metadata-collections/moving-image-archive/"
   ]
  },
  {
   "cell_type": "markdown",
   "id": "7d869168",
   "metadata": {},
   "source": [
    "### Table of contents\n",
    "\n",
    "- [Preparation](#Preparation)\n",
    "- [Transformation to RDF](#Transformation-to-RDF)\n",
    "- [Enriching the data](#Enriching-the-dataset)\n",
    "- [Saving the data](#Saving-the-data)\n",
    "- [Integration of the data](#Integration-of-the-data)"
   ]
  },
  {
   "cell_type": "markdown",
   "id": "95b8a749",
   "metadata": {},
   "source": [
    "### Citations\n",
    "\n",
    "- Candela, G., Sáez, M. D., Escobar, P., & Marco-Such, M. (2022). Reusing digital collections from GLAM institutions. Journal of Information Science, 48(2), 251–267. https://doi.org/10.1177/0165551520950246"
   ]
  },
  {
   "cell_type": "markdown",
   "id": "2a2d8901",
   "metadata": {},
   "source": [
    "### Preparation\n",
    "\n",
    "Import the libraries required to enrich the dataset with external repositories"
   ]
  },
  {
   "cell_type": "code",
   "execution_count": 15,
   "id": "25a2902d",
   "metadata": {},
   "outputs": [],
   "source": [
    "import pandas as pd #for handling csv and csv contents\n",
    "from rdflib import Graph, Literal, RDF, URIRef, Namespace #basic RDF handling"
   ]
  },
  {
   "cell_type": "markdown",
   "id": "74bbbcd8",
   "metadata": {},
   "source": [
    "#### We define the URL pattern for locations"
   ]
  },
  {
   "cell_type": "code",
   "execution_count": 16,
   "id": "bb384272",
   "metadata": {},
   "outputs": [],
   "source": [
    "locationPattern = \"https://example.org/location/\""
   ]
  },
  {
   "cell_type": "markdown",
   "id": "e79e20db",
   "metadata": {},
   "source": [
    "### Enriching the dataset\n",
    "\n",
    "We read the CSV file containing the location, latitud, longitud and the external identifiers for Wikidata and GeoNames."
   ]
  },
  {
   "cell_type": "code",
   "execution_count": 17,
   "id": "7c36353b",
   "metadata": {},
   "outputs": [
    {
     "name": "stdout",
     "output_type": "stream",
     "text": [
      "             Location       lat     long   wikidata geonames\n",
      "0            Aberdeen  57.14369 -2.09814     Q36405  2657832\n",
      "1       Aberdeenshire  57.16667 -2.66667    Q189912  2657830\n",
      "2               Angus  56.66667 -2.91667    Q202177  2657306\n",
      "3         Argyllshire  56.25000 -5.25000    Q652539  2657088\n",
      "4            Ayrshire  55.50000 -4.50000    Q793283  2656700\n",
      "5               Banff  57.66477 -2.52964     Q54809  2656402\n",
      "6        Berwickshire  55.75000 -2.50000    Q786649  2655820\n",
      "7             Borders       NaN      NaN   Q9177476      NaN\n",
      "8                Bute  55.83333 -5.10000   Q1147435  2654168\n",
      "9           Caithness  58.41667 -3.50000    Q864668  2654041\n",
      "10   Clackmannanshire  56.16667 -3.75000    Q207268  2652975\n",
      "11      Dumfriesshire  55.16667 -3.50000   Q1247384  2650795\n",
      "12     Dunbartonshire  56.12639 -4.42069  Q17582129  7280022\n",
      "13             Dundee  56.46913 -2.97489    Q123709  2650752\n",
      "14       East Lothian  55.91667 -2.75000    Q207257  2650386\n",
      "15          Edinburgh  55.95206 -3.19648     Q23436  2650225\n",
      "16               Fife  56.25000 -3.16667    Q201149  2649469\n",
      "17        Forth River  56.04750 -3.70720      Q2421  2649177\n",
      "18            Glasgow  55.86515 -4.25763      Q4093  2648579\n",
      "19       Gorbals, the       NaN      NaN   Q3643362      NaN\n",
      "20     Highlands, the  57.12000 -4.71000    Q106652  2646943\n",
      "21     Inner Hebrides  56.50000 -6.00000     Q81052  2646177\n",
      "22      Invernesshire       NaN      NaN        NaN      NaN\n",
      "23    Kincardineshire  56.91667 -2.50000    Q376914  2645521\n",
      "24        Kinrosshire       NaN      NaN        NaN      NaN\n",
      "25  Kirkudbrightshire       NaN      NaN        NaN      NaN\n",
      "26        Lanarkshire  55.58333 -3.83333    Q530296  2644975\n",
      "27         Midlothian  55.82347 -3.09334    Q206934  2642559\n",
      "28         Morayshire       NaN      NaN   Q1247435      NaN\n",
      "29              Nairn  57.58094 -3.87973    Q980084  2641910\n",
      "30     Orkney Islands  59.00000 -3.00000    Q100166  2640923\n",
      "31     Outer Hebrides  57.75000 -7.00000     Q80967  2640801\n",
      "32     Peebles- shire       NaN      NaN        NaN      NaN\n",
      "33              Perth  56.39522 -3.43139    Q203000  2640358\n",
      "34       Renfrewshire  55.83333 -4.50000    Q211091  2639494\n",
      "35         Ross-shire       NaN      NaN    Q978599      NaN\n",
      "36      Roxburghshire  55.50000 -2.50000    Q664892  2639033\n",
      "37       Selkirkshire  55.50000 -3.00000   Q1247396  2638228\n",
      "38   Shetland Islands  60.33333 -1.33333     Q47134  2638010\n",
      "39           Stirling  56.11903 -3.93682    Q182923  2636910\n",
      "40      Stirlingshire       NaN      NaN   Q1229763      NaN\n",
      "41         Sutherland  58.25000 -4.50000   Q1061313  2636507\n",
      "42       West Lothian  55.91667 -3.50000    Q204940  2634354\n",
      "43       Wigtownshire  54.60000 -4.83333    Q550606  2633928\n"
     ]
    }
   ],
   "source": [
    "df=pd.read_csv('../data/movingImageArchive/MovingImageArchiveGeoNames.csv',sep=\",\",quotechar='\"',dtype={'geonames': str})\n",
    "print(df)"
   ]
  },
  {
   "cell_type": "markdown",
   "id": "bffacb50",
   "metadata": {},
   "source": [
    "#### We define the namespaces used to describe the data"
   ]
  },
  {
   "cell_type": "code",
   "execution_count": 18,
   "id": "8d616561",
   "metadata": {},
   "outputs": [],
   "source": [
    "g = Graph()\n",
    "\n",
    "owl = Namespace('http://www.w3.org/2002/07/owl#')\n",
    "wgs84_pos = Namespace(\"http://www.w3.org/2003/01/geo/wgs84_pos#\")\n",
    "rdfs = Namespace(\"http://www.w3.org/2000/01/rdf-schema#\")\n",
    "rdf = Namespace(\"http://www.w3.org/1999/02/22-rdf-syntax-ns#\")\n",
    "\n",
    "g.bind(\"owl\", owl)\n",
    "g.bind(\"wgs84_pos\", wgs84_pos)\n",
    "g.bind(\"rdfs\", rdfs)\n",
    "g.bind(\"rdf\", rdf)"
   ]
  },
  {
   "cell_type": "markdown",
   "id": "66e0ce84",
   "metadata": {},
   "source": [
    "#### We iterate through the rows of the CSV file to transform the information into RDF"
   ]
  },
  {
   "cell_type": "code",
   "execution_count": 19,
   "id": "20dd1e76",
   "metadata": {},
   "outputs": [],
   "source": [
    "for index, row in df.iterrows():\n",
    "\n",
    "    location = URIRef(locationPattern + row['Location'].lower().replace(\",\", \"\").replace(\" \", \"\"))\n",
    "    \n",
    "    ## add lat and long\n",
    "    if not pd.isnull(row['lat']):\n",
    "        g.add((location, URIRef(wgs84_pos+'lat'), Literal(str(row[\"lat\"])) ))\n",
    "    if not pd.isnull(row['long']):\n",
    "        g.add((location, URIRef(wgs84_pos+'long'), Literal(str(row[\"long\"]))))\n",
    "    \n",
    "    if not pd.isnull(row['wikidata']):\n",
    "        g.add((location, URIRef(owl+'sameAs'), URIRef('https://www.wikidata.org/wiki/' + str(row['wikidata']))))\n",
    "    if not pd.isnull(row['geonames']):   \n",
    "        g.add((location, URIRef(owl+'sameAs'), URIRef('https://www.geonames.org/' + str(row['geonames']))))"
   ]
  },
  {
   "cell_type": "markdown",
   "id": "df9581da",
   "metadata": {},
   "source": [
    "### Saving the metadata"
   ]
  },
  {
   "cell_type": "code",
   "execution_count": 20,
   "id": "35ad58bf",
   "metadata": {},
   "outputs": [
    {
     "name": "stdout",
     "output_type": "stream",
     "text": [
      "@prefix owl: <http://www.w3.org/2002/07/owl#> .\n",
      "@prefix wgs84_pos: <http://www.w3.org/2003/01/geo/wgs84_pos#> .\n",
      "\n",
      "<https://example.org/location/aberdeen> owl:sameAs <https://www.geonames.org/2657832>,\n",
      "        <https://www.wikidata.org/wiki/Q36405> ;\n",
      "    wgs84_pos:lat \"57.14369\" ;\n",
      "    wgs84_pos:long \"-2.09814\" .\n",
      "\n",
      "<https://example.org/location/aberdeenshire> owl:sameAs <https://www.geonames.org/2657830>,\n",
      "        <https://www.wikidata.org/wiki/Q189912> ;\n",
      "    wgs84_pos:lat \"57.16667\" ;\n",
      "    wgs84_pos:long \"-2.66667\" .\n",
      "\n",
      "<https://example.org/location/angus> owl:sameAs <https://www.geonames.org/2657306>,\n",
      "        <https://www.wikidata.org/wiki/Q202177> ;\n",
      "    wgs84_pos:lat \"56.66667\" ;\n",
      "    wgs84_pos:long \"-2.91667\" .\n",
      "\n",
      "<https://example.org/location/argyllshire> owl:sameAs <https://www.geonames.org/2657088>,\n",
      "        <https://www.wikidata.org/wiki/Q652539> ;\n",
      "    wgs84_pos:lat \"56.25\" ;\n",
      "    wgs84_pos:long \"-5.25\" .\n",
      "\n",
      "<https://example.org/location/ayrshire> owl:sameAs <https://www.geonames.org/2656700>,\n",
      "        <https://www.wikidata.org/wiki/Q793283> ;\n",
      "    wgs84_pos:lat \"55.5\" ;\n",
      "    wgs84_pos:long \"-4.5\" .\n",
      "\n",
      "<https://example.org/location/banff> owl:sameAs <https://www.geonames.org/2656402>,\n",
      "        <https://www.wikidata.org/wiki/Q54809> ;\n",
      "    wgs84_pos:lat \"57.66477\" ;\n",
      "    wgs84_pos:long \"-2.52964\" .\n",
      "\n",
      "<https://example.org/location/berwickshire> owl:sameAs <https://www.geonames.org/2655820>,\n",
      "        <https://www.wikidata.org/wiki/Q786649> ;\n",
      "    wgs84_pos:lat \"55.75\" ;\n",
      "    wgs84_pos:long \"-2.5\" .\n",
      "\n",
      "<https://example.org/location/borders> owl:sameAs <https://www.wikidata.org/wiki/Q9177476> .\n",
      "\n",
      "<https://example.org/location/bute> owl:sameAs <https://www.geonames.org/2654168>,\n",
      "        <https://www.wikidata.org/wiki/Q1147435> ;\n",
      "    wgs84_pos:lat \"55.83333\" ;\n",
      "    wgs84_pos:long \"-5.1\" .\n",
      "\n",
      "<https://example.org/location/caithness> owl:sameAs <https://www.geonames.org/2654041>,\n",
      "        <https://www.wikidata.org/wiki/Q864668> ;\n",
      "    wgs84_pos:lat \"58.41667\" ;\n",
      "    wgs84_pos:long \"-3.5\" .\n",
      "\n",
      "<https://example.org/location/clackmannanshire> owl:sameAs <https://www.geonames.org/2652975>,\n",
      "        <https://www.wikidata.org/wiki/Q207268> ;\n",
      "    wgs84_pos:lat \"56.16667\" ;\n",
      "    wgs84_pos:long \"-3.75\" .\n",
      "\n",
      "<https://example.org/location/dumfriesshire> owl:sameAs <https://www.geonames.org/2650795>,\n",
      "        <https://www.wikidata.org/wiki/Q1247384> ;\n",
      "    wgs84_pos:lat \"55.16667\" ;\n",
      "    wgs84_pos:long \"-3.5\" .\n",
      "\n",
      "<https://example.org/location/dunbartonshire> owl:sameAs <https://www.geonames.org/7280022>,\n",
      "        <https://www.wikidata.org/wiki/Q17582129> ;\n",
      "    wgs84_pos:lat \"56.12639\" ;\n",
      "    wgs84_pos:long \"-4.42069\" .\n",
      "\n",
      "<https://example.org/location/dundee> owl:sameAs <https://www.geonames.org/2650752>,\n",
      "        <https://www.wikidata.org/wiki/Q123709> ;\n",
      "    wgs84_pos:lat \"56.46913\" ;\n",
      "    wgs84_pos:long \"-2.97489\" .\n",
      "\n",
      "<https://example.org/location/eastlothian> owl:sameAs <https://www.geonames.org/2650386>,\n",
      "        <https://www.wikidata.org/wiki/Q207257> ;\n",
      "    wgs84_pos:lat \"55.91667\" ;\n",
      "    wgs84_pos:long \"-2.75\" .\n",
      "\n",
      "<https://example.org/location/edinburgh> owl:sameAs <https://www.geonames.org/2650225>,\n",
      "        <https://www.wikidata.org/wiki/Q23436> ;\n",
      "    wgs84_pos:lat \"55.95206\" ;\n",
      "    wgs84_pos:long \"-3.19648\" .\n",
      "\n",
      "<https://example.org/location/fife> owl:sameAs <https://www.geonames.org/2649469>,\n",
      "        <https://www.wikidata.org/wiki/Q201149> ;\n",
      "    wgs84_pos:lat \"56.25\" ;\n",
      "    wgs84_pos:long \"-3.16667\" .\n",
      "\n",
      "<https://example.org/location/forthriver> owl:sameAs <https://www.geonames.org/2649177>,\n",
      "        <https://www.wikidata.org/wiki/Q2421> ;\n",
      "    wgs84_pos:lat \"56.0475\" ;\n",
      "    wgs84_pos:long \"-3.7072\" .\n",
      "\n",
      "<https://example.org/location/glasgow> owl:sameAs <https://www.geonames.org/2648579>,\n",
      "        <https://www.wikidata.org/wiki/Q4093> ;\n",
      "    wgs84_pos:lat \"55.86515\" ;\n",
      "    wgs84_pos:long \"-4.25763\" .\n",
      "\n",
      "<https://example.org/location/gorbalsthe> owl:sameAs <https://www.wikidata.org/wiki/Q3643362> .\n",
      "\n",
      "<https://example.org/location/highlandsthe> owl:sameAs <https://www.geonames.org/2646943>,\n",
      "        <https://www.wikidata.org/wiki/Q106652> ;\n",
      "    wgs84_pos:lat \"57.12\" ;\n",
      "    wgs84_pos:long \"-4.71\" .\n",
      "\n",
      "<https://example.org/location/innerhebrides> owl:sameAs <https://www.geonames.org/2646177>,\n",
      "        <https://www.wikidata.org/wiki/Q81052> ;\n",
      "    wgs84_pos:lat \"56.5\" ;\n",
      "    wgs84_pos:long \"-6.0\" .\n",
      "\n",
      "<https://example.org/location/kincardineshire> owl:sameAs <https://www.geonames.org/2645521>,\n",
      "        <https://www.wikidata.org/wiki/Q376914> ;\n",
      "    wgs84_pos:lat \"56.91667\" ;\n",
      "    wgs84_pos:long \"-2.5\" .\n",
      "\n",
      "<https://example.org/location/lanarkshire> owl:sameAs <https://www.geonames.org/2644975>,\n",
      "        <https://www.wikidata.org/wiki/Q530296> ;\n",
      "    wgs84_pos:lat \"55.58333\" ;\n",
      "    wgs84_pos:long \"-3.83333\" .\n",
      "\n",
      "<https://example.org/location/midlothian> owl:sameAs <https://www.geonames.org/2642559>,\n",
      "        <https://www.wikidata.org/wiki/Q206934> ;\n",
      "    wgs84_pos:lat \"55.82347\" ;\n",
      "    wgs84_pos:long \"-3.09334\" .\n",
      "\n",
      "<https://example.org/location/morayshire> owl:sameAs <https://www.wikidata.org/wiki/Q1247435> .\n",
      "\n",
      "<https://example.org/location/nairn> owl:sameAs <https://www.geonames.org/2641910>,\n",
      "        <https://www.wikidata.org/wiki/Q980084> ;\n",
      "    wgs84_pos:lat \"57.58094\" ;\n",
      "    wgs84_pos:long \"-3.87973\" .\n",
      "\n",
      "<https://example.org/location/orkneyislands> owl:sameAs <https://www.geonames.org/2640923>,\n",
      "        <https://www.wikidata.org/wiki/Q100166> ;\n",
      "    wgs84_pos:lat \"59.0\" ;\n",
      "    wgs84_pos:long \"-3.0\" .\n",
      "\n",
      "<https://example.org/location/outerhebrides> owl:sameAs <https://www.geonames.org/2640801>,\n",
      "        <https://www.wikidata.org/wiki/Q80967> ;\n",
      "    wgs84_pos:lat \"57.75\" ;\n",
      "    wgs84_pos:long \"-7.0\" .\n",
      "\n",
      "<https://example.org/location/perth> owl:sameAs <https://www.geonames.org/2640358>,\n",
      "        <https://www.wikidata.org/wiki/Q203000> ;\n",
      "    wgs84_pos:lat \"56.39522\" ;\n",
      "    wgs84_pos:long \"-3.43139\" .\n",
      "\n",
      "<https://example.org/location/renfrewshire> owl:sameAs <https://www.geonames.org/2639494>,\n",
      "        <https://www.wikidata.org/wiki/Q211091> ;\n",
      "    wgs84_pos:lat \"55.83333\" ;\n",
      "    wgs84_pos:long \"-4.5\" .\n",
      "\n",
      "<https://example.org/location/ross-shire> owl:sameAs <https://www.wikidata.org/wiki/Q978599> .\n",
      "\n",
      "<https://example.org/location/roxburghshire> owl:sameAs <https://www.geonames.org/2639033>,\n",
      "        <https://www.wikidata.org/wiki/Q664892> ;\n",
      "    wgs84_pos:lat \"55.5\" ;\n",
      "    wgs84_pos:long \"-2.5\" .\n",
      "\n",
      "<https://example.org/location/selkirkshire> owl:sameAs <https://www.geonames.org/2638228>,\n",
      "        <https://www.wikidata.org/wiki/Q1247396> ;\n",
      "    wgs84_pos:lat \"55.5\" ;\n",
      "    wgs84_pos:long \"-3.0\" .\n",
      "\n",
      "<https://example.org/location/shetlandislands> owl:sameAs <https://www.geonames.org/2638010>,\n",
      "        <https://www.wikidata.org/wiki/Q47134> ;\n",
      "    wgs84_pos:lat \"60.33333\" ;\n",
      "    wgs84_pos:long \"-1.33333\" .\n",
      "\n",
      "<https://example.org/location/stirling> owl:sameAs <https://www.geonames.org/2636910>,\n",
      "        <https://www.wikidata.org/wiki/Q182923> ;\n",
      "    wgs84_pos:lat \"56.11903\" ;\n",
      "    wgs84_pos:long \"-3.93682\" .\n",
      "\n",
      "<https://example.org/location/stirlingshire> owl:sameAs <https://www.wikidata.org/wiki/Q1229763> .\n",
      "\n",
      "<https://example.org/location/sutherland> owl:sameAs <https://www.geonames.org/2636507>,\n",
      "        <https://www.wikidata.org/wiki/Q1061313> ;\n",
      "    wgs84_pos:lat \"58.25\" ;\n",
      "    wgs84_pos:long \"-4.5\" .\n",
      "\n",
      "<https://example.org/location/westlothian> owl:sameAs <https://www.geonames.org/2634354>,\n",
      "        <https://www.wikidata.org/wiki/Q204940> ;\n",
      "    wgs84_pos:lat \"55.91667\" ;\n",
      "    wgs84_pos:long \"-3.5\" .\n",
      "\n",
      "<https://example.org/location/wigtownshire> owl:sameAs <https://www.geonames.org/2633928>,\n",
      "        <https://www.wikidata.org/wiki/Q550606> ;\n",
      "    wgs84_pos:lat \"54.6\" ;\n",
      "    wgs84_pos:long \"-4.83333\" .\n",
      "\n",
      "\n"
     ]
    },
    {
     "data": {
      "text/plain": [
       "<Graph identifier=N18511275484e4e309d0618f510024693 (<class 'rdflib.graph.Graph'>)>"
      ]
     },
     "execution_count": 20,
     "metadata": {},
     "output_type": "execute_result"
    }
   ],
   "source": [
    "print(g.serialize(format='turtle'))\n",
    "\n",
    "g.serialize('../rdf/locations.ttl')"
   ]
  },
  {
   "cell_type": "markdown",
   "id": "4e60e91f",
   "metadata": {},
   "source": [
    "### Integration of the data\n",
    "\n",
    "Let's merge the original RDF dataset with the information that we have created about geographic locations"
   ]
  },
  {
   "cell_type": "code",
   "execution_count": 21,
   "id": "be2936bf",
   "metadata": {},
   "outputs": [
    {
     "data": {
      "text/plain": [
       "<Graph identifier=Nee0a8ea9d40e4fbaadee906c04251e9e (<class 'rdflib.graph.Graph'>)>"
      ]
     },
     "execution_count": 21,
     "metadata": {},
     "output_type": "execute_result"
    }
   ],
   "source": [
    "g = Graph()\n",
    "g.parse(\"../rdf/locations.ttl\")\n",
    "g.parse(\"../rdf/dataset.ttl\")\n",
    "g.serialize('../rdf/datasetEnriched.ttl')"
   ]
  }
 ],
 "metadata": {
  "kernelspec": {
   "display_name": "Python 3",
   "language": "python",
   "name": "python3"
  },
  "language_info": {
   "codemirror_mode": {
    "name": "ipython",
    "version": 3
   },
   "file_extension": ".py",
   "mimetype": "text/x-python",
   "name": "python",
   "nbconvert_exporter": "python",
   "pygments_lexer": "ipython3",
   "version": "3.9.12"
  }
 },
 "nbformat": 4,
 "nbformat_minor": 5
}
