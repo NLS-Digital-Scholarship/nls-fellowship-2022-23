{
 "cells": [
  {
   "cell_type": "markdown",
   "id": "585a839f",
   "metadata": {},
   "source": [
    "### Analysis of the dataset\n",
    "\n",
    "This dataset represents the descriptive metadata from the [Moving Image Archive catalogue](https://data.nls.uk/data/metadata-collections/moving-image-archive/), which is Scotland’s national collection of moving images."
   ]
  },
  {
   "cell_type": "code",
   "execution_count": 1,
   "id": "d07b0bb7",
   "metadata": {},
   "outputs": [],
   "source": [
    "import pandas as pd"
   ]
  },
  {
   "cell_type": "markdown",
   "id": "1754f897",
   "metadata": {},
   "source": [
    "#### Loading the CSV data into pandas"
   ]
  },
  {
   "cell_type": "code",
   "execution_count": 2,
   "id": "a8307d8d",
   "metadata": {
    "scrolled": true
   },
   "outputs": [],
   "source": [
    "path_csv = \"data/output/movingImageArchive.csv\"\n",
    "df = pd.read_csv (path_csv, sep=',')"
   ]
  },
  {
   "cell_type": "code",
   "execution_count": 4,
   "id": "b2ae1bda",
   "metadata": {},
   "outputs": [
    {
     "name": "stdout",
     "output_type": "stream",
     "text": [
      "['title', 'author', 'place_publication', 'date', 'extent', 'credits', 'subjects', 'summary', 'details', 'link', 'geographicNames']\n"
     ]
    }
   ],
   "source": [
    "## structure of the data\n",
    "print(df.columns.tolist())"
   ]
  },
  {
   "cell_type": "code",
   "execution_count": 5,
   "id": "f1bb1af1",
   "metadata": {},
   "outputs": [
    {
     "name": "stdout",
     "output_type": "stream",
     "text": [
      "title                20599\n",
      "author                1443\n",
      "place_publication    20608\n",
      "date                 15575\n",
      "extent               20608\n",
      "credits              14889\n",
      "subjects              8006\n",
      "summary              20587\n",
      "details              20260\n",
      "link                 20608\n",
      "geographicNames       4604\n",
      "dtype: int64\n"
     ]
    }
   ],
   "source": [
    "# number of records\n",
    "print(df.count())"
   ]
  },
  {
   "cell_type": "code",
   "execution_count": 6,
   "id": "57b4ea18",
   "metadata": {},
   "outputs": [
    {
     "name": "stdout",
     "output_type": "stream",
     "text": [
      "count        4604\n",
      "unique        496\n",
      "top       Glasgow\n",
      "freq          729\n",
      "Name: geographicNames, dtype: object\n"
     ]
    }
   ],
   "source": [
    "# analysis geographic locations column \n",
    "print(df['geographicNames'].describe())"
   ]
  },
  {
   "cell_type": "markdown",
   "id": "b8f0b650",
   "metadata": {},
   "source": [
    "## References\n",
    "\n",
    "- https://pymarc.readthedocs.io/en/latest/#api-docs\n",
    "- https://www.loc.gov/marc/bibliographic/"
   ]
  },
  {
   "cell_type": "code",
   "execution_count": null,
   "id": "ab2c6f0e",
   "metadata": {},
   "outputs": [],
   "source": []
  }
 ],
 "metadata": {
  "kernelspec": {
   "display_name": "Python 3",
   "language": "python",
   "name": "python3"
  },
  "language_info": {
   "codemirror_mode": {
    "name": "ipython",
    "version": 3
   },
   "file_extension": ".py",
   "mimetype": "text/x-python",
   "name": "python",
   "nbconvert_exporter": "python",
   "pygments_lexer": "ipython3",
   "version": "3.9.13"
  }
 },
 "nbformat": 4,
 "nbformat_minor": 5
}
