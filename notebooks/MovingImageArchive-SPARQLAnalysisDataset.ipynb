{
 "cells": [
  {
   "cell_type": "code",
   "execution_count": 6,
   "id": "62b0a9b5",
   "metadata": {},
   "outputs": [],
   "source": [
    "from rdflib import Graph\n",
    "\n",
    "# Create a Graph\n",
    "g = Graph().parse(\"rdf/movingImageArchiveEnriched.rdf\")"
   ]
  },
  {
   "cell_type": "markdown",
   "id": "8c8756a3",
   "metadata": {},
   "source": [
    "### Number of classes"
   ]
  },
  {
   "cell_type": "code",
   "execution_count": 7,
   "id": "19f0fd80",
   "metadata": {},
   "outputs": [
    {
     "name": "stdout",
     "output_type": "stream",
     "text": [
      "##### Number of classes:\n",
      "4\n"
     ]
    }
   ],
   "source": [
    "print('##### Number of classes:')\n",
    "\n",
    "# Query the data in g using SPARQL\n",
    "q = \"\"\"\n",
    "    SELECT (count(distinct ?class) as ?classes)\n",
    "    WHERE {\n",
    "        ?s a ?class .\n",
    "    }\n",
    "\"\"\"\n",
    "\n",
    "# Apply the query to the graph and iterate through results\n",
    "for r in g.query(q):\n",
    "    print(r[\"classes\"])"
   ]
  },
  {
   "cell_type": "markdown",
   "id": "55571ad2",
   "metadata": {},
   "source": [
    "### Classes"
   ]
  },
  {
   "cell_type": "code",
   "execution_count": 9,
   "id": "fb07a7f7",
   "metadata": {},
   "outputs": [
    {
     "name": "stdout",
     "output_type": "stream",
     "text": [
      "##### Classes:\n",
      "http://schema.org/VideoObject\n",
      "http://www.europeana.eu/schemas/edm/Place\n",
      "http://schema.org/Place\n",
      "http://schema.org/Organization\n"
     ]
    }
   ],
   "source": [
    "print('##### Classes:')\n",
    "\n",
    "# Query the data in g using SPARQL\n",
    "q = \"\"\"\n",
    "    SELECT distinct ?class\n",
    "    WHERE {\n",
    "        ?s a ?class .\n",
    "    }\n",
    "\"\"\"\n",
    "\n",
    "# Apply the query to the graph and iterate through results\n",
    "for r in g.query(q):\n",
    "    print(r[\"class\"])"
   ]
  },
  {
   "cell_type": "markdown",
   "id": "2b5db07c",
   "metadata": {},
   "source": [
    "### Number of properties"
   ]
  },
  {
   "cell_type": "code",
   "execution_count": 10,
   "id": "79e6ec69",
   "metadata": {},
   "outputs": [
    {
     "name": "stdout",
     "output_type": "stream",
     "text": [
      "##### Number of properties:\n",
      "18\n"
     ]
    }
   ],
   "source": [
    "print('##### Number of properties:')\n",
    "\n",
    "# Query the data in g using SPARQL\n",
    "q = \"\"\"\n",
    "    SELECT (count(distinct ?prop) as ?properties)\n",
    "    WHERE {\n",
    "        ?s ?prop ?o .\n",
    "    }\n",
    "\"\"\"\n",
    "\n",
    "# Apply the query to the graph and iterate through results\n",
    "for r in g.query(q):\n",
    "    print(r[\"properties\"])"
   ]
  },
  {
   "cell_type": "markdown",
   "id": "bd167a71",
   "metadata": {},
   "source": [
    "### Properties"
   ]
  },
  {
   "cell_type": "code",
   "execution_count": 12,
   "id": "b76d270b",
   "metadata": {},
   "outputs": [
    {
     "name": "stdout",
     "output_type": "stream",
     "text": [
      "##### Properties:\n",
      "http://schema.org/abstract\n",
      "http://example.org/details\n",
      "http://schema.org/duration\n",
      "http://www.w3.org/1999/02/22-rdf-syntax-ns#type\n",
      "http://schema.org/name\n",
      "http://schema.org/identifier\n",
      "http://schema.org/sourceOrganization\n",
      "http://schema.org/creditText\n",
      "http://example.org/subjects\n",
      "http://schema.org/datePublished\n",
      "http://purl.org/dc/terms/spatial\n",
      "http://www.w3.org/2004/02/skos/core#prefLabel\n",
      "http://www.w3.org/2003/01/geo/wgs84_pos#long\n",
      "http://schema.org/creator\n",
      "http://www.w3.org/2003/01/geo/wgs84_pos#lat\n",
      "http://www.w3.org/2002/07/owl#sameAs\n",
      "http://schema.org/logo\n",
      "http://schema.org/url\n"
     ]
    }
   ],
   "source": [
    "print('##### Properties:')\n",
    "\n",
    "# Query the data in g using SPARQL\n",
    "q = \"\"\"\n",
    "    SELECT distinct ?prop\n",
    "    WHERE {\n",
    "        ?s ?prop ?o .\n",
    "    }\n",
    "\"\"\"\n",
    "\n",
    "# Apply the query to the graph and iterate through results\n",
    "for r in g.query(q):\n",
    "    print(r[\"prop\"])"
   ]
  },
  {
   "cell_type": "markdown",
   "id": "2781494e",
   "metadata": {},
   "source": [
    "### Number of external links"
   ]
  },
  {
   "cell_type": "code",
   "execution_count": 15,
   "id": "6f8e1ca9",
   "metadata": {},
   "outputs": [
    {
     "name": "stdout",
     "output_type": "stream",
     "text": [
      "##### Number of owl:sameAs properties:\n",
      "75\n"
     ]
    }
   ],
   "source": [
    "print('##### Number of owl:sameAs properties:')\n",
    "    \n",
    "# Query the data in g using SPARQL\n",
    "q = \"\"\"\n",
    "    SELECT (count(distinct ?sameAs) as ?total)\n",
    "    WHERE {\n",
    "        ?p owl:sameAs ?sameAs .\n",
    "    }\n",
    "\"\"\"\n",
    "\n",
    "# Apply the query to the graph and iterate through results\n",
    "for r in g.query(q):\n",
    "    print(r[\"total\"])"
   ]
  },
  {
   "cell_type": "markdown",
   "id": "49e828cd",
   "metadata": {},
   "source": [
    "### Number of triples"
   ]
  },
  {
   "cell_type": "code",
   "execution_count": 16,
   "id": "bae40ae0",
   "metadata": {},
   "outputs": [
    {
     "name": "stdout",
     "output_type": "stream",
     "text": [
      "##### Number of triples:\n",
      "182742\n"
     ]
    }
   ],
   "source": [
    "print('##### Number of triples:')\n",
    "    \n",
    "# Query the data in g using SPARQL\n",
    "q = \"\"\"\n",
    "    SELECT (COUNT(*) as ?triples) \n",
    "    WHERE { ?s ?p ?o } \n",
    "\"\"\"\n",
    "\n",
    "# Apply the query to the graph and iterate through results\n",
    "for r in g.query(q):\n",
    "    print(r[\"triples\"])"
   ]
  },
  {
   "cell_type": "code",
   "execution_count": null,
   "id": "707e81dd",
   "metadata": {},
   "outputs": [],
   "source": []
  }
 ],
 "metadata": {
  "kernelspec": {
   "display_name": "Python 3",
   "language": "python",
   "name": "python3"
  },
  "language_info": {
   "codemirror_mode": {
    "name": "ipython",
    "version": 3
   },
   "file_extension": ".py",
   "mimetype": "text/x-python",
   "name": "python",
   "nbconvert_exporter": "python",
   "pygments_lexer": "ipython3",
   "version": "3.9.13"
  }
 },
 "nbformat": 4,
 "nbformat_minor": 5
}
