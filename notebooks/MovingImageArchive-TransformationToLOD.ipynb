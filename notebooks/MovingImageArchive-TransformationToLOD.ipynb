{
 "cells": [
  {
   "cell_type": "markdown",
   "id": "3f842a66",
   "metadata": {},
   "source": [
    "# Transforming the Moving Image Archive dataset to RDF\n",
    "\n",
    "Created in October-December 2022 for the National Library of Scotland's Data Foundry by [Gustavo Candela, National Librarian’s Research Fellowship in Digital Scholarship 2022-23](https://data.nls.uk/projects/the-national-librarians-research-fellowship-in-digital-scholarship-2022-23/)"
   ]
  },
  {
   "cell_type": "markdown",
   "id": "40abccf7",
   "metadata": {},
   "source": [
    "### About the Moving Image Archive Dataset\n",
    "\n",
    "This dataset represents the descriptive metadata from the Moving Image Archive catalogue, which is Scotland’s national collection of moving images.\n",
    "\n",
    "- Data format: metadata available as MARCXML and Dublin Core\n",
    "- Data source: https://data.nls.uk/data/metadata-collections/moving-image-archive/"
   ]
  },
  {
   "cell_type": "markdown",
   "id": "6f3f0f9a",
   "metadata": {},
   "source": [
    "### Table of contents\n",
    "\n",
    "- [Preparation](#Preparation)\n",
    "- [Transformation to RDF](#Transformation-to-RDF)"
   ]
  },
  {
   "cell_type": "markdown",
   "id": "7e43116e",
   "metadata": {},
   "source": [
    "### Citations\n",
    "\n",
    "- Candela, G., Sáez, M. D., Escobar, P., & Marco-Such, M. (2022). Reusing digital collections from GLAM institutions. Journal of Information Science, 48(2), 251–267. https://doi.org/10.1177/0165551520950246"
   ]
  },
  {
   "cell_type": "markdown",
   "id": "56324728",
   "metadata": {},
   "source": [
    "### Preparation\n",
    "\n",
    "Import the libraries required to explore the summary of each record included in the dataset to present a word cloud"
   ]
  },
  {
   "cell_type": "code",
   "execution_count": 1,
   "id": "81e4d33f",
   "metadata": {},
   "outputs": [],
   "source": [
    "from rdflib import Graph, URIRef, Literal, Namespace\n",
    "from rdflib.namespace import FOAF, RDF, DCTERMS, VOID, DC, SKOS\n",
    "import pandas as pd"
   ]
  },
  {
   "cell_type": "markdown",
   "id": "fe73447a",
   "metadata": {},
   "source": [
    "### Transformation to RDF\n",
    "\n",
    "*Note: The variable domain could be updated to the domain of the organisation (e.g., https://data.nls.uk)."
   ]
  },
  {
   "cell_type": "code",
   "execution_count": 2,
   "id": "2c722319",
   "metadata": {},
   "outputs": [],
   "source": [
    "domain = 'https://example.org/'"
   ]
  },
  {
   "cell_type": "markdown",
   "id": "7d3bb8d9",
   "metadata": {},
   "source": [
    "#### First, we instantiate all the namespaces that we will use when defining the RDF data"
   ]
  },
  {
   "cell_type": "code",
   "execution_count": 3,
   "id": "b37cfbee",
   "metadata": {},
   "outputs": [],
   "source": [
    "g = Graph()\n",
    "g.bind(\"foaf\", FOAF)\n",
    "g.bind(\"rdf\", RDF)\n",
    "g.bind(\"dcterms\", DCTERMS)\n",
    "g.bind(\"dc\", DC)\n",
    "g.bind(\"void\", VOID)\n",
    "g.bind(\"skos\", SKOS)\n",
    "\n",
    "schema = Namespace(\"https://schema.org/\")\n",
    "g.bind(\"schema\", schema)\n",
    "\n",
    "edm = Namespace(\"http://www.europeana.eu/schemas/edm/\")\n",
    "g.bind(\"edm\", edm)"
   ]
  },
  {
   "cell_type": "markdown",
   "id": "1f061d54",
   "metadata": {},
   "source": [
    "#### We define the resource National Library of Scotland"
   ]
  },
  {
   "cell_type": "code",
   "execution_count": 4,
   "id": "6d51623c",
   "metadata": {},
   "outputs": [
    {
     "data": {
      "text/plain": [
       "<Graph identifier=N24baaa86af1b4d2199fbfdcc3b567d05 (<class 'rdflib.graph.Graph'>)>"
      ]
     },
     "execution_count": 4,
     "metadata": {},
     "output_type": "execute_result"
    }
   ],
   "source": [
    "nls = URIRef(domain + \"organisation/nls\")\n",
    "g.add((nls, RDF.type, schema.Organization))\n",
    "g.add((nls, schema.url, URIRef(\"https://www.nls.uk/\")))\n",
    "g.add((nls, schema.logo, URIRef(\"https://www.nls.uk/images/nls-logo.png\")))\n",
    "g.add((nls, schema.name, Literal(\"National Library of Scotland\")))\n",
    "g.add((nls, DC.title, Literal(\"National Library of Scotland\")))"
   ]
  },
  {
   "cell_type": "markdown",
   "id": "18370219",
   "metadata": {},
   "source": [
    "#### Let's transform the records provided by the CSV file into RDF"
   ]
  },
  {
   "cell_type": "code",
   "execution_count": 5,
   "id": "a244a756",
   "metadata": {},
   "outputs": [
    {
     "name": "stdout",
     "output_type": "stream",
     "text": [
      "                                   title                        author  \\\n",
      "0                                  title                        author   \n",
      "1      GLASGOW TRAMS AND BOTANIC GARDENS  RUSSELL, Stanley Livingstone   \n",
      "2         LAST DAY OF THE TRAMS, GLASGOW                           NaN   \n",
      "3                         INTO THE MISTS                           NaN   \n",
      "4            PASSING OF THE TRAMCAR, the                           NaN   \n",
      "...                                  ...                           ...   \n",
      "20604      N.P. NASSAU BAY  Ship No. 689                           NaN   \n",
      "20605         DREDGING IN THE RIVER TEES                           NaN   \n",
      "20606     AUTOMATION ON A SUCTION DREDGE                           NaN   \n",
      "20607      QUEEN ELIZABETH  Ship No. 552                           NaN   \n",
      "20608                            RUAHINE                           NaN   \n",
      "\n",
      "       authorOrganisation                     place_publication  date  \\\n",
      "0      authorOrganisation                     place_publication  date   \n",
      "1                     NaN  [Place of production not identified]  1950   \n",
      "2                     NaN  [Place of production not identified]  1962   \n",
      "3                     NaN  [Place of production not identified]  1956   \n",
      "4                     NaN  [Place of production not identified]  1962   \n",
      "...                   ...                                   ...   ...   \n",
      "20604                 NaN  [Place of production not identified]  1964   \n",
      "20605                 NaN  [Place of production not identified]  1965   \n",
      "20606                 NaN  [Place of production not identified]  1966   \n",
      "20607                 NaN  [Place of production not identified]  1940   \n",
      "20608                 NaN  [Place of production not identified]  1951   \n",
      "\n",
      "                extent                                            credits  \\\n",
      "0               extent                                            credits   \n",
      "1       (2:00 mins) :   [filmed by Stanley L. Russell, Thames and Clyde].   \n",
      "2      (28:00 mins) :                                   [filmed by SAAC].   \n",
      "3      (10:04 mins) :                           [filmed by  W.S. Dobson].   \n",
      "4      (63:36 mins) :                                                 NaN   \n",
      "...                ...                                                ...   \n",
      "20604   (2min38sec) :                                                 NaN   \n",
      "20605               []                                                NaN   \n",
      "20606  (16:38 mins) :   Producer, The Stephen Group Film Unit. -- Cred...   \n",
      "20607   (5min24sec) :                                                 NaN   \n",
      "20608  (12:26 mins) :                                                 NaN   \n",
      "\n",
      "                                                subjects  \\\n",
      "0                                               subjects   \n",
      "1      Bus Stations and Depots -- Buses and Coaches, ...   \n",
      "2                                              Transport   \n",
      "3      Ceremonies -- Emotions, Attitudes and Behaviou...   \n",
      "4                                Ceremonies -- Transport   \n",
      "...                                                  ...   \n",
      "20604                                                NaN   \n",
      "20605                                                NaN   \n",
      "20606                                                NaN   \n",
      "20607  Employment, Industry and Industrial Relations ...   \n",
      "20608      Carriages -- Ceremonies -- Ships and Shipping   \n",
      "\n",
      "                                                 summary  \\\n",
      "0                                                summary   \n",
      "1      The Botanic Gardens, Glasgow with shots of the...   \n",
      "2      Footage of the last trams to run in Glasgow, a...   \n",
      "3      The story of the last Edinburgh tram.  Shots o...   \n",
      "4      Footage of the last tram to run in Glasgow. Th...   \n",
      "...                                                  ...   \n",
      "20604                               Launching of vessel.   \n",
      "20605  Simons Lobnitz film made by Stephen Group Film...   \n",
      "20606  The film depicts the workings and operation of...   \n",
      "20607  Built and engineered by John Brown & Co. Ltd. ...   \n",
      "20608  Footage of \"Ruahine\" ship being launched and t...   \n",
      "\n",
      "                                       details  \\\n",
      "0                                      details   \n",
      "1                        without sound, colour   \n",
      "2                        without sound, colour   \n",
      "3                        without sound, colour   \n",
      "4                        without sound, colour   \n",
      "...                                        ...   \n",
      "20604                    without sound, colour   \n",
      "20605                    without sound, colour   \n",
      "20606                       with sound, colour   \n",
      "20607           without sound, black and white   \n",
      "20608  without sound, black and white & colour   \n",
      "\n",
      "                                         link  geographicNames  \\\n",
      "0                                        link  geographicNames   \n",
      "1         http://movingimage.nls.uk/film/0001          Glasgow   \n",
      "2         http://movingimage.nls.uk/film/0002          Glasgow   \n",
      "3         http://movingimage.nls.uk/film/0004        Edinburgh   \n",
      "4         http://movingimage.nls.uk/film/0005          Glasgow   \n",
      "...                                       ...              ...   \n",
      "20604  http://movingimage.nls.uk/film/UCS0210              NaN   \n",
      "20605  http://movingimage.nls.uk/film/UCS0211              NaN   \n",
      "20606  http://movingimage.nls.uk/film/UCS0212              NaN   \n",
      "20607  http://movingimage.nls.uk/film/UCS0213              NaN   \n",
      "20608  http://movingimage.nls.uk/film/UCS0214   Dunbartonshire   \n",
      "\n",
      "                                      contentType                mediaType  \\\n",
      "0                                     contentType                mediaType   \n",
      "1      two-dimensional moving image -- rdacontent  unspecified -- rdamedia   \n",
      "2      two-dimensional moving image -- rdacontent  unspecified -- rdamedia   \n",
      "3      two-dimensional moving image -- rdacontent  unspecified -- rdamedia   \n",
      "4      two-dimensional moving image -- rdacontent  unspecified -- rdamedia   \n",
      "...                                           ...                      ...   \n",
      "20604  two-dimensional moving image -- rdacontent  unspecified -- rdamedia   \n",
      "20605  two-dimensional moving image -- rdacontent  unspecified -- rdamedia   \n",
      "20606  two-dimensional moving image -- rdacontent  unspecified -- rdamedia   \n",
      "20607  two-dimensional moving image -- rdacontent  unspecified -- rdamedia   \n",
      "20608  two-dimensional moving image -- rdacontent  unspecified -- rdamedia   \n",
      "\n",
      "                      carrierType                            generalNote  \\\n",
      "0                     carrierType                            generalNote   \n",
      "1      unspecified  -- rdacarrier          ['non-fiction; documentary ']   \n",
      "2      unspecified  -- rdacarrier  ['non-fiction; documentary amateur ']   \n",
      "3      unspecified  -- rdacarrier              ['non-fiction; amateur ']   \n",
      "4      unspecified  -- rdacarrier            ['non-fiction; sponsored ']   \n",
      "...                           ...                                    ...   \n",
      "20604  unspecified  -- rdacarrier                        ['non-fiction']   \n",
      "20605  unspecified  -- rdacarrier                        ['non-fiction']   \n",
      "20606  unspecified  -- rdacarrier                        ['non-fiction']   \n",
      "20607  unspecified  -- rdacarrier            ['non-fiction; technical ']   \n",
      "20608  unspecified  -- rdacarrier            ['non-fiction; technical ']   \n",
      "\n",
      "                                               thumbnail  \n",
      "0                                              thumbnail  \n",
      "1                                                    NaN  \n",
      "2      http://deriv.nls.uk/dcn19/1358/3808/135838082....  \n",
      "3         http://deriv.nls.uk/dcn19/7524/75247309.19.jpg  \n",
      "4                                                    NaN  \n",
      "...                                                  ...  \n",
      "20604                                                NaN  \n",
      "20605                                                NaN  \n",
      "20606                                                NaN  \n",
      "20607                                                NaN  \n",
      "20608                                                NaN  \n",
      "\n",
      "[20609 rows x 17 columns]\n"
     ]
    }
   ],
   "source": [
    "\n",
    "df = pd.read_csv ('../data/output/movingImageArchive.csv', names=('title','author','authorOrganisation','place_publication',\n",
    "                             'date','extent','credits',\\\n",
    "                             'subjects','summary','details','link','geographicNames',\\\n",
    "                             'contentType','mediaType','carrierType','generalNote','thumbnail'))\n",
    "print(df)\n",
    "df = df.reset_index()  # make sure indexes pair with number of rows"
   ]
  },
  {
   "cell_type": "code",
   "execution_count": 6,
   "id": "f10d23f0",
   "metadata": {},
   "outputs": [],
   "source": [
    "for index, row in df.iterrows():\n",
    "    if index != 0:\n",
    "        video = URIRef(domain + row[\"link\"].replace(\"http://movingimage.nls.uk/\",\"\").replace(\" \",\"\").strip())\n",
    "        g.add((video, RDF.type, URIRef(\"https://schema.org/VideoObject\")))\n",
    "        g.add((video, schema.sourceOrganization, nls))\n",
    "        \n",
    "        if pd.notnull(row[\"title\"]):\n",
    "            g.add((video, DC.title, Literal(row[\"title\"].strip())))\n",
    "            g.add((video, schema.name, Literal(row[\"title\"].strip())))\n",
    "        \n",
    "        if pd.notnull(row[\"extent\"]):\n",
    "            g.add((video, schema.duration, Literal(row[\"extent\"].strip())))\n",
    "            \n",
    "        if pd.notnull(row[\"thumbnail\"]):\n",
    "            g.add((video, schema.thumbnail, URIRef(row[\"thumbnail\"].strip())))\n",
    "        \n",
    "        if pd.notnull(row[\"credits\"]):\n",
    "            g.add((video, schema.creditText, Literal(row[\"credits\"].strip())))\n",
    "            \n",
    "        if pd.notnull(row[\"summary\"]):\n",
    "            g.add((video, schema.abstract, Literal(row[\"summary\"].strip())))\n",
    "            \n",
    "        if pd.notnull(row[\"details\"]):\n",
    "            g.add((video, schema.videoQuality, Literal(row[\"details\"].strip())))\n",
    "            \n",
    "        if pd.notnull(row[\"date\"]):\n",
    "            g.add((video, schema.datePublished, Literal(row[\"date\"].strip())))\n",
    "            g.add((video, DC.date, Literal(row[\"date\"].strip())))\n",
    "            \n",
    "        if pd.notnull(row[\"link\"]):\n",
    "            g.add((video, schema.identifier, URIRef(row[\"link\"].replace(\" - du\", \"\").strip())))\n",
    "            g.add((video, DC.identifier, URIRef(row[\"link\"].replace(\" - du\", \"\").strip())))\n",
    "        \n",
    "        if pd.notnull(row[\"subjects\"]):\n",
    "            subjects = row[\"subjects\"].split(\"--\")\n",
    "            for r in subjects:\n",
    "                g.add((video, DC.subject, Literal(r.strip())))\n",
    "                \n",
    "        if pd.notnull(row[\"geographicNames\"]):\n",
    "            geographicNames = row[\"geographicNames\"].split(\"--\")\n",
    "            for r in geographicNames:\n",
    "                r = r.replace(\",\",\"\")\n",
    "                r = r.replace(\" \",\"\")\n",
    "                place = URIRef(domain + 'location/' + r.lower().strip())\n",
    "                \n",
    "                g.add((video, DCTERMS.spatial, place))\n",
    "                g.add((place, RDF.type, schema.Place))\n",
    "                g.add((place, RDF.type, edm.Place))\n",
    "                g.add((place, SKOS.prefLabel, Literal(r.strip())))\n",
    "                g.add((place, schema.name, Literal(r.strip())))\n",
    "                \n",
    "        if pd.notnull(row[\"author\"]):\n",
    "            authors = row[\"author\"].split(\"--\")\n",
    "            for r in authors:\n",
    "                authorText = r;\n",
    "               \n",
    "                if \"/\" in authorText:\n",
    "                    authorText = authorText[0:authorText.index(\"/\")]\n",
    "                authorText = authorText.lower().strip()\n",
    "                authorText = authorText.replace(\"’\", \"\")\n",
    "                authorText = authorText.replace(\".\", \"\")\n",
    "                authorText = authorText.replace(\"(\", \"\")\n",
    "                authorText = authorText.replace(\")\", \"\")\n",
    "                authorText = authorText.replace(\",\", \"\")\n",
    "                authorText = authorText.replace(\"‘\", \"\")\n",
    "                authorText = authorText.replace(\" \", \"\")\n",
    "                author = URIRef(domain + 'author/' + authorText)\n",
    "                \n",
    "                g.add((video, schema.author, author))\n",
    "                g.add((author, RDF.type, schema.Person))\n",
    "                g.add((author, RDF.type, FOAF.Person))\n",
    "                g.add((author, SKOS.prefLabel, Literal(r.strip())))\n",
    "                g.add((author, schema.name, Literal(r.strip())))\n",
    "                g.add((author, FOAF.name, Literal(r.strip())))\n",
    "\n",
    "        if pd.notnull(row[\"authorOrganisation\"]) :\n",
    "            authors = row[\"authorOrganisation\"].split(\"--\")\n",
    "            for r in authors:\n",
    "                authorText = r;\n",
    "               \n",
    "                if \"/\" in authorText:\n",
    "                    authorText = authorText[0:authorText.index(\"/\")]\n",
    "\n",
    "                authorText = authorText.replace(\"’\", \"\")\n",
    "                authorText = authorText.replace(\".\", \"\")\n",
    "                authorText = authorText.replace(\"(\", \"\")\n",
    "                authorText = authorText.replace(\")\", \"\")\n",
    "                authorText = authorText.replace(\",\", \"\")\n",
    "                authorText = authorText.replace(\"‘\", \"\")\n",
    "                authorText = authorText.replace(\" \", \"\")\n",
    "                author = URIRef(domain + 'organization/' + authorText.lower())\n",
    "                \n",
    "                g.add((video, schema.author, author))\n",
    "                g.add((author, RDF.type, schema.Organization))\n",
    "                g.add((author, RDF.type, FOAF.Organization))\n",
    "                g.add((author, SKOS.prefLabel, Literal(r.strip())))\n",
    "                g.add((author, schema.name, Literal(r.strip())))\n",
    "                g.add((author, FOAF.name, Literal(r.strip())))"
   ]
  },
  {
   "cell_type": "code",
   "execution_count": 7,
   "id": "97fe99a4",
   "metadata": {},
   "outputs": [
    {
     "data": {
      "text/plain": [
       "<Graph identifier=N24baaa86af1b4d2199fbfdcc3b567d05 (<class 'rdflib.graph.Graph'>)>"
      ]
     },
     "execution_count": 7,
     "metadata": {},
     "output_type": "execute_result"
    }
   ],
   "source": [
    "g.serialize(destination=\"../rdf/dataset.ttl\")"
   ]
  }
 ],
 "metadata": {
  "kernelspec": {
   "display_name": "Python 3",
   "language": "python",
   "name": "python3"
  },
  "language_info": {
   "codemirror_mode": {
    "name": "ipython",
    "version": 3
   },
   "file_extension": ".py",
   "mimetype": "text/x-python",
   "name": "python",
   "nbconvert_exporter": "python",
   "pygments_lexer": "ipython3",
   "version": "3.9.12"
  }
 },
 "nbformat": 4,
 "nbformat_minor": 5
}
